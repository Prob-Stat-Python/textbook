{
  "nbformat": 4,
  "nbformat_minor": 0,
  "metadata": {
    "colab": {
      "name": "2)_Random_Variables.ipynb",
      "provenance": []
    },
    "kernelspec": {
      "display_name": "Python 3",
      "language": "python",
      "name": "python3"
    },
    "language_info": {
      "codemirror_mode": {
        "name": "ipython",
        "version": 3
      },
      "file_extension": ".py",
      "mimetype": "text/x-python",
      "name": "python",
      "nbconvert_exporter": "python",
      "pygments_lexer": "ipython3",
      "version": "3.7.6"
    }
  },
  "cells": [
    {
      "cell_type": "markdown",
      "metadata": {
        "colab_type": "text",
        "id": "3xG4g-yFKnhm"
      },
      "source": [
        "# 2) Random Variables"
      ]
    },
    {
      "cell_type": "markdown",
      "metadata": {
        "colab_type": "text",
        "id": "q-cWOMku-lx_"
      },
      "source": [
        "Vitor Kamada\n",
        "\n",
        "econometrics.methods@gmail.com\n",
        "\n",
        "Last updated 7-18-2020"
      ]
    },
    {
      "cell_type": "markdown",
      "metadata": {
        "colab_type": "text",
        "id": "JX0o6kS_g2mP"
      },
      "source": [
        "#### 2.1) What is a random variable?"
      ]
    },
    {
      "cell_type": "markdown",
      "metadata": {
        "colab_type": "text",
        "id": "-ABczChsiUmx"
      },
      "source": [
        "It is a statistical model that describes uncertain outcome of a random process. \n",
        "\n",
        "Let's model stock price as a random variable X:"
      ]
    },
    {
      "cell_type": "code",
      "metadata": {
        "colab_type": "code",
        "id": "q2PQ_0WH5F-u",
        "colab": {
          "base_uri": "https://localhost:8080/",
          "height": 142
        },
        "outputId": "759a77d5-8e73-493b-8757-9c8149a8604a"
      },
      "source": [
        "stock = ['Increases', 'Stays same','Decreases']\n",
        "x = [10, 0, -9]\n",
        "prob = [0.3, 0.5, 0.2]\n",
        "table = {'Stock Price':stock, 'x': x, 'P(X=x)':prob }\n",
        "import pandas as pd\n",
        "X = pd.DataFrame(table)\n",
        "X"
      ],
      "execution_count": null,
      "outputs": [
        {
          "output_type": "execute_result",
          "data": {
            "text/html": [
              "<div>\n",
              "<style scoped>\n",
              "    .dataframe tbody tr th:only-of-type {\n",
              "        vertical-align: middle;\n",
              "    }\n",
              "\n",
              "    .dataframe tbody tr th {\n",
              "        vertical-align: top;\n",
              "    }\n",
              "\n",
              "    .dataframe thead th {\n",
              "        text-align: right;\n",
              "    }\n",
              "</style>\n",
              "<table border=\"1\" class=\"dataframe\">\n",
              "  <thead>\n",
              "    <tr style=\"text-align: right;\">\n",
              "      <th></th>\n",
              "      <th>Stock Price</th>\n",
              "      <th>x</th>\n",
              "      <th>P(X=x)</th>\n",
              "    </tr>\n",
              "  </thead>\n",
              "  <tbody>\n",
              "    <tr>\n",
              "      <th>0</th>\n",
              "      <td>Increases</td>\n",
              "      <td>10</td>\n",
              "      <td>0.3</td>\n",
              "    </tr>\n",
              "    <tr>\n",
              "      <th>1</th>\n",
              "      <td>Stays same</td>\n",
              "      <td>0</td>\n",
              "      <td>0.5</td>\n",
              "    </tr>\n",
              "    <tr>\n",
              "      <th>2</th>\n",
              "      <td>Decreases</td>\n",
              "      <td>-9</td>\n",
              "      <td>0.2</td>\n",
              "    </tr>\n",
              "  </tbody>\n",
              "</table>\n",
              "</div>"
            ],
            "text/plain": [
              "  Stock Price   x  P(X=x)\n",
              "0   Increases  10     0.3\n",
              "1  Stays same   0     0.5\n",
              "2   Decreases  -9     0.2"
            ]
          },
          "metadata": {
            "tags": []
          },
          "execution_count": 2
        }
      ]
    },
    {
      "cell_type": "markdown",
      "metadata": {
        "colab_type": "text",
        "id": "S4L4ihVq5JmT"
      },
      "source": [
        "The capital \"X\" stands for the random variable; whereas the lower case \"x\" indicates the possible outcomes (10, 0, -9). The statement $P(X=x_i)$ means the probability of the outcome $x_i$. For example, $P(X=x_0) = P(X=10) = 0.3$."
      ]
    },
    {
      "cell_type": "markdown",
      "metadata": {
        "colab_type": "text",
        "id": "aVp5JdjwsPgS"
      },
      "source": [
        "#### 2.2) How to calculate the expected value of a random variable X, denoted by E(X)?"
      ]
    },
    {
      "cell_type": "markdown",
      "metadata": {
        "colab_type": "text",
        "id": "VDLxIGPls18q"
      },
      "source": [
        "Expected value is a weighted average that uses probabilities to weight the possible outcomes.\n",
        "\n",
        "Let's calculate the mean ($\\mu$) or expected value of the previous example random variable (X):\n",
        "\n",
        "$$ \\mu = E(X) = \\sum_{i=0}^{n} x_iP(X=x_i) $$\n",
        "\n",
        "$$ x_0P(X=x_0)+...+x_nP(X=x_n)$$\n",
        "\n",
        "$$ 10*0.3+0*0.5-9*0.2$$\n",
        "\n",
        "$$ 3+0-1.8 = 1.2$$\n",
        "\n",
        "Therefore, the average return of this stock X is $1.2.\n",
        "\n",
        "Let's show the calculations step by step:"
      ]
    },
    {
      "cell_type": "code",
      "metadata": {
        "colab_type": "code",
        "id": "FDltDYfx2ud-",
        "colab": {
          "base_uri": "https://localhost:8080/",
          "height": 142
        },
        "outputId": "9bb2ac33-2010-4d87-8a32-6687a92c28db"
      },
      "source": [
        "X['x*P(X=x)'] = X['x']*X['P(X=x)']\n",
        "X"
      ],
      "execution_count": null,
      "outputs": [
        {
          "output_type": "execute_result",
          "data": {
            "text/html": [
              "<div>\n",
              "<style scoped>\n",
              "    .dataframe tbody tr th:only-of-type {\n",
              "        vertical-align: middle;\n",
              "    }\n",
              "\n",
              "    .dataframe tbody tr th {\n",
              "        vertical-align: top;\n",
              "    }\n",
              "\n",
              "    .dataframe thead th {\n",
              "        text-align: right;\n",
              "    }\n",
              "</style>\n",
              "<table border=\"1\" class=\"dataframe\">\n",
              "  <thead>\n",
              "    <tr style=\"text-align: right;\">\n",
              "      <th></th>\n",
              "      <th>Stock Price</th>\n",
              "      <th>x</th>\n",
              "      <th>P(X=x)</th>\n",
              "      <th>x*P(X=x)</th>\n",
              "    </tr>\n",
              "  </thead>\n",
              "  <tbody>\n",
              "    <tr>\n",
              "      <th>0</th>\n",
              "      <td>Increases</td>\n",
              "      <td>10</td>\n",
              "      <td>0.3</td>\n",
              "      <td>3.0</td>\n",
              "    </tr>\n",
              "    <tr>\n",
              "      <th>1</th>\n",
              "      <td>Stays same</td>\n",
              "      <td>0</td>\n",
              "      <td>0.5</td>\n",
              "      <td>0.0</td>\n",
              "    </tr>\n",
              "    <tr>\n",
              "      <th>2</th>\n",
              "      <td>Decreases</td>\n",
              "      <td>-9</td>\n",
              "      <td>0.2</td>\n",
              "      <td>-1.8</td>\n",
              "    </tr>\n",
              "  </tbody>\n",
              "</table>\n",
              "</div>"
            ],
            "text/plain": [
              "  Stock Price   x  P(X=x)  x*P(X=x)\n",
              "0   Increases  10     0.3       3.0\n",
              "1  Stays same   0     0.5       0.0\n",
              "2   Decreases  -9     0.2      -1.8"
            ]
          },
          "metadata": {
            "tags": []
          },
          "execution_count": 3
        }
      ]
    },
    {
      "cell_type": "markdown",
      "metadata": {
        "colab_type": "text",
        "id": "DCNEeZPR7AuD"
      },
      "source": [
        "Sum up the rows of 'x*P(X=x)':"
      ]
    },
    {
      "cell_type": "code",
      "metadata": {
        "colab_type": "code",
        "id": "zOZGp-Bh6zIW",
        "colab": {
          "base_uri": "https://localhost:8080/",
          "height": 34
        },
        "outputId": "ab78ac9b-1525-42f7-deea-928960bfa518"
      },
      "source": [
        "sum(X['x*P(X=x)'])"
      ],
      "execution_count": null,
      "outputs": [
        {
          "output_type": "execute_result",
          "data": {
            "text/plain": [
              "1.2"
            ]
          },
          "metadata": {
            "tags": []
          },
          "execution_count": 4
        }
      ]
    },
    {
      "cell_type": "markdown",
      "metadata": {
        "colab_type": "text",
        "id": "F1c7PWMZ3svM"
      },
      "source": [
        "#### 2.3) How to calculate the variance of X, denoted by Var(X)?"
      ]
    },
    {
      "cell_type": "markdown",
      "metadata": {
        "colab_type": "text",
        "id": "4wljk7iyrUyY"
      },
      "source": [
        "The variance of a random variable X is the expected value of the squared deviation from its mean $\\mu$:\n",
        "\n",
        "$$ \\sigma^2=E[(X-\\mu)^2] = Var(X)$$\n",
        "\n",
        "$$ \\sum_{i=0}^{n} (x_i - \\mu)^2 P(X=x_i) $$\n",
        "\n",
        "$$  (x_0 - \\mu)^2 P(X=x_0)+...+(x_n - \\mu)^2 P(X=x_n)   $$\n",
        "\n",
        "$$ 77.44*0.3+1.44*0.5+104.04*0.2 $$\n",
        "\n",
        "$$ 23.232 + 0.720 + 20.808 $$\n",
        "\n",
        "$$ 44.76$$"
      ]
    },
    {
      "cell_type": "code",
      "metadata": {
        "colab_type": "code",
        "id": "g92JBJ35rHML",
        "colab": {
          "base_uri": "https://localhost:8080/",
          "height": 142
        },
        "outputId": "d11abd7c-2d8f-4dc3-b42a-59afb19066b1"
      },
      "source": [
        "X['x-mu'] = X['x'] - sum(X['x*P(X=x)'])\n",
        "X['(x-mu)^2'] = X['x-mu']*X['x-mu']\n",
        "X['[(x-mu)^2]*P(X=x)'] =  X['(x-mu)^2']*X['P(X=x)']\n",
        "X"
      ],
      "execution_count": null,
      "outputs": [
        {
          "output_type": "execute_result",
          "data": {
            "text/html": [
              "<div>\n",
              "<style scoped>\n",
              "    .dataframe tbody tr th:only-of-type {\n",
              "        vertical-align: middle;\n",
              "    }\n",
              "\n",
              "    .dataframe tbody tr th {\n",
              "        vertical-align: top;\n",
              "    }\n",
              "\n",
              "    .dataframe thead th {\n",
              "        text-align: right;\n",
              "    }\n",
              "</style>\n",
              "<table border=\"1\" class=\"dataframe\">\n",
              "  <thead>\n",
              "    <tr style=\"text-align: right;\">\n",
              "      <th></th>\n",
              "      <th>Stock Price</th>\n",
              "      <th>x</th>\n",
              "      <th>P(X=x)</th>\n",
              "      <th>x*P(X=x)</th>\n",
              "      <th>x-mu</th>\n",
              "      <th>(x-mu)^2</th>\n",
              "      <th>[(x-mu)^2]*P(X=x)</th>\n",
              "    </tr>\n",
              "  </thead>\n",
              "  <tbody>\n",
              "    <tr>\n",
              "      <th>0</th>\n",
              "      <td>Increases</td>\n",
              "      <td>10</td>\n",
              "      <td>0.3</td>\n",
              "      <td>3.0</td>\n",
              "      <td>8.8</td>\n",
              "      <td>77.44</td>\n",
              "      <td>23.232</td>\n",
              "    </tr>\n",
              "    <tr>\n",
              "      <th>1</th>\n",
              "      <td>Stays same</td>\n",
              "      <td>0</td>\n",
              "      <td>0.5</td>\n",
              "      <td>0.0</td>\n",
              "      <td>-1.2</td>\n",
              "      <td>1.44</td>\n",
              "      <td>0.720</td>\n",
              "    </tr>\n",
              "    <tr>\n",
              "      <th>2</th>\n",
              "      <td>Decreases</td>\n",
              "      <td>-9</td>\n",
              "      <td>0.2</td>\n",
              "      <td>-1.8</td>\n",
              "      <td>-10.2</td>\n",
              "      <td>104.04</td>\n",
              "      <td>20.808</td>\n",
              "    </tr>\n",
              "  </tbody>\n",
              "</table>\n",
              "</div>"
            ],
            "text/plain": [
              "  Stock Price   x  P(X=x)  x*P(X=x)  x-mu  (x-mu)^2  [(x-mu)^2]*P(X=x)\n",
              "0   Increases  10     0.3       3.0   8.8     77.44             23.232\n",
              "1  Stays same   0     0.5       0.0  -1.2      1.44              0.720\n",
              "2   Decreases  -9     0.2      -1.8 -10.2    104.04             20.808"
            ]
          },
          "metadata": {
            "tags": []
          },
          "execution_count": 5
        }
      ]
    },
    {
      "cell_type": "code",
      "metadata": {
        "colab_type": "code",
        "id": "uLVAL8WCKZEB",
        "colab": {
          "base_uri": "https://localhost:8080/",
          "height": 34
        },
        "outputId": "69c48a7e-619d-4847-d988-0b6ca1c9269b"
      },
      "source": [
        "varX = sum(X['[(x-mu)^2]*P(X=x)'])\n",
        "varX"
      ],
      "execution_count": null,
      "outputs": [
        {
          "output_type": "execute_result",
          "data": {
            "text/plain": [
              "44.760000000000005"
            ]
          },
          "metadata": {
            "tags": []
          },
          "execution_count": 6
        }
      ]
    },
    {
      "cell_type": "markdown",
      "metadata": {
        "colab_type": "text",
        "id": "PR8NaVlgM2Uu"
      },
      "source": [
        "Variance is a measure of variability around the mean. It is hard to interpret 44.76, because the measurement unit is the square of the measurement unit (\\$) of the random variable."
      ]
    },
    {
      "cell_type": "markdown",
      "metadata": {
        "colab_type": "text",
        "id": "oodtbfINOXSA"
      },
      "source": [
        "#### 2.4) How to calculate the standard deviation of X, denoted by SD(X) or $\\sigma$?"
      ]
    },
    {
      "cell_type": "markdown",
      "metadata": {
        "colab_type": "text",
        "id": "-mbh7TUQrHfi"
      },
      "source": [
        "Standard Deviation is the square root of the variance.\n",
        "\n",
        "$$ \\sigma = \\sqrt{\\sigma^2}=\\sqrt{Var(X)}$$\n",
        "\n",
        "$$ \\sqrt{44.76} $$ \n",
        "\n",
        "$$ \\$6.7 $$"
      ]
    },
    {
      "cell_type": "code",
      "metadata": {
        "colab_type": "code",
        "id": "qglfn6n3iTs5",
        "colab": {
          "base_uri": "https://localhost:8080/",
          "height": 34
        },
        "outputId": "7260bed3-4e12-4268-87fe-74a2fd2bad60"
      },
      "source": [
        "sdX = varX**(1/2)\n",
        "sdX"
      ],
      "execution_count": null,
      "outputs": [
        {
          "output_type": "execute_result",
          "data": {
            "text/plain": [
              "6.690291473471093"
            ]
          },
          "metadata": {
            "tags": []
          },
          "execution_count": 7
        }
      ]
    },
    {
      "cell_type": "markdown",
      "metadata": {
        "colab_type": "text",
        "id": "hxwj75XRRIc4"
      },
      "source": [
        "The standard deviation, $\\sigma = 6.7$, has the same unit (\\$) of the random variable. Therefore, it is easy to interpret. \n",
        "\n",
        "One $\\sigma$ above the mean ($\\mu$) or below the mean ($\\mu$) is a very likely outcome.\n",
        "\n",
        "The standard deviation is a measure of variability around the mean. Bigger the number, bigger the variation.\n",
        "\n",
        " In Finance, it is a proxy for risk. You want to minimize risk ($\\sigma$) and maximize return ($\\mu$)."
      ]
    },
    {
      "cell_type": "markdown",
      "metadata": {
        "colab_type": "text",
        "id": "NdTX9NuDKLsF"
      },
      "source": [
        "#### 2.5) Prove that $E(cX) = cE(X)$, where c is a constant."
      ]
    },
    {
      "cell_type": "markdown",
      "metadata": {
        "colab_type": "text",
        "id": "X25OpQRciT-x"
      },
      "source": [
        "By definition:\n",
        "\n",
        "$$ E(X) = x_0p_0+x_1p_1+...+x_np_n$$\n",
        "\n",
        "Then:\n",
        "\n",
        "$$ E(cX) = cx_0p_0+cx_1p_1+...+cx_np_n$$\n",
        "\n",
        "$$  c(x_0p_0+x_1p_1+...+x_np_n)$$\n",
        "\n",
        "$$ cE(X)$$\n",
        "\n",
        "\n"
      ]
    },
    {
      "cell_type": "markdown",
      "metadata": {
        "colab_type": "text",
        "id": "ieexrAZWMLpV"
      },
      "source": [
        "#### 2.6) Prove that $Var(cX)=c^2Var(X)$, where c is a constant."
      ]
    },
    {
      "cell_type": "markdown",
      "metadata": {
        "colab_type": "text",
        "id": "AN6t9KaVMim_"
      },
      "source": [
        "By definition:\n",
        "\n",
        "$$ Var(X)=E[(X-\\mu_x)^2] $$\n",
        "\n",
        "Then:\n",
        "\n",
        "$$ Var(cX)=E[(cX-c\\mu_x)^2] $$\n",
        "\n",
        "$$ E[c^2(X-\\mu_x)^2] $$\n",
        "\n",
        "$$ c^2E[(X-\\mu_x)^2] $$\n",
        "\n",
        "$$ c^2Var(X) $$\n"
      ]
    },
    {
      "cell_type": "markdown",
      "metadata": {
        "colab_type": "text",
        "id": "iMkWpDPGOV3f"
      },
      "source": [
        "#### 2.7) Prove that $E(X+c)=E(X)+c$, where c is a constant.\n"
      ]
    },
    {
      "cell_type": "markdown",
      "metadata": {
        "colab_type": "text",
        "id": "Aw2D45ZlOWpb"
      },
      "source": [
        "$$ E(X+c) = (x_0+c)p_0+(x_1+c)p_1+...+(x_n+c)p_n$$\n",
        "\n",
        "$$  x_0p_0+cp_0+x_1p_1+cp_1...+x_np_n+cp_n$$\n",
        "\n",
        "$$  (x_0p_0+x_1p_1+...+x_np_n) + c(p_0+p_1+...+p_n)$$\n",
        "\n",
        "\n",
        "As probability must sum up to 1:\n",
        "\n",
        " $$ \\sum_{i=0}^{n}p_i=1 $$\n",
        "\n",
        "Then:\n",
        "\n",
        "$$ E(X) + c$$\n",
        "\n"
      ]
    },
    {
      "cell_type": "markdown",
      "metadata": {
        "colab_type": "text",
        "id": "N3bita8gSTUW"
      },
      "source": [
        "#### 2.8) Prove that $E(c)=c$, where c is constant."
      ]
    },
    {
      "cell_type": "markdown",
      "metadata": {
        "colab_type": "text",
        "id": "iILJMshTSpLq"
      },
      "source": [
        "By definition:\n",
        "$$ E(X) = x_0p_0+x_1p_1+...+x_np_n$$\n",
        "\n",
        "Then:\n",
        "\n",
        "$$ E(c) = cp_0+cp_1+...+cp_n$$\n",
        "\n",
        "$$ c(p_0+p_1+...+p_n)$$\n",
        "$$c$$"
      ]
    },
    {
      "cell_type": "markdown",
      "metadata": {
        "colab_type": "text",
        "id": "yQd1rvJ7UC1V"
      },
      "source": [
        "#### 2.9) Prove that $Var(c) = 0$, where c is a constant."
      ]
    },
    {
      "cell_type": "markdown",
      "metadata": {
        "colab_type": "text",
        "id": "hSKU6k4vUP4c"
      },
      "source": [
        "By definition:\n",
        "\n",
        "$$ Var(X)=E[(X-\\mu_x)^2] $$\n",
        "\n",
        "Then:\n",
        "\n",
        "$$ Var(c)=E[(c-\\mu_c)^2] $$\n",
        "\n",
        "$$ E[(c-c)^2] $$\n",
        "\n",
        "$$ E[(0)^2] $$\n",
        "\n",
        "$$0$$\n",
        "\n",
        "**Intuition:** By definition a constant has no variation.\n",
        "\n"
      ]
    },
    {
      "cell_type": "markdown",
      "metadata": {
        "colab_type": "text",
        "id": "QKZQTL-kzGQm"
      },
      "source": [
        "## Exercises"
      ]
    },
    {
      "cell_type": "markdown",
      "metadata": {
        "colab_type": "text",
        "id": "qeNcOAc0W414"
      },
      "source": [
        "1| Calculate the E(Y)."
      ]
    },
    {
      "cell_type": "code",
      "metadata": {
        "colab_type": "code",
        "id": "xZQKoYTCPdIt",
        "colab": {
          "base_uri": "https://localhost:8080/",
          "height": 142
        },
        "outputId": "25ba36df-c895-4e4c-bc7b-52a3fc5d62f5"
      },
      "source": [
        "stock = ['Increases', 'Stays same','Decreases']\n",
        "y = [5, 0, -3]\n",
        "prob = [0.4, 0.1, 0.5]\n",
        "table = {'Stock Price':stock, 'y': y, 'P(Y=y)':prob }\n",
        "import pandas as pd\n",
        "Y = pd.DataFrame(table)\n",
        "Y"
      ],
      "execution_count": null,
      "outputs": [
        {
          "output_type": "execute_result",
          "data": {
            "text/html": [
              "<div>\n",
              "<style scoped>\n",
              "    .dataframe tbody tr th:only-of-type {\n",
              "        vertical-align: middle;\n",
              "    }\n",
              "\n",
              "    .dataframe tbody tr th {\n",
              "        vertical-align: top;\n",
              "    }\n",
              "\n",
              "    .dataframe thead th {\n",
              "        text-align: right;\n",
              "    }\n",
              "</style>\n",
              "<table border=\"1\" class=\"dataframe\">\n",
              "  <thead>\n",
              "    <tr style=\"text-align: right;\">\n",
              "      <th></th>\n",
              "      <th>Stock Price</th>\n",
              "      <th>y</th>\n",
              "      <th>P(Y=y)</th>\n",
              "    </tr>\n",
              "  </thead>\n",
              "  <tbody>\n",
              "    <tr>\n",
              "      <th>0</th>\n",
              "      <td>Increases</td>\n",
              "      <td>5</td>\n",
              "      <td>0.4</td>\n",
              "    </tr>\n",
              "    <tr>\n",
              "      <th>1</th>\n",
              "      <td>Stays same</td>\n",
              "      <td>0</td>\n",
              "      <td>0.1</td>\n",
              "    </tr>\n",
              "    <tr>\n",
              "      <th>2</th>\n",
              "      <td>Decreases</td>\n",
              "      <td>-3</td>\n",
              "      <td>0.5</td>\n",
              "    </tr>\n",
              "  </tbody>\n",
              "</table>\n",
              "</div>"
            ],
            "text/plain": [
              "  Stock Price  y  P(Y=y)\n",
              "0   Increases  5     0.4\n",
              "1  Stays same  0     0.1\n",
              "2   Decreases -3     0.5"
            ]
          },
          "metadata": {
            "tags": []
          },
          "execution_count": 8
        }
      ]
    },
    {
      "cell_type": "markdown",
      "metadata": {
        "colab_type": "text",
        "id": "fP6WH182ZGSA"
      },
      "source": [
        "2| Calculate Var(Y)."
      ]
    },
    {
      "cell_type": "markdown",
      "metadata": {
        "colab_type": "text",
        "id": "qyEBb72RbA4v"
      },
      "source": [
        "3| Calculate the SD(Y)."
      ]
    },
    {
      "cell_type": "markdown",
      "metadata": {
        "colab_type": "text",
        "id": "urKmFvQKbS3n"
      },
      "source": [
        "4| Prove that $Var(X+c)=Var(X)$, where c is a constant."
      ]
    },
    {
      "cell_type": "markdown",
      "metadata": {
        "colab_type": "text",
        "id": "Qv3izRSaa6PZ"
      },
      "source": [
        "## Reference"
      ]
    },
    {
      "cell_type": "markdown",
      "metadata": {
        "colab_type": "text",
        "id": "jTCLmFEoa79O"
      },
      "source": [
        "Adhikari, A., Pitman, J. (2020). Probability for Data Science. [Link](http://prob140.org/textbook/README.html) \n",
        "\n",
        "Diez, D. M., Barr, C. D., Çetinkaya-Rundel, M. (2014). Introductory Statistics with Randomization and Simulation. [Link](https://www.openintro.org/stat/textbook.php?stat_book=isrs) \n",
        "\n",
        "Lau, S., Gonzalez, J., Nolan, D. (2020). Principles and Techniques of Data Science.  [Link]( https://www.textbook.ds100.org/intro) "
      ]
    }
  ]
}