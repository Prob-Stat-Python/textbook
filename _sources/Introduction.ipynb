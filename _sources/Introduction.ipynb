{
 "cells": [
  {
   "cell_type": "markdown",
   "metadata": {
    "colab_type": "text",
    "id": "3xG4g-yFKnhm"
   },
   "source": [
    "# Probability and Statistics with Python"
   ]
  },
  {
   "cell_type": "markdown",
   "metadata": {
    "colab_type": "text",
    "id": "q-cWOMku-lx_"
   },
   "source": [
    "By [Vitor Kamada](https://www.linkedin.com/in/vitor-kamada-1b73a078)\n",
    "\n",
    "E-mail: econometrics.methods@gmail.com\n",
    "\n",
    "Last updated 8-15-2020"
   ]
  },
  {
   "cell_type": "markdown",
   "metadata": {},
   "source": [
    "This [book](https://prob-stat-python.github.io/textbook) covers the main concepts of Probability and Statistics necessary to understand advanced methods in Econometrics, Data Science and Machine Learning. It was designed to provide the foundations for [Causal Inference with Python](https://causal-methods.github.io/Book\n",
    ")."
   ]
  },
  {
   "cell_type": "markdown",
   "metadata": {
    "colab_type": "text",
    "id": "lWweIrNZh54a"
   },
   "source": [
    "**YouTube Channels:**\n",
    "\n",
    "[**Python for Econometrics**](https://www.youtube.com/channel/UCzQyPlkRBYQ4iq8wqEAYo9Q)\n",
    "\n",
    "I recommend watching my introductory videos, if you have no experience with Python.\n",
    "\n",
    "[**1 min Statistics**](https://www.youtube.com/channel/UCrdPpsjVsT_ivSBCbY8yMww )\n",
    "\n",
    "Under my supervision, my students from Georgia Tech recorded videos that cover the content of this textbook.\n",
    "\n",
    "\n",
    "\n",
    "\n",
    "\n"
   ]
  },
  {
   "cell_type": "markdown",
   "metadata": {
    "colab_type": "text",
    "id": "39HT2e-4oD8B"
   },
   "source": [
    "**Material for Econometrics courses**\n",
    "\n",
    "Syllabi, Slides/Notes, Python and R code  from my Bachelor, Master, and PhD courses in Econometrics can be found in my [Github](https://github.com/VitorKamada).\n"
   ]
  }
 ],
 "metadata": {
  "colab": {
   "name": "Introduction.ipynb",
   "provenance": []
  },
  "kernelspec": {
   "display_name": "Python 3",
   "language": "python",
   "name": "python3"
  },
  "language_info": {
   "codemirror_mode": {
    "name": "ipython",
    "version": 3
   },
   "file_extension": ".py",
   "mimetype": "text/x-python",
   "name": "python",
   "nbconvert_exporter": "python",
   "pygments_lexer": "ipython3",
   "version": "3.7.6"
  }
 },
 "nbformat": 4,
 "nbformat_minor": 1
}
