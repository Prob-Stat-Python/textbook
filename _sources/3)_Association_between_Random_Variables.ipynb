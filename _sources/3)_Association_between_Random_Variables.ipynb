{
 "cells": [
  {
   "cell_type": "markdown",
   "metadata": {
    "colab_type": "text",
    "id": "3xG4g-yFKnhm"
   },
   "source": [
    "# 3) Association between Random Variables"
   ]
  },
  {
   "cell_type": "markdown",
   "metadata": {
    "colab_type": "text",
    "id": "q-cWOMku-lx_"
   },
   "source": [
    "Vitor Kamada\n",
    "\n",
    "econometrics.methods@gmail.com\n",
    "\n",
    "Last updated 7-18-2020"
   ]
  },
  {
   "cell_type": "markdown",
   "metadata": {
    "colab_type": "text",
    "id": "JX0o6kS_g2mP"
   },
   "source": [
    "#### 3.1) If \\$6000 is invested in Amazon, and \\$2000 in Intel, what is the expected return? "
   ]
  },
  {
   "cell_type": "markdown",
   "metadata": {
    "colab_type": "text",
    "id": "2-Ufv3wYnbHe"
   },
   "source": [
    " Suppose Amazon and Intel stocks have recently been rising 2.1% and 0.4% per month, respectively.\n",
    "\n",
    " Let's $Z$ be the portfolio composed by stocks X and Y:\n",
    "\n",
    " $$Z=aX+bY$$\n",
    " $$E(Z)=aE(X)+bE(Y)$$\n",
    "\n",
    "Then:\n",
    "\n",
    "$$E(6000X+2000Y)$$\n",
    "\n",
    "$$=6000(0.021)+2000(0.004)$$\n",
    "\n",
    "$$ =\\$134 $$\n"
   ]
  },
  {
   "cell_type": "markdown",
   "metadata": {
    "colab_type": "text",
    "id": "aVp5JdjwsPgS"
   },
   "source": [
    "#### 3.2) What is the variance of the portfolio Z?"
   ]
  },
  {
   "cell_type": "markdown",
   "metadata": {
    "colab_type": "text",
    "id": "VDLxIGPls18q"
   },
   "source": [
    "Based on previous question:\n",
    "\n",
    " $$Z=aX+bY$$\n",
    "$$Var(Z)=Var(aX+bY)$$\n",
    "\n",
    "If X and Y are independent:\n",
    "\n",
    "$$Var(aX+bY)=a^2Var(X)+b^2Var(Y)$$\n",
    "\n",
    " Suppose that the variance of Amazon and Intel stocks are respectively 0.72% and 0.27% per month.\n",
    "\n",
    "$$Var(6000X+2000Y)$$\n",
    "$$=6000^2(0.0072)+2000^2(0.0027)$$\n",
    "$$=270,000$$\n",
    "\n",
    "This value is hard to interpret, because the measurement unit is a square term."
   ]
  },
  {
   "cell_type": "markdown",
   "metadata": {
    "colab_type": "text",
    "id": "N1qPVOEKveKF"
   },
   "source": [
    "#### 3.3) What is the standard deviation of the portfolio Z?"
   ]
  },
  {
   "cell_type": "markdown",
   "metadata": {
    "colab_type": "text",
    "id": "GDkG6td0vrkh"
   },
   "source": [
    "$$SD(Z) = \\sqrt{Var(Z)}$$\n",
    "\n",
    "$$=\\sqrt{\\$^2270,000}$$\n",
    "\n",
    "$$ = \\$520 $$\n",
    "\n",
    "An outcome in the range of \\$520 above or below the expected return is very likely to occur."
   ]
  },
  {
   "cell_type": "markdown",
   "metadata": {
    "colab_type": "text",
    "id": "F1c7PWMZ3svM"
   },
   "source": [
    "#### 3.4) What is the covariance between Random Variables?"
   ]
  },
  {
   "cell_type": "markdown",
   "metadata": {
    "colab_type": "text",
    "id": "4g-Lbt7mx-iD"
   },
   "source": [
    "The covariance between random variables is the expected value of the product of deviations from the means.\n",
    "\n",
    "$$ \\sigma_{xy}= Cov(X,Y)=E[(X-\\mu_x)(Y-\\mu_y)]$$\n",
    "\n",
    "It is hard to interpret, because the units of random variables X and Y are multiplied."
   ]
  },
  {
   "cell_type": "markdown",
   "metadata": {
    "colab_type": "text",
    "id": "XkyQwLfF0Yu-"
   },
   "source": [
    "#### 3.5) What is $Cov(X,X)$?"
   ]
  },
  {
   "cell_type": "markdown",
   "metadata": {
    "colab_type": "text",
    "id": "2E1moqNO0i_q"
   },
   "source": [
    "By definition:\n",
    "\n",
    "$$ Cov(X,Y)=E[(X-\\mu_x)(Y-\\mu_y)]$$\n",
    "\n",
    "Then:\n",
    "\n",
    "$$ Cov(X,X)=E[(X-\\mu_x)(X-\\mu_x)]$$\n",
    "\n",
    "$$ =E[(X-\\mu_x)^2] $$\n",
    "\n",
    "$$ =Var(X) $$\n",
    "\n",
    "Therefore, variance is a special case of covariance."
   ]
  },
  {
   "cell_type": "markdown",
   "metadata": {
    "colab_type": "text",
    "id": "S9iRedcU6cxX"
   },
   "source": [
    "#### 3.6) Show that $Cov(X,Y)=E(XY)-\\mu_x\\mu_y$."
   ]
  },
  {
   "cell_type": "markdown",
   "metadata": {
    "colab_type": "text",
    "id": "LP6GbLn06yCZ"
   },
   "source": [
    "By definition:\n",
    "\n",
    "$$ Cov(X,Y)=E[(X-\\mu_x)(Y-\\mu_y)]$$\n",
    "\n",
    "Then:\n",
    "\n",
    "$$=E(XY-X\\mu_y-\\mu_xY +\\mu_x\\mu_y)$$\n",
    "\n",
    "$$=E(XY)-\\mu_yE(X)-\\mu_xE(Y) +\\mu_x\\mu_y$$\n",
    "\n",
    "$$=E(XY)-\\mu_x\\mu_y-\\mu_x\\mu_y +\\mu_x\\mu_y$$\n",
    "\n",
    "$$=E(XY)-\\mu_x\\mu_y$$"
   ]
  },
  {
   "cell_type": "markdown",
   "metadata": {
    "colab_type": "text",
    "id": "_BSGLhje8vQp"
   },
   "source": [
    "#### 3.7) Prove that if $X$ and $Y$ are independent, then $Cov(X,Y)=0$."
   ]
  },
  {
   "cell_type": "markdown",
   "metadata": {
    "colab_type": "text",
    "id": "D_iZWGoS9aDT"
   },
   "source": [
    " Remember the definition of two independent events A and B:\n",
    " \n",
    " $$ P(A\\cap B) = P(A) \\cdot P(B) $$ \n",
    "\n",
    " If $X$ and $Y$ are independent random variables, then:\n",
    "\n",
    " $$E(XY)= E(X) \\cdot E(Y)$$\n",
    "\n",
    "\n",
    " From previous question:\n",
    "\n",
    " $$Cov(X,Y)=E(XY)-\\mu_x\\mu_y$$\n",
    "\n",
    " $$ = E(X) \\cdot E(Y)-\\mu_x\\mu_y$$\n",
    "\n",
    " $$ =\\mu_x\\mu_y-\\mu_x\\mu_y$$\n",
    " $$ 0$$\n",
    "\n",
    " **Intuition**: If X and Y are independent random variables, knowledge or information of random variable X doesn't help in predicting the outcome of random variable Y, and vice-versa. Therefore, there is no linear association between these two variables: $Cov(X,Y)=0$. \n"
   ]
  },
  {
   "cell_type": "markdown",
   "metadata": {
    "colab_type": "text",
    "id": "NdTX9NuDKLsF"
   },
   "source": [
    "#### 3.8) Show that $Var(X+Y)=Var(X)+Var(Y)+2Cov(X,Y)$."
   ]
  },
  {
   "cell_type": "markdown",
   "metadata": {
    "colab_type": "text",
    "id": "AN6t9KaVMim_"
   },
   "source": [
    "By definition:\n",
    "\n",
    "$$ Var(X)=E[(X-\\mu_x)^2] $$\n",
    "\n",
    "Then:\n",
    "\n",
    "$$ Var(X+Y)=E[(X+Y-\\mu_x-\\mu_y)^2] $$\n",
    "\n",
    "$$ =E[(X-\\mu_x+Y-\\mu_y)^2] $$\n",
    "\n",
    "$$ =E[(X-\\mu_x)^2+(Y-\\mu_y)^2 +2(X-\\mu_x)(Y-\\mu_y)] $$\n",
    "\n",
    "$$ =E[(X-\\mu_x)^2]+E[(Y-\\mu_y)^2] +2E[(X-\\mu_x)(Y-\\mu_y)] $$\n",
    "\n",
    " $$=Var(X)+Var(Y)+2Cov(X,Y)$$\n"
   ]
  },
  {
   "cell_type": "markdown",
   "metadata": {
    "colab_type": "text",
    "id": "PR_3Mb0fTdhU"
   },
   "source": [
    "#### 3.9) What is correlation, $\\rho$?"
   ]
  },
  {
   "cell_type": "markdown",
   "metadata": {
    "colab_type": "text",
    "id": "WfDqwfL5To_h"
   },
   "source": [
    "The correlation is the covariance divided by the product of standard deviations:\n",
    "\n",
    "$$ \\rho = \\frac{Cov(X,Y)}{\\sqrt{Var(X)\\cdot Var(Y)}} =\\frac{\\sigma_{xy}}{\\sigma_x \\sigma_y} $$\n",
    "\n",
    "The correlation is easy to interpret. It ranges from -1 to +1. \n",
    "\n",
    "$$ -1 \\leq \\rho \\leq 1 $$\n",
    "\n",
    "It is unit free. The units from covariance are removed by the division of the product of standard deviations."
   ]
  },
  {
   "cell_type": "markdown",
   "metadata": {
    "colab_type": "text",
    "id": "xnaTcEXhYoXf"
   },
   "source": [
    "#### 3.10) If $X$ and $Y$ are uncorrelated ($\\rho =0$), it is possible to conclude that $X$ and $Y$ are independent?"
   ]
  },
  {
   "cell_type": "markdown",
   "metadata": {
    "colab_type": "text",
    "id": "yBXeeY--xd5L"
   },
   "source": [
    "Suppose that the joint probability distribution,  $P(X,Y)$, is given by the table below."
   ]
  },
  {
   "cell_type": "markdown",
   "metadata": {},
   "source": [
    "![alt text](https://github.com/causal-methods/Data/raw/master/figures/JointProb.PNG)"
   ]
  },
  {
   "cell_type": "markdown",
   "metadata": {
    "colab_type": "text",
    "id": "nt31xhYzy1Q9"
   },
   "source": [
    "The random variables X and Y are independent if:\n",
    "\n",
    "$$P(X,Y)=P(X)\\cdot P(Y)$$\n",
    "\n",
    "$P(X=10, Y=0)=1/2$\n",
    "\n",
    "$P(X=10) = 0+\\frac{1}{2} +0$\n",
    "\n",
    "$P(Y=0) = \\frac{1}{2} + 0$\n",
    "\n",
    "Therefore, X and Y are dependent:\n",
    "\n",
    "$$P(X=10,Y=0)\\neq P(X=10)\\cdot P(Y=0)$$\n",
    "\n",
    "$$\\frac{1}{2} \\neq \\frac{1}{4} $$"
   ]
  },
  {
   "cell_type": "markdown",
   "metadata": {
    "colab_type": "text",
    "id": "Rk0puPUyZVLO"
   },
   "source": [
    "Let's convert the table in a format useful for calculations:"
   ]
  },
  {
   "cell_type": "code",
   "execution_count": 13,
   "metadata": {
    "colab": {
     "base_uri": "https://localhost:8080/",
     "height": 235
    },
    "colab_type": "code",
    "id": "sLziqcVFZbZd",
    "outputId": "19d12e55-a120-41c1-83b2-78adc1a0ca63"
   },
   "outputs": [
    {
     "data": {
      "text/html": [
       "<div>\n",
       "<style scoped>\n",
       "    .dataframe tbody tr th:only-of-type {\n",
       "        vertical-align: middle;\n",
       "    }\n",
       "\n",
       "    .dataframe tbody tr th {\n",
       "        vertical-align: top;\n",
       "    }\n",
       "\n",
       "    .dataframe thead th {\n",
       "        text-align: right;\n",
       "    }\n",
       "</style>\n",
       "<table border=\"1\" class=\"dataframe\">\n",
       "  <thead>\n",
       "    <tr style=\"text-align: right;\">\n",
       "      <th></th>\n",
       "      <th>x</th>\n",
       "      <th>y</th>\n",
       "      <th>P</th>\n",
       "    </tr>\n",
       "  </thead>\n",
       "  <tbody>\n",
       "    <tr>\n",
       "      <th>0</th>\n",
       "      <td>10</td>\n",
       "      <td>-10</td>\n",
       "      <td>0.00</td>\n",
       "    </tr>\n",
       "    <tr>\n",
       "      <th>1</th>\n",
       "      <td>10</td>\n",
       "      <td>0</td>\n",
       "      <td>0.50</td>\n",
       "    </tr>\n",
       "    <tr>\n",
       "      <th>2</th>\n",
       "      <td>10</td>\n",
       "      <td>10</td>\n",
       "      <td>0.00</td>\n",
       "    </tr>\n",
       "    <tr>\n",
       "      <th>3</th>\n",
       "      <td>-10</td>\n",
       "      <td>-10</td>\n",
       "      <td>0.25</td>\n",
       "    </tr>\n",
       "    <tr>\n",
       "      <th>4</th>\n",
       "      <td>-10</td>\n",
       "      <td>0</td>\n",
       "      <td>0.00</td>\n",
       "    </tr>\n",
       "    <tr>\n",
       "      <th>5</th>\n",
       "      <td>-10</td>\n",
       "      <td>10</td>\n",
       "      <td>0.25</td>\n",
       "    </tr>\n",
       "  </tbody>\n",
       "</table>\n",
       "</div>"
      ],
      "text/plain": [
       "    x   y     P\n",
       "0  10 -10  0.00\n",
       "1  10   0  0.50\n",
       "2  10  10  0.00\n",
       "3 -10 -10  0.25\n",
       "4 -10   0  0.00\n",
       "5 -10  10  0.25"
      ]
     },
     "execution_count": 13,
     "metadata": {},
     "output_type": "execute_result"
    }
   ],
   "source": [
    "x = [10, 10, 10, -10, -10, -10]\n",
    "y = [-10, 0, 10, -10, 0, 10]\n",
    "probXY = [0, 1/2, 0, 1/4, 0, 1/4]\n",
    "\n",
    "dictionary = {'x': x, 'y': y, 'P':probXY }\n",
    "import pandas as pd\n",
    "table = pd.DataFrame(dictionary)\n",
    "table"
   ]
  },
  {
   "cell_type": "markdown",
   "metadata": {
    "colab_type": "text",
    "id": "c1uLlgZZu7S_"
   },
   "source": [
    "We calculated that $\\mu_x=0$, and $\\mu_y=0$."
   ]
  },
  {
   "cell_type": "code",
   "execution_count": 14,
   "metadata": {
    "colab": {
     "base_uri": "https://localhost:8080/",
     "height": 235
    },
    "colab_type": "code",
    "id": "LpWQYmCCp8y-",
    "outputId": "774aaccb-bb8d-46f1-d714-ebaaba59a858"
   },
   "outputs": [
    {
     "data": {
      "text/html": [
       "<div>\n",
       "<style scoped>\n",
       "    .dataframe tbody tr th:only-of-type {\n",
       "        vertical-align: middle;\n",
       "    }\n",
       "\n",
       "    .dataframe tbody tr th {\n",
       "        vertical-align: top;\n",
       "    }\n",
       "\n",
       "    .dataframe thead th {\n",
       "        text-align: right;\n",
       "    }\n",
       "</style>\n",
       "<table border=\"1\" class=\"dataframe\">\n",
       "  <thead>\n",
       "    <tr style=\"text-align: right;\">\n",
       "      <th></th>\n",
       "      <th>x</th>\n",
       "      <th>y</th>\n",
       "      <th>P</th>\n",
       "      <th>x*P</th>\n",
       "      <th>y*P</th>\n",
       "    </tr>\n",
       "  </thead>\n",
       "  <tbody>\n",
       "    <tr>\n",
       "      <th>0</th>\n",
       "      <td>10</td>\n",
       "      <td>-10</td>\n",
       "      <td>0.00</td>\n",
       "      <td>0.0</td>\n",
       "      <td>-0.0</td>\n",
       "    </tr>\n",
       "    <tr>\n",
       "      <th>1</th>\n",
       "      <td>10</td>\n",
       "      <td>0</td>\n",
       "      <td>0.50</td>\n",
       "      <td>5.0</td>\n",
       "      <td>0.0</td>\n",
       "    </tr>\n",
       "    <tr>\n",
       "      <th>2</th>\n",
       "      <td>10</td>\n",
       "      <td>10</td>\n",
       "      <td>0.00</td>\n",
       "      <td>0.0</td>\n",
       "      <td>0.0</td>\n",
       "    </tr>\n",
       "    <tr>\n",
       "      <th>3</th>\n",
       "      <td>-10</td>\n",
       "      <td>-10</td>\n",
       "      <td>0.25</td>\n",
       "      <td>-2.5</td>\n",
       "      <td>-2.5</td>\n",
       "    </tr>\n",
       "    <tr>\n",
       "      <th>4</th>\n",
       "      <td>-10</td>\n",
       "      <td>0</td>\n",
       "      <td>0.00</td>\n",
       "      <td>-0.0</td>\n",
       "      <td>0.0</td>\n",
       "    </tr>\n",
       "    <tr>\n",
       "      <th>5</th>\n",
       "      <td>-10</td>\n",
       "      <td>10</td>\n",
       "      <td>0.25</td>\n",
       "      <td>-2.5</td>\n",
       "      <td>2.5</td>\n",
       "    </tr>\n",
       "  </tbody>\n",
       "</table>\n",
       "</div>"
      ],
      "text/plain": [
       "    x   y     P  x*P  y*P\n",
       "0  10 -10  0.00  0.0 -0.0\n",
       "1  10   0  0.50  5.0  0.0\n",
       "2  10  10  0.00  0.0  0.0\n",
       "3 -10 -10  0.25 -2.5 -2.5\n",
       "4 -10   0  0.00 -0.0  0.0\n",
       "5 -10  10  0.25 -2.5  2.5"
      ]
     },
     "execution_count": 14,
     "metadata": {},
     "output_type": "execute_result"
    }
   ],
   "source": [
    "table['x*P'] = table['x']*table['P']\n",
    "table['y*P'] = table['y']*table['P']\n",
    "table"
   ]
  },
  {
   "cell_type": "code",
   "execution_count": 15,
   "metadata": {
    "colab": {
     "base_uri": "https://localhost:8080/",
     "height": 34
    },
    "colab_type": "code",
    "id": "HK590rg4q2qW",
    "outputId": "1a77a90f-8c3b-468d-815c-621e49da104e"
   },
   "outputs": [
    {
     "data": {
      "text/plain": [
       "0.0"
      ]
     },
     "execution_count": 15,
     "metadata": {},
     "output_type": "execute_result"
    }
   ],
   "source": [
    "sum(table['x*P'])"
   ]
  },
  {
   "cell_type": "code",
   "execution_count": 16,
   "metadata": {
    "colab": {
     "base_uri": "https://localhost:8080/",
     "height": 34
    },
    "colab_type": "code",
    "id": "IfILcDIZq2wd",
    "outputId": "bb7b75ec-88b4-402a-e61d-bc9f4f3b552a"
   },
   "outputs": [
    {
     "data": {
      "text/plain": [
       "0.0"
      ]
     },
     "execution_count": 16,
     "metadata": {},
     "output_type": "execute_result"
    }
   ],
   "source": [
    "sum(table['y*P'])"
   ]
  },
  {
   "cell_type": "markdown",
   "metadata": {
    "colab_type": "text",
    "id": "kEFCbhE1vbHv"
   },
   "source": [
    "We get that $E(XY) =0$."
   ]
  },
  {
   "cell_type": "code",
   "execution_count": 17,
   "metadata": {
    "colab": {
     "base_uri": "https://localhost:8080/",
     "height": 235
    },
    "colab_type": "code",
    "id": "E05Hg6a2sqpL",
    "outputId": "90f9882c-923f-4ae5-c127-ba024bf90595"
   },
   "outputs": [
    {
     "data": {
      "text/html": [
       "<div>\n",
       "<style scoped>\n",
       "    .dataframe tbody tr th:only-of-type {\n",
       "        vertical-align: middle;\n",
       "    }\n",
       "\n",
       "    .dataframe tbody tr th {\n",
       "        vertical-align: top;\n",
       "    }\n",
       "\n",
       "    .dataframe thead th {\n",
       "        text-align: right;\n",
       "    }\n",
       "</style>\n",
       "<table border=\"1\" class=\"dataframe\">\n",
       "  <thead>\n",
       "    <tr style=\"text-align: right;\">\n",
       "      <th></th>\n",
       "      <th>x</th>\n",
       "      <th>y</th>\n",
       "      <th>P</th>\n",
       "      <th>x*P</th>\n",
       "      <th>y*P</th>\n",
       "      <th>x*y</th>\n",
       "      <th>x*y*P</th>\n",
       "    </tr>\n",
       "  </thead>\n",
       "  <tbody>\n",
       "    <tr>\n",
       "      <th>0</th>\n",
       "      <td>10</td>\n",
       "      <td>-10</td>\n",
       "      <td>0.00</td>\n",
       "      <td>0.0</td>\n",
       "      <td>-0.0</td>\n",
       "      <td>-100</td>\n",
       "      <td>-0.0</td>\n",
       "    </tr>\n",
       "    <tr>\n",
       "      <th>1</th>\n",
       "      <td>10</td>\n",
       "      <td>0</td>\n",
       "      <td>0.50</td>\n",
       "      <td>5.0</td>\n",
       "      <td>0.0</td>\n",
       "      <td>0</td>\n",
       "      <td>0.0</td>\n",
       "    </tr>\n",
       "    <tr>\n",
       "      <th>2</th>\n",
       "      <td>10</td>\n",
       "      <td>10</td>\n",
       "      <td>0.00</td>\n",
       "      <td>0.0</td>\n",
       "      <td>0.0</td>\n",
       "      <td>100</td>\n",
       "      <td>0.0</td>\n",
       "    </tr>\n",
       "    <tr>\n",
       "      <th>3</th>\n",
       "      <td>-10</td>\n",
       "      <td>-10</td>\n",
       "      <td>0.25</td>\n",
       "      <td>-2.5</td>\n",
       "      <td>-2.5</td>\n",
       "      <td>100</td>\n",
       "      <td>25.0</td>\n",
       "    </tr>\n",
       "    <tr>\n",
       "      <th>4</th>\n",
       "      <td>-10</td>\n",
       "      <td>0</td>\n",
       "      <td>0.00</td>\n",
       "      <td>-0.0</td>\n",
       "      <td>0.0</td>\n",
       "      <td>0</td>\n",
       "      <td>0.0</td>\n",
       "    </tr>\n",
       "    <tr>\n",
       "      <th>5</th>\n",
       "      <td>-10</td>\n",
       "      <td>10</td>\n",
       "      <td>0.25</td>\n",
       "      <td>-2.5</td>\n",
       "      <td>2.5</td>\n",
       "      <td>-100</td>\n",
       "      <td>-25.0</td>\n",
       "    </tr>\n",
       "  </tbody>\n",
       "</table>\n",
       "</div>"
      ],
      "text/plain": [
       "    x   y     P  x*P  y*P  x*y  x*y*P\n",
       "0  10 -10  0.00  0.0 -0.0 -100   -0.0\n",
       "1  10   0  0.50  5.0  0.0    0    0.0\n",
       "2  10  10  0.00  0.0  0.0  100    0.0\n",
       "3 -10 -10  0.25 -2.5 -2.5  100   25.0\n",
       "4 -10   0  0.00 -0.0  0.0    0    0.0\n",
       "5 -10  10  0.25 -2.5  2.5 -100  -25.0"
      ]
     },
     "execution_count": 17,
     "metadata": {},
     "output_type": "execute_result"
    }
   ],
   "source": [
    "table['x*y'] = table['x']*table['y']\n",
    "table['x*y*P'] = table['x*y']*table['P']\n",
    "table"
   ]
  },
  {
   "cell_type": "code",
   "execution_count": 18,
   "metadata": {
    "colab": {
     "base_uri": "https://localhost:8080/",
     "height": 34
    },
    "colab_type": "code",
    "id": "Wn0056GYtQPv",
    "outputId": "ac92425b-1fc0-487a-cb33-33f2ef98ba04"
   },
   "outputs": [
    {
     "data": {
      "text/plain": [
       "0.0"
      ]
     },
     "execution_count": 18,
     "metadata": {},
     "output_type": "execute_result"
    }
   ],
   "source": [
    "sum(table['x*y*P'])"
   ]
  },
  {
   "cell_type": "markdown",
   "metadata": {
    "colab_type": "text",
    "id": "0tE6_Zlca9Qj"
   },
   "source": [
    " Therefore: $Cov(X,Y)=E(XY)-\\mu_x\\mu_y = 0$\n",
    "\n",
    "$$ \\rho = \\frac{Cov(X,Y)}{\\sqrt{Var(X)\\cdot Var(Y)}} =0$$"
   ]
  },
  {
   "cell_type": "markdown",
   "metadata": {
    "colab_type": "text",
    "id": "eEuAWhRF10FX"
   },
   "source": [
    "We cannot conclude that if correlation is zero, the two random variables are independent.\n",
    "\n",
    "**Intuition**: Dependency is a stronger concept than correlation. Dependency capture any relationship between variables, ex: quadratic relationship; whereas, correlation only capture linear relationship. "
   ]
  },
  {
   "cell_type": "markdown",
   "metadata": {
    "colab_type": "text",
    "id": "QKZQTL-kzGQm"
   },
   "source": [
    "## Exercises"
   ]
  },
  {
   "cell_type": "markdown",
   "metadata": {
    "colab_type": "text",
    "id": "uIcj0zzoBrc2"
   },
   "source": [
    "1| If you want a portfolio with small risk (variance), should you look for investments that have positive covariance, have negative covariance, or are uncorrelated? Justify."
   ]
  },
  {
   "cell_type": "markdown",
   "metadata": {
    "colab_type": "text",
    "id": "n1-SaPvUB_Yk"
   },
   "source": [
    "2| When $Var(X+Y)=Var(X)+Var(Y)$? Explain."
   ]
  },
  {
   "cell_type": "markdown",
   "metadata": {
    "colab_type": "text",
    "id": "VbZmfnvsCbJF"
   },
   "source": [
    "3| Does a portfolio formed from the mix of three investments have more risk (variance) than a portfolio formed from two? Make assumptions and justify you reasoning."
   ]
  },
  {
   "cell_type": "markdown",
   "metadata": {
    "colab_type": "text",
    "id": "JzPx671LBdbv"
   },
   "source": [
    "4| What is the covariance between a random variable and itself? "
   ]
  },
  {
   "cell_type": "markdown",
   "metadata": {
    "colab_type": "text",
    "id": "iiEhP5irC_FB"
   },
   "source": [
    "5|  What is the correlation between a random variable and itself?"
   ]
  },
  {
   "cell_type": "markdown",
   "metadata": {
    "colab_type": "text",
    "id": "eUD0xrR5Duco"
   },
   "source": [
    "6| What's the covariance between a random variable X and a constant?"
   ]
  },
  {
   "cell_type": "markdown",
   "metadata": {
    "colab_type": "text",
    "id": "zp7gTcZUFsNA"
   },
   "source": [
    "7| Suppose a random  variable $X$ can take only the three values -1, 0,\n",
    "and 1, and that each of these three values has the\n",
    "same probability. Let $Y = X^2$.\n"
   ]
  },
  {
   "cell_type": "markdown",
   "metadata": {
    "colab_type": "text",
    "id": "AVu5TUQHF99n"
   },
   "source": [
    "a) Show that $Correlation(X,Y) = 0$."
   ]
  },
  {
   "cell_type": "markdown",
   "metadata": {
    "colab_type": "text",
    "id": "wt1LUlF9GKg2"
   },
   "source": [
    "b) Are X and Y independent? Justify."
   ]
  },
  {
   "cell_type": "markdown",
   "metadata": {
    "colab_type": "text",
    "id": "rBSJ61u_bsSZ"
   },
   "source": [
    "## Reference"
   ]
  },
  {
   "cell_type": "markdown",
   "metadata": {
    "colab_type": "text",
    "id": "5zSdugHKbsZe"
   },
   "source": [
    "Adhikari, A., Pitman, J. (2020). Probability for Data Science. [Link](http://prob140.org/textbook/README.html) \n",
    "\n",
    "Diez, D. M., Barr, C. D., Çetinkaya-Rundel, M. (2014). Introductory Statistics with Randomization and Simulation. [Link](https://www.openintro.org/stat/textbook.php?stat_book=isrs) \n",
    "\n",
    "Lau, S., Gonzalez, J., Nolan, D. (2020). Principles and Techniques of Data Science.  [Link]( https://www.textbook.ds100.org/intro) "
   ]
  }
 ],
 "metadata": {
  "colab": {
   "name": "3)_Association_between_Random_Variables.ipynb",
   "provenance": []
  },
  "kernelspec": {
   "display_name": "Python 3",
   "language": "python",
   "name": "python3"
  },
  "language_info": {
   "codemirror_mode": {
    "name": "ipython",
    "version": 3
   },
   "file_extension": ".py",
   "mimetype": "text/x-python",
   "name": "python",
   "nbconvert_exporter": "python",
   "pygments_lexer": "ipython3",
   "version": "3.7.6"
  }
 },
 "nbformat": 4,
 "nbformat_minor": 1
}
