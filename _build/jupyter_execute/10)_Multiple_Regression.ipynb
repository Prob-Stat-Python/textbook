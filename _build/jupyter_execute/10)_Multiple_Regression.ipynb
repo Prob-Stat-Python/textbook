{
 "cells": [
  {
   "cell_type": "markdown",
   "metadata": {
    "colab_type": "text",
    "id": "3xG4g-yFKnhm"
   },
   "source": [
    "# 10) Multiple Regression"
   ]
  },
  {
   "cell_type": "markdown",
   "metadata": {
    "colab_type": "text",
    "id": "q-cWOMku-lx_"
   },
   "source": [
    "Vitor Kamada\n",
    "\n",
    "econometrics.methods@gmail.com\n",
    "\n",
    "Last updated 8-2-2020"
   ]
  },
  {
   "cell_type": "markdown",
   "metadata": {
    "colab_type": "text",
    "id": "JX0o6kS_g2mP"
   },
   "source": [
    "#### 10.1) What is a multiple regression model?"
   ]
  },
  {
   "cell_type": "markdown",
   "metadata": {
    "colab_type": "text",
    "id": "GeM8YY8Pj7RG"
   },
   "source": [
    "Multiple regression is a model that measures how explanatory variables $X_1, X_2,...,X_k$ are associated with a response variable $Y$.\n",
    "\n",
    "$$  Y = \\beta_0 + \\beta_1X_1 + \\beta_2X_2 +...+ \\beta_kX_k  +  \\epsilon$$\n",
    "\n",
    "where the error term ($\\epsilon$) follows normal distribution with mean 0 and variance $\\sigma^2_\\epsilon$:\n",
    "\n",
    "$$ \\epsilon \\sim N(0, \\sigma^2_\\epsilon) $$"
   ]
  },
  {
   "cell_type": "markdown",
   "metadata": {
    "colab_type": "text",
    "id": "JTpiKZf2lcv8"
   },
   "source": [
    "#### 10.2) What is the consequence of running a simple regression rather than a multiple regression?"
   ]
  },
  {
   "cell_type": "markdown",
   "metadata": {
    "colab_type": "text",
    "id": "pbPZXIDUmUkb"
   },
   "source": [
    "Assume the real model is: \n",
    "\n",
    "$$  Y = \\beta_{0m} + \\beta_{1m}X_1 + \\beta_{2m}X_{2} +...+ \\beta_{km}X_k  +  \\epsilon_m$$\n",
    "where, $m$ stands for multiple regression.\n",
    "\n",
    "A simple regression assumes that all other explanatory variables are inside the error term:\n",
    "\n",
    "$$  Y = \\beta_{0s}  +  \\beta_{1s}X_1 +  \\epsilon_s$$\n",
    "\n",
    "$$  \\epsilon_s = \\beta_2X_2 +...+ \\beta_kX_k $$\n",
    "\n",
    "where $s$ stands for simple regression.\n",
    "\n",
    "The error term is the sum of all omitted variables in the regression. If these omitted variables are uncorrelated with the explanatory variable of interest ($X_1$), then $\\beta_{1s} = \\beta_{1m}$.\n",
    "\n",
    "Note that this is a special case:\n",
    "\n",
    "$$  Cov(X_1,X_j) =0, \\  \\ \\forall \\ j \\ne 1$$\n",
    "\n",
    "where $X_1$ is randomized.\n",
    "\n",
    "Therefore, for observational studies,  $\\beta_{1s}$ is likely to be different than $\\beta_{1m}$. In this case, we say that $\\beta_{1s}$ is biased and captures spurious effects."
   ]
  },
  {
   "cell_type": "markdown",
   "metadata": {
    "colab_type": "text",
    "id": "YKlcXZCqIKId"
   },
   "source": [
    "#### 10.3) How to use a multiple regression to check if an experimental study is reliable?"
   ]
  },
  {
   "cell_type": "markdown",
   "metadata": {
    "colab_type": "text",
    "id": "ifL7WCcYvWEt"
   },
   "source": [
    "Based on theory, if the treatment variable (T) was randomized, then the treatment variable (T) will be independent of other factors:\n",
    "\n",
    "$$T \\perp Other \\ Factors$$\n",
    "\n",
    "In an experiment, the addition of other factors in the regression cannot affect the estimation of the coefficient of the treatment variable ($\\beta_{1s}$). If you see substantial changes in $\\beta_{1m}$, you can infer that you are not working with experimental data.\n",
    "\n",
    "Note that in observational studies, you must always control for other factors. Otherwise, you will have the omitted variable bias problem. \n",
    "\n",
    "We run simple and multiple regressions using the experimental data from Bertrand & Mullainathan (2004), and we can conclude that the treatment variable was in fact randomized:\n",
    "\n",
    "$$\\beta_{1s} = -0.032 $$\n",
    "\n",
    "$$\\beta_{1m} = -0.031 $$\n"
   ]
  },
  {
   "cell_type": "code",
   "execution_count": 1,
   "metadata": {
    "colab": {},
    "colab_type": "code",
    "execution": {
     "iopub.execute_input": "2020-08-03T23:15:06.071736Z",
     "iopub.status.busy": "2020-08-03T23:15:06.069740Z",
     "iopub.status.idle": "2020-08-03T23:15:08.324351Z",
     "shell.execute_reply": "2020-08-03T23:15:08.324351Z"
    },
    "id": "JPErWq3DuZ9i"
   },
   "outputs": [],
   "source": [
    "# Open data set from Bertrand & Mullainathan (2004)\n",
    "import numpy as np\n",
    "import pandas as pd\n",
    "path = \"https://github.com/causal-methods/Data/raw/master/\" \n",
    "df = pd.read_stata(path + \"lakisha_aer.dta\")"
   ]
  },
  {
   "cell_type": "code",
   "execution_count": 2,
   "metadata": {
    "colab": {
     "base_uri": "https://localhost:8080/",
     "height": 183
    },
    "colab_type": "code",
    "execution": {
     "iopub.execute_input": "2020-08-03T23:15:08.332329Z",
     "iopub.status.busy": "2020-08-03T23:15:08.331332Z",
     "iopub.status.idle": "2020-08-03T23:15:09.058730Z",
     "shell.execute_reply": "2020-08-03T23:15:09.059760Z"
    },
    "id": "XNOEPNXvujkA",
    "outputId": "5c684bc3-da68-42c3-bb9d-bfefb089997d"
   },
   "outputs": [
    {
     "name": "stdout",
     "output_type": "stream",
     "text": [
      "==============================================================================\n",
      "                 coef    std err          t      P>|t|      [0.025      0.975]\n",
      "------------------------------------------------------------------------------\n",
      "Intercept      0.0965      0.006     17.532      0.000       0.086       0.107\n",
      "Treatment     -0.0320      0.008     -4.115      0.000      -0.047      -0.017\n",
      "==============================================================================\n"
     ]
    }
   ],
   "source": [
    "# Simple Regression\n",
    "df['Intercept'] = 1\n",
    "df['Treatment'] = np.where(df['race'] =='b', 1, 0)\n",
    "import statsmodels.api as sm\n",
    "simple = sm.OLS(df['call'], df[['Intercept', 'Treatment']],\n",
    "                    missing='drop').fit()\n",
    "print(simple.summary().tables[1])                    "
   ]
  },
  {
   "cell_type": "code",
   "execution_count": 3,
   "metadata": {
    "colab": {
     "base_uri": "https://localhost:8080/",
     "height": 272
    },
    "colab_type": "code",
    "execution": {
     "iopub.execute_input": "2020-08-03T23:15:09.066707Z",
     "iopub.status.busy": "2020-08-03T23:15:09.065710Z",
     "iopub.status.idle": "2020-08-03T23:15:09.079708Z",
     "shell.execute_reply": "2020-08-03T23:15:09.079708Z"
    },
    "id": "6gbvqRy7u-gi",
    "outputId": "de9c14d7-53a6-437a-81ba-87550e7723df"
   },
   "outputs": [
    {
     "name": "stdout",
     "output_type": "stream",
     "text": [
      "==================================================================================\n",
      "                     coef    std err          t      P>|t|      [0.025      0.975]\n",
      "----------------------------------------------------------------------------------\n",
      "Intercept          0.0603      0.013      4.741      0.000       0.035       0.085\n",
      "Treatment         -0.0311      0.008     -4.026      0.000      -0.046      -0.016\n",
      "yearsexp           0.0029      0.001      3.611      0.000       0.001       0.005\n",
      "volunteer         -0.0033      0.011     -0.300      0.764      -0.025       0.018\n",
      "military          -0.0032      0.014     -0.219      0.827      -0.031       0.025\n",
      "email              0.0140      0.011      1.254      0.210      -0.008       0.036\n",
      "workinschool       0.0012      0.009      0.138      0.891      -0.016       0.018\n",
      "honors             0.0652      0.018      3.695      0.000       0.031       0.100\n",
      "computerskills    -0.0206      0.011     -1.922      0.055      -0.042       0.000\n",
      "specialskills      0.0623      0.008      7.355      0.000       0.046       0.079\n",
      "==================================================================================\n"
     ]
    }
   ],
   "source": [
    "# Multiple Regression\n",
    "other_factors = ['yearsexp', 'volunteer', 'military',\n",
    "          'email', 'workinschool', 'honors',\n",
    "          'computerskills', 'specialskills']\n",
    "multiple_reg = sm.OLS(df['call'],\n",
    "                      df[['Intercept', 'Treatment'] + other_factors],\n",
    "                      missing='drop').fit()\n",
    "print(multiple_reg.summary().tables[1])                      "
   ]
  },
  {
   "cell_type": "markdown",
   "metadata": {
    "colab_type": "text",
    "id": "aVp5JdjwsPgS"
   },
   "source": [
    "#### 10.4) In an observational study, are the results from multiple regression more credible than simple regression?"
   ]
  },
  {
   "cell_type": "markdown",
   "metadata": {
    "colab_type": "text",
    "id": "ziizDH-81P1r"
   },
   "source": [
    "Overall, the results of a multiple regression are more credible in the sense of suffering less from the problem of omitted variable bias. However, even controlling for many factors, the estimated coefficients are likely to be biased. "
   ]
  },
  {
   "cell_type": "markdown",
   "metadata": {
    "colab_type": "text",
    "id": "1QtPd6_FI7jT"
   },
   "source": [
    "#### 10.5) In an observational study, comparing simple and multiple regressions, how different might be the coefficients?"
   ]
  },
  {
   "cell_type": "markdown",
   "metadata": {
    "colab_type": "text",
    "id": "xLhK3iexJ3Ja"
   },
   "source": [
    "It might be a big difference, a change of sign, leading to completely divergent explanations. \n",
    "\n",
    "For example, using data from Meyersson (2014), a simple regression indicates that in regions controlled by the Islamic party in Turkey, 2.58% less females complete high school compared to regions controlled by a secular party. You might believe that religion limits the educational opportunities of females. \n",
    "\n",
    "However, a multiple regression indicates the opposite, in regions controlled by the Islamic party in Turkey, 1.44% more females complete high school compared to regions controlled by a secular party. One explanation is that Islamic religion in fact improves the female high school completion. Maybe poverty is a confound factor that drives higher level of religiosity and poor educational outcome. Therefore, in the simple regression, maybe the religion variable is capturing the poverty effect rather than the true direct effect of religion. \n",
    "\n",
    "Note that both results from simple and multiple regression are statistically significant. The magnitudes of the coefficients are also relevant, as the proportion of females between 15 to 20 years old that completes high school is about only 15.4% in Turkey."
   ]
  },
  {
   "cell_type": "code",
   "execution_count": 4,
   "metadata": {
    "colab": {
     "base_uri": "https://localhost:8080/",
     "height": 126
    },
    "colab_type": "code",
    "execution": {
     "iopub.execute_input": "2020-08-03T23:15:09.084659Z",
     "iopub.status.busy": "2020-08-03T23:15:09.081667Z",
     "iopub.status.idle": "2020-08-03T23:15:16.074752Z",
     "shell.execute_reply": "2020-08-03T23:15:16.073754Z"
    },
    "id": "S7DtMzgmHMq1",
    "outputId": "1f3db45c-12d9-4153-96a1-943bc14a4e84"
   },
   "outputs": [
    {
     "name": "stdout",
     "output_type": "stream",
     "text": [
      "==============================================================================\n",
      "                 coef    std err          t      P>|t|      [0.025      0.975]\n",
      "------------------------------------------------------------------------------\n",
      "Intercept      0.1662      0.002     83.813      0.000       0.162       0.170\n",
      "i94           -0.0258      0.006     -4.505      0.000      -0.037      -0.015\n",
      "==============================================================================\n"
     ]
    }
   ],
   "source": [
    "# Load data from Meyersson (2014)\n",
    "df1 = pd.read_stata(path + \"regdata0.dta\")\n",
    "\n",
    "# Simple Regression\n",
    "df1['Intercept'] = 1\n",
    "simple_reg = sm.OLS(df1['hischshr1520f'], df1[['Intercept', 'i94']],\n",
    "                    missing='drop').fit()\n",
    "print(simple_reg.summary().tables[1])"
   ]
  },
  {
   "cell_type": "code",
   "execution_count": 5,
   "metadata": {
    "colab": {
     "base_uri": "https://localhost:8080/",
     "height": 199
    },
    "colab_type": "code",
    "execution": {
     "iopub.execute_input": "2020-08-03T23:15:16.080737Z",
     "iopub.status.busy": "2020-08-03T23:15:16.079738Z",
     "iopub.status.idle": "2020-08-03T23:15:16.090708Z",
     "shell.execute_reply": "2020-08-03T23:15:16.089710Z"
    },
    "id": "uCf-_WqO7U3D",
    "outputId": "d9d66fa1-efb0-4f58-d9f0-b2ae8ac2f6b1"
   },
   "outputs": [
    {
     "name": "stdout",
     "output_type": "stream",
     "text": [
      "==================================================================================\n",
      "                     coef    std err          t      P>|t|      [0.025      0.975]\n",
      "----------------------------------------------------------------------------------\n",
      "Intercept          0.2835      0.014     19.919      0.000       0.256       0.311\n",
      "i94                0.0144      0.006      2.404      0.016       0.003       0.026\n",
      "vshr_islam1994    -0.0801      0.013     -6.113      0.000      -0.106      -0.054\n",
      "lpop1994           0.0104      0.002      6.710      0.000       0.007       0.013\n",
      "ageshr19          -0.5246      0.019    -28.095      0.000      -0.561      -0.488\n",
      "merkezi            0.0582      0.004     15.284      0.000       0.051       0.066\n",
      "==================================================================================\n"
     ]
    }
   ],
   "source": [
    "# Multiple Regression\n",
    "control = ['lpop1994', 'ageshr19', 'merkezi']\n",
    "mult_reg = sm.OLS(df1['hischshr1520f'],\n",
    "                      df1[['Intercept', 'i94', 'vshr_islam1994'] + control],\n",
    "                      missing='drop').fit()\n",
    "print(mult_reg.summary().tables[1])   "
   ]
  },
  {
   "cell_type": "code",
   "execution_count": 6,
   "metadata": {
    "colab": {
     "base_uri": "https://localhost:8080/",
     "height": 35
    },
    "colab_type": "code",
    "execution": {
     "iopub.execute_input": "2020-08-03T23:15:16.099685Z",
     "iopub.status.busy": "2020-08-03T23:15:16.098687Z",
     "iopub.status.idle": "2020-08-03T23:15:16.103672Z",
     "shell.execute_reply": "2020-08-03T23:15:16.102677Z"
    },
    "id": "LcBSo5nsATRj",
    "outputId": "a6f54a48-9927-47d5-ccfa-b43179e22e3c"
   },
   "outputs": [
    {
     "data": {
      "text/plain": [
       "0.1543141"
      ]
     },
     "execution_count": 6,
     "metadata": {},
     "output_type": "execute_result"
    }
   ],
   "source": [
    "# Proportion of females between 15 to 20 year that completes high school\n",
    "df1['hischshr1520f'].mean()"
   ]
  },
  {
   "cell_type": "markdown",
   "metadata": {
    "colab_type": "text",
    "id": "QKZQTL-kzGQm"
   },
   "source": [
    "## Exercises"
   ]
  },
  {
   "cell_type": "markdown",
   "metadata": {
    "colab_type": "text",
    "id": "ftq9gtKNEGUD"
   },
   "source": [
    "1| Interpret the 4 values of the contingency table below. Specifically, state the meaning and compare the values.\n",
    "\n",
    "The variable 'h': 1 = higher quality curriculum vitae; 0 = lower quality curriculum vitae. This variable was randomized.\n",
    "\n",
    "Other variables were previously defined."
   ]
  },
  {
   "cell_type": "code",
   "execution_count": 7,
   "metadata": {
    "colab": {
     "base_uri": "https://localhost:8080/",
     "height": 138
    },
    "colab_type": "code",
    "execution": {
     "iopub.execute_input": "2020-08-03T23:15:16.110654Z",
     "iopub.status.busy": "2020-08-03T23:15:16.109657Z",
     "iopub.status.idle": "2020-08-03T23:15:16.125614Z",
     "shell.execute_reply": "2020-08-03T23:15:16.124617Z"
    },
    "id": "lg7DXJ0uEjEY",
    "outputId": "fa44c2e7-b016-4096-c64c-2a419c5d16e0"
   },
   "outputs": [
    {
     "data": {
      "text/html": [
       "<div>\n",
       "<style scoped>\n",
       "    .dataframe tbody tr th:only-of-type {\n",
       "        vertical-align: middle;\n",
       "    }\n",
       "\n",
       "    .dataframe tbody tr th {\n",
       "        vertical-align: top;\n",
       "    }\n",
       "\n",
       "    .dataframe thead th {\n",
       "        text-align: right;\n",
       "    }\n",
       "</style>\n",
       "<table border=\"1\" class=\"dataframe\">\n",
       "  <thead>\n",
       "    <tr style=\"text-align: right;\">\n",
       "      <th>h</th>\n",
       "      <th>0.0</th>\n",
       "      <th>1.0</th>\n",
       "    </tr>\n",
       "    <tr>\n",
       "      <th>Treatment</th>\n",
       "      <th></th>\n",
       "      <th></th>\n",
       "    </tr>\n",
       "  </thead>\n",
       "  <tbody>\n",
       "    <tr>\n",
       "      <th>0</th>\n",
       "      <td>0.084983</td>\n",
       "      <td>0.107931</td>\n",
       "    </tr>\n",
       "    <tr>\n",
       "      <th>1</th>\n",
       "      <td>0.061881</td>\n",
       "      <td>0.067048</td>\n",
       "    </tr>\n",
       "  </tbody>\n",
       "</table>\n",
       "</div>"
      ],
      "text/plain": [
       "h               0.0       1.0\n",
       "Treatment                    \n",
       "0          0.084983  0.107931\n",
       "1          0.061881  0.067048"
      ]
     },
     "execution_count": 7,
     "metadata": {},
     "output_type": "execute_result"
    }
   ],
   "source": [
    "contingency_table = pd.crosstab(df['Treatment'], df['h'], \n",
    "                                values=df['call'], aggfunc='mean')\n",
    "contingency_table"
   ]
  },
  {
   "cell_type": "markdown",
   "metadata": {
    "colab_type": "text",
    "id": "B-qppCf8_VQE"
   },
   "source": [
    "2| I created an interaction variable 'h_Treatment' that is the pairwise multiplication of the variable 'h' and 'treatment'. \n",
    "\n",
    "How can you use the coefficients of the regression below to get the values of the contingency table in exercise 1? Show the calculations. "
   ]
  },
  {
   "cell_type": "code",
   "execution_count": 8,
   "metadata": {
    "colab": {
     "base_uri": "https://localhost:8080/",
     "height": 163
    },
    "colab_type": "code",
    "execution": {
     "iopub.execute_input": "2020-08-03T23:15:16.131598Z",
     "iopub.status.busy": "2020-08-03T23:15:16.129603Z",
     "iopub.status.idle": "2020-08-03T23:15:16.142568Z",
     "shell.execute_reply": "2020-08-03T23:15:16.143566Z"
    },
    "id": "l7BRaA4LEqEF",
    "outputId": "e7ef2836-d5d3-4201-e02a-a6a504e9b498"
   },
   "outputs": [
    {
     "name": "stdout",
     "output_type": "stream",
     "text": [
      "===============================================================================\n",
      "                  coef    std err          t      P>|t|      [0.025      0.975]\n",
      "-------------------------------------------------------------------------------\n",
      "Intercept       0.0850      0.008     10.895      0.000       0.070       0.100\n",
      "Treatment      -0.0231      0.011     -2.094      0.036      -0.045      -0.001\n",
      "h               0.0229      0.011      2.085      0.037       0.001       0.045\n",
      "h_Treatment    -0.0178      0.016     -1.142      0.253      -0.048       0.013\n",
      "===============================================================================\n"
     ]
    }
   ],
   "source": [
    "df['h_Treatment'] = df['h']*df['Treatment']\n",
    "interaction = sm.OLS(df['call'],\n",
    "                      df[['Intercept', 'Treatment', 'h', 'h_Treatment'] ],\n",
    "                      missing='drop').fit()\n",
    "print(interaction.summary().tables[1])     "
   ]
  },
  {
   "cell_type": "markdown",
   "metadata": {
    "colab_type": "text",
    "id": "l_YIzRBhE4R2"
   },
   "source": [
    "3| Write a code to get a contingency table below:\n",
    "\n",
    "|firstname\\ h |    0.0   |    1.0   | \n",
    "|-------------|----------|----------|\n",
    "|Aisha        | 0.010000 | 0.037500 | \n",
    "|Allison      | 0.121739 | 0.068376 | \n",
    "\n",
    "Inside the table are the callback rates broken by Curriculum Vitae quality.\n",
    "What is the callback rate for Kristen and Lakisha? Why the rates are so different? Could we justify the rate difference, arguing that one is more educated and qualified than other? "
   ]
  },
  {
   "cell_type": "markdown",
   "metadata": {
    "colab_type": "text",
    "id": "rKezT7tf_Axw"
   },
   "source": [
    "## Reference"
   ]
  },
  {
   "cell_type": "markdown",
   "metadata": {
    "colab_type": "text",
    "id": "yDxmE23m_Cdi"
   },
   "source": [
    "Adhikari, A., DeNero, J. (2020). Computational and Inferential Thinking: The Foundations of Data Science. [Link](https://www.inferentialthinking.com/chapters/intro.html) \n",
    "\n",
    "Bertrand, Marianne, and Sendhil Mullainathan. (2004). Are Emily and Greg More Employable Than Lakisha and Jamal? A Field Experiment on Labor Market Discrimination. American Economic Review, 94 (4): 991-1013.\n",
    "\n",
    "Diez, D. M., Barr, C. D., Çetinkaya-Rundel, M. (2014). Introductory Statistics with Randomization and Simulation. [Link](https://www.openintro.org/stat/textbook.php?stat_book=isrs) \n",
    "\n",
    "Lau, S., Gonzalez, J., Nolan, D. (2020). Principles and Techniques of Data Science.  [Link](https://www.textbook.ds100.org/intro)\n",
    "\n",
    "Meyersson, Erik. 2014. \"Islamic Rule and the Empowerment of the Poor and Pious\". Econometrica, 82(1), 229-269."
   ]
  }
 ],
 "metadata": {
  "colab": {
   "name": "10)_Multiple_Regression.ipynb",
   "provenance": []
  },
  "kernelspec": {
   "display_name": "Python 3",
   "language": "python",
   "name": "python3"
  },
  "language_info": {
   "codemirror_mode": {
    "name": "ipython",
    "version": 3
   },
   "file_extension": ".py",
   "mimetype": "text/x-python",
   "name": "python",
   "nbconvert_exporter": "python",
   "pygments_lexer": "ipython3",
   "version": "3.7.6"
  }
 },
 "nbformat": 4,
 "nbformat_minor": 1
}