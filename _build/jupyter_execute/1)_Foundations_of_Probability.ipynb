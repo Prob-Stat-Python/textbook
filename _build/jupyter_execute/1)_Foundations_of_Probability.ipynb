{
 "cells": [
  {
   "cell_type": "markdown",
   "metadata": {
    "colab_type": "text",
    "id": "3xG4g-yFKnhm"
   },
   "source": [
    "# 1) Foundations of Probability"
   ]
  },
  {
   "cell_type": "markdown",
   "metadata": {
    "colab_type": "text",
    "id": "q-cWOMku-lx_"
   },
   "source": [
    "Vitor Kamada\n",
    "\n",
    "econometrics.methods@gmail.com\n",
    "\n",
    "Last updated 7-17-2020"
   ]
  },
  {
   "cell_type": "markdown",
   "metadata": {
    "colab_type": "text",
    "id": "JX0o6kS_g2mP"
   },
   "source": [
    "#### 1.1) What is the probability of getting a Head (H) or Tail (T), when you flip a coin? "
   ]
  },
  {
   "cell_type": "markdown",
   "metadata": {
    "colab_type": "text",
    "id": "-ABczChsiUmx"
   },
   "source": [
    "Let's visualize the concept of mutually exclusive, using Venn diagrams.\n",
    "\n",
    "First, let's import Python library to draw Venn diagrams."
   ]
  },
  {
   "cell_type": "code",
   "execution_count": 1,
   "metadata": {
    "colab": {},
    "colab_type": "code",
    "execution": {
     "iopub.execute_input": "2020-08-03T23:15:01.587956Z",
     "iopub.status.busy": "2020-08-03T23:15:01.586959Z",
     "iopub.status.idle": "2020-08-03T23:15:02.210978Z",
     "shell.execute_reply": "2020-08-03T23:15:02.210978Z"
    },
    "id": "qglfn6n3iTs5"
   },
   "outputs": [],
   "source": [
    "from matplotlib import pyplot as plt\n",
    "from matplotlib_venn import venn2"
   ]
  },
  {
   "cell_type": "markdown",
   "metadata": {
    "colab_type": "text",
    "id": "X25OpQRciT-x"
   },
   "source": [
    "Let's plot the events Head (H) and Tail (T) with respective probabilities:\n",
    "\n",
    "$$P(H)=\\frac{1}{2}$$ \n",
    "\n",
    "$$P(T)=\\frac{1}{2}$$\n"
   ]
  },
  {
   "cell_type": "code",
   "execution_count": 2,
   "metadata": {
    "colab": {
     "base_uri": "https://localhost:8080/",
     "height": 201
    },
    "colab_type": "code",
    "execution": {
     "iopub.execute_input": "2020-08-03T23:15:02.214967Z",
     "iopub.status.busy": "2020-08-03T23:15:02.214967Z",
     "iopub.status.idle": "2020-08-03T23:15:02.267102Z",
     "shell.execute_reply": "2020-08-03T23:15:02.266067Z"
    },
    "id": "_T_WC0_siiWR",
    "outputId": "4dd254c0-b4a9-4654-fc6b-61fa42c34cc2"
   },
   "outputs": [
    {
     "data": {
      "text/plain": [
       "<matplotlib_venn._common.VennDiagram at 0x20cb91555c8>"
      ]
     },
     "execution_count": 2,
     "metadata": {},
     "output_type": "execute_result"
    },
    {
     "data": {
      "image/png": "[encoded data removed]",
      "text/plain": [
       "<Figure size 432x288 with 1 Axes>"
      ]
     },
     "metadata": {
      "filenames": {
       "image/png": "C:\\Users\\acer\\Desktop\\Prob\\_build\\jupyter_execute\\1)_Foundations_of_Probability_6_1.png"
      }
     },
     "output_type": "display_data"
    }
   ],
   "source": [
    "venn2( (1/2, 1/2, 0), set_labels = ('Head', 'Tail'))"
   ]
  },
  {
   "cell_type": "markdown",
   "metadata": {
    "colab_type": "text",
    "id": "MDZ3L6JBUJm2"
   },
   "source": [
    "Disjoint events are mutually exclusive, if they have no outcomes in common.\n",
    "\n",
    "When you flip a coin, the events Head (H) and Tail (T) are mutually exclusive. \n",
    "\n",
    "If $H$ and $T$ are disjoint events, then \n",
    "\n",
    "$$ P(H\\cup T) = P(H) + P(T) $$\n",
    "\n",
    "$$ = \\frac{1}{2} + \\frac{1}{2}$$\n",
    "\n",
    "$$ = 1 $$"
   ]
  },
  {
   "cell_type": "markdown",
   "metadata": {
    "colab_type": "text",
    "id": "FJUviw8QhpFx"
   },
   "source": [
    "#### 1.2) In a regular deck, what is the probability of getting a diamond card or face card?"
   ]
  },
  {
   "cell_type": "markdown",
   "metadata": {
    "colab_type": "text",
    "id": "ibXN1T8DZxCG"
   },
   "source": [
    "For any two events A and B, the probability that one or the other occurs is the sum of the probability minus the probability ot their intersection:\n",
    "\n",
    "$$ P(A\\cup B) = P(A) + P(B) - P(A\\cap B) $$\n",
    "\n"
   ]
  },
  {
   "cell_type": "code",
   "execution_count": 3,
   "metadata": {
    "colab": {
     "base_uri": "https://localhost:8080/",
     "height": 267
    },
    "colab_type": "code",
    "execution": {
     "iopub.execute_input": "2020-08-03T23:15:02.283022Z",
     "iopub.status.busy": "2020-08-03T23:15:02.275044Z",
     "iopub.status.idle": "2020-08-03T23:15:02.309988Z",
     "shell.execute_reply": "2020-08-03T23:15:02.308953Z"
    },
    "id": "pb_vgzadRWf3",
    "outputId": "440726e0-554b-4a08-da15-09a8a9605c50"
   },
   "outputs": [
    {
     "data": {
      "text/plain": [
       "<matplotlib_venn._common.VennDiagram at 0x20cb91e1b48>"
      ]
     },
     "execution_count": 3,
     "metadata": {},
     "output_type": "execute_result"
    },
    {
     "data": {
      "image/png": "[encoded data removed]",
      "text/plain": [
       "<Figure size 432x288 with 1 Axes>"
      ]
     },
     "metadata": {
      "filenames": {
       "image/png": "C:\\Users\\acer\\Desktop\\Prob\\_build\\jupyter_execute\\1)_Foundations_of_Probability_10_1.png"
      }
     },
     "output_type": "display_data"
    }
   ],
   "source": [
    "venn2( (10, 9, 3) )"
   ]
  },
  {
   "cell_type": "markdown",
   "metadata": {
    "colab_type": "text",
    "id": "eb8Dz4AAmDir"
   },
   "source": [
    "$$ P(\\diamondsuit) + P(face\\ card) - P(\\diamondsuit \\cap face\\ card)$$\n",
    "\n",
    "$$ \\frac{13}{52} + \\frac{12}{52} - \\frac{3}{52} $$"
   ]
  },
  {
   "cell_type": "code",
   "execution_count": 4,
   "metadata": {
    "colab": {
     "base_uri": "https://localhost:8080/",
     "height": 34
    },
    "colab_type": "code",
    "execution": {
     "iopub.execute_input": "2020-08-03T23:15:02.313940Z",
     "iopub.status.busy": "2020-08-03T23:15:02.313940Z",
     "iopub.status.idle": "2020-08-03T23:15:02.316969Z",
     "shell.execute_reply": "2020-08-03T23:15:02.315934Z"
    },
    "id": "3VMYCMF8Kn1D",
    "outputId": "7add832c-d9ee-4990-f708-6e56c17804f3"
   },
   "outputs": [
    {
     "data": {
      "text/plain": [
       "0.4230769230769231"
      ]
     },
     "execution_count": 4,
     "metadata": {},
     "output_type": "execute_result"
    }
   ],
   "source": [
    "13/52 + 12/52 - 3/52"
   ]
  },
  {
   "cell_type": "markdown",
   "metadata": {
    "colab_type": "text",
    "id": "y2K9P2tAoRvo"
   },
   "source": [
    "#### 1.3) In a regular deck, is the event getting a heart card independent from the event getting an Ace? \n"
   ]
  },
  {
   "cell_type": "markdown",
   "metadata": {
    "colab_type": "text",
    "id": "Dv0lT_CSoRyp"
   },
   "source": [
    "Two events are independent if the occurrence of one does not affect the chances for the occurrence of the other. \n",
    "\n",
    "There is no reason to believe that getting a heart card can affect the probability of getting an Ace, and vice-versa.\n",
    "\n",
    "Two events A and B are independent if the probability that both A and B occur is the product of the probabilities of the two events:\n",
    "\n",
    "$$ P(A\\cap B) = P(A)\\cdot P(B) $$ \n",
    "\n",
    "$$ P(\\heartsuit \\cap Ace) = P(\\heartsuit)\\cdot P(Ace) $$\n",
    "\n",
    "$$ \\frac{1}{52} = \\frac{1}{4}\\cdot \\frac{1}{13} $$\n"
   ]
  },
  {
   "cell_type": "markdown",
   "metadata": {
    "colab_type": "text",
    "id": "C-RpgYyauukQ"
   },
   "source": [
    "$P(\\heartsuit \\cap Ace) = P(Ace\\ of\\ Hearts) = \\frac{1}{52}$\n",
    "\n",
    "$P(\\heartsuit) = \\frac{13}{52} = \\frac{1}{4}$\n",
    "\n",
    "$P(Ace) = \\frac{4}{52} = \\frac{1}{13}$\n",
    "\n",
    "Therefore, these two events are independent and can be written:\n",
    "\n",
    "$$ P(\\heartsuit) \\perp P(Ace)$$"
   ]
  },
  {
   "cell_type": "markdown",
   "metadata": {
    "colab_type": "text",
    "id": "3sPozHCz27a2"
   },
   "source": [
    "#### 1.4) According with Venn diagram below, events A and B are independent?"
   ]
  },
  {
   "cell_type": "code",
   "execution_count": 5,
   "metadata": {
    "colab": {
     "base_uri": "https://localhost:8080/",
     "height": 201
    },
    "colab_type": "code",
    "execution": {
     "iopub.execute_input": "2020-08-03T23:15:02.333887Z",
     "iopub.status.busy": "2020-08-03T23:15:02.332890Z",
     "iopub.status.idle": "2020-08-03T23:15:02.353870Z",
     "shell.execute_reply": "2020-08-03T23:15:02.352835Z"
    },
    "id": "hkouU0Bc3H4Y",
    "outputId": "895d89ff-5823-4798-f3f2-90bb30d0673f"
   },
   "outputs": [
    {
     "data": {
      "text/plain": [
       "<matplotlib_venn._common.VennDiagram at 0x20cb923a288>"
      ]
     },
     "execution_count": 5,
     "metadata": {},
     "output_type": "execute_result"
    },
    {
     "data": {
      "image/png": "[encoded data removed]",
      "text/plain": [
       "<Figure size 432x288 with 1 Axes>"
      ]
     },
     "metadata": {
      "filenames": {
       "image/png": "C:\\Users\\acer\\Desktop\\Prob\\_build\\jupyter_execute\\1)_Foundations_of_Probability_17_1.png"
      }
     },
     "output_type": "display_data"
    }
   ],
   "source": [
    "venn2( (1/2, 1/2, 0) )"
   ]
  },
  {
   "cell_type": "markdown",
   "metadata": {
    "colab_type": "text",
    "id": "aB7cly6O3H-z"
   },
   "source": [
    "No. Events A and B are dependents.\n",
    "\n",
    "If I have the information that event A occurred, I know for sure that event B didn't occur, and vice-versa. \n",
    "\n",
    "$P(A) = 0.5$ and $P(B) = 0.5$\n",
    "\n",
    "$$0 = P(A\\cap B) \\neq P(A)\\cdot P(B) = \\frac{1}{4}$$"
   ]
  },
  {
   "cell_type": "markdown",
   "metadata": {
    "colab_type": "text",
    "id": "MzgpKvWw6eH4"
   },
   "source": [
    "#### 1.5) When P(A|B) = P(A)?"
   ]
  },
  {
   "cell_type": "markdown",
   "metadata": {
    "colab_type": "text",
    "id": "w6q-z1347LCE"
   },
   "source": [
    "By definition, the probability of event A given that the event B occurs is:"
   ]
  },
  {
   "cell_type": "markdown",
   "metadata": {
    "colab_type": "text",
    "id": "K4tePa086mC6"
   },
   "source": [
    "  $$ P(A|B) = \\frac{P(A\\cap B)}{P(B)}  $$"
   ]
  },
  {
   "cell_type": "markdown",
   "metadata": {
    "colab_type": "text",
    "id": "vDeS_kYb6pNo"
   },
   "source": [
    "If A and B are independent, then $P(A\\cap B) = P(A)\\cdot P(B)$\n"
   ]
  },
  {
   "cell_type": "markdown",
   "metadata": {
    "colab_type": "text",
    "id": "Xpy5yPNk7z2y"
   },
   "source": [
    "  $$ P(A|B) = \\frac{P(A)\\cdot P(B)}{P(B)}  $$\n",
    "\n",
    "  $$ =P(A)$$"
   ]
  },
  {
   "cell_type": "markdown",
   "metadata": {
    "colab_type": "text",
    "id": "3NJqdooP8w6L"
   },
   "source": [
    "**Intuition**: Knowledge of event B doesn't affect the probability of event A."
   ]
  },
  {
   "cell_type": "markdown",
   "metadata": {
    "colab_type": "text",
    "id": "elLScFrx23vb"
   },
   "source": [
    "#### 1.6) Why do you believe that the probability of getting a Tail in a fair coin is equal to $\\frac{1}{2}$?"
   ]
  },
  {
   "cell_type": "markdown",
   "metadata": {
    "colab_type": "text",
    "id": "Cw5m5Zyz3VxB"
   },
   "source": [
    "Probability = Long Run Relative Frequency\n",
    "\n",
    "The Law of Large Numbers (LLN): The relative frequency of an outcome converges to a number, as the number of observed outcomes increases.\n",
    "\n",
    "LLN assumes that events are independent.\n",
    "\n",
    "If you toss a coin thousand of times, the proportion of Tails will be likely closer to $\\frac{1}{2}$.\n",
    "\n",
    "Let's toss a coin 10,000 times and count how many Tails:"
   ]
  },
  {
   "cell_type": "code",
   "execution_count": 6,
   "metadata": {
    "colab": {
     "base_uri": "https://localhost:8080/",
     "height": 34
    },
    "colab_type": "code",
    "execution": {
     "iopub.execute_input": "2020-08-03T23:15:02.366871Z",
     "iopub.status.busy": "2020-08-03T23:15:02.360895Z",
     "iopub.status.idle": "2020-08-03T23:15:02.375129Z",
     "shell.execute_reply": "2020-08-03T23:15:02.374176Z"
    },
    "id": "fy9QU3Ch7Ivg",
    "outputId": "b3f19ea9-db43-4c94-9ba8-d2c88c69eb7a"
   },
   "outputs": [
    {
     "data": {
      "text/plain": [
       "4981"
      ]
     },
     "execution_count": 6,
     "metadata": {},
     "output_type": "execute_result"
    }
   ],
   "source": [
    "import random \n",
    "result= []\n",
    "\n",
    "for toss in range(10000):\n",
    "   coin = random.choice(['Head', 'Tail']) \n",
    "   result.append(coin)\n",
    "\n",
    "result.count('Tail')"
   ]
  },
  {
   "cell_type": "markdown",
   "metadata": {
    "colab_type": "text",
    "id": "UIZw3cQXRcuR"
   },
   "source": [
    "#### 1.7) If a female tests positive for breast cancer, what is the probability that she in fact has cancer? \n",
    "\n",
    "\n"
   ]
  },
  {
   "cell_type": "markdown",
   "metadata": {
    "colab_type": "text",
    "id": "Cm5VzJ6gWxH2"
   },
   "source": [
    "The question asked what is the probabilty of a female has breast cancer conditional on she tested positive:\n",
    "\n",
    "\n",
    "  $$P(Cancer|Test\\ Positive) $$\n",
    "\n",
    "  $$ = \\frac{P(Cancer\\cap Test  \\ Positive)}{P(Test \\  Positive)}$$\n",
    "\n",
    "Based on data from Banks et al. (2004), the probability of a mammography detects cancer is 0.87. Among females without cancer, the probability for a negative result is 0.97. The overall incidence of breast cancer is 0.003. \n",
    "\n",
    "We can calculate that:\n",
    "\n",
    "$$ P(Cancer\\cap Test  \\ Positive) $$\n",
    "\n",
    "$$ = P(Cancer)\\cdot P(Test \\ Positive|Cancer)$$\n",
    "\n",
    "$$ = 0.003\\cdot 0.87 $$ \n",
    "$$ = 0.00261 $$"
   ]
  },
  {
   "cell_type": "markdown",
   "metadata": {
    "colab_type": "text",
    "id": "T2Htdvgnglyd"
   },
   "source": [
    "$$ P(No \\ Cancer\\cap Test \\ Negative) $$\n",
    "\n",
    "$$ = P(No \\ Cancer)\\cdot P(Test \\ Negative\\ |No \\ Cancer)$$\n",
    "\n",
    "$$ = 0.997\\cdot 0.97 $$ \n",
    "$$ = 0.96709 $$"
   ]
  },
  {
   "cell_type": "markdown",
   "metadata": {
    "colab_type": "text",
    "id": "2NdVhxKQkt4l"
   },
   "source": [
    "It is easy to organize the information in a table:\n",
    "\n",
    "\n",
    "|          | Positive | Negative | Total  |\n",
    "|----------|----------|----------|--------|\n",
    "|Cancer    | 0.00261  |          | 0.003  |\n",
    "|No Cancer |          | 0.96709  | 0.997  |\n",
    "|Total     |          |          |    1   |\n"
   ]
  },
  {
   "cell_type": "markdown",
   "metadata": {
    "colab_type": "text",
    "id": "YR5Virl9mohV"
   },
   "source": [
    "We can infer the other values of the table, as the sum of the joint probabilities (inside) is equal to the marginal probability on the border. \n",
    "\n",
    "\n",
    "|          | Positive | Negative | Total |\n",
    "|----------|----------|----------|-------|\n",
    "|Cancer    | 0.00261  | 0.00039  | 0.003 |\n",
    "|No Cancer | 0.02991  | 0.96709  | 0.997 |\n",
    "|Total     | 0.03252  | 0.96748  |    1  |"
   ]
  },
  {
   "cell_type": "markdown",
   "metadata": {
    "colab_type": "text",
    "id": "tP89f4JXoALx"
   },
   "source": [
    "  $$P(Cancer|Test\\ Positive) $$\n",
    "\n",
    " $$ = \\frac{0.00261}{0.03252}$$\n",
    "\n",
    "  $$ =0.0803 $$\n",
    "\n",
    "The probability that a female, who tested positive, has breast cancer is only 8%. This result is counter-intuitive, because humans do not process well events with very low probability. Unless, a person is educated in the probability laws, she might believe that she was cured by a divine force."
   ]
  },
  {
   "cell_type": "markdown",
   "metadata": {
    "colab_type": "text",
    "id": "QKZQTL-kzGQm"
   },
   "source": [
    "## Exercises"
   ]
  },
  {
   "cell_type": "markdown",
   "metadata": {
    "colab_type": "text",
    "id": "borfb5Fe4dCS"
   },
   "source": [
    "1| Disjoint events are not equal independent events. Define in plain English the difference between both concepts."
   ]
  },
  {
   "cell_type": "markdown",
   "metadata": {
    "colab_type": "text",
    "id": "l-x8fsNAzMsp"
   },
   "source": [
    "2| Assume a fair coin: P(H) = 0.5 and P(T) = 0.5. Is the event getting a Tail independent from the event getting a Head? Justify your answer rigorously."
   ]
  },
  {
   "cell_type": "markdown",
   "metadata": {
    "colab_type": "text",
    "id": "sMqV3ikWB1gg"
   },
   "source": [
    "3| Write a code to roll a die 60,000 times and count how many times the face 3 show up."
   ]
  },
  {
   "cell_type": "markdown",
   "metadata": {
    "colab_type": "text",
    "id": "xX4SAYrRvQpF"
   },
   "source": [
    "4| Events A and B are independent. Draw both events, using the function 'venn2'. "
   ]
  },
  {
   "cell_type": "markdown",
   "metadata": {
    "colab_type": "text",
    "id": "2z3to3HFLevn"
   },
   "source": [
    "5| Let A = {student is absent} and C = {student has coronavirus}. Decide if each statement is True or False. Justify your choice."
   ]
  },
  {
   "cell_type": "markdown",
   "metadata": {
    "colab_type": "text",
    "id": "1o4o-_zTUnVU"
   },
   "source": [
    "a) If the probability for a student to be absent is greater than the probability for a student has coronavirus, then $P(A|C) > P(C|A)$."
   ]
  },
  {
   "cell_type": "markdown",
   "metadata": {
    "colab_type": "text",
    "id": "2v_jUOY0WYw_"
   },
   "source": [
    "b) The probability that a student has coronavirus when it is known that the student is absent is equal to the probability that a student is absent when it is known that the student has coronavirus."
   ]
  },
  {
   "cell_type": "markdown",
   "metadata": {
    "colab_type": "text",
    "id": "7tJJhMiDXKTW"
   },
   "source": [
    "c) If the probability for a student to be absent is greater than the probability for a student to be sick, then A and C are dependent events."
   ]
  },
  {
   "cell_type": "markdown",
   "metadata": {
    "colab_type": "text",
    "id": "7bMFrZcCY2L3"
   },
   "source": [
    "d) The probability of a student being absent is greater than the probability that the student is absent given that the student has coronavirus."
   ]
  },
  {
   "cell_type": "markdown",
   "metadata": {
    "colab_type": "text",
    "id": "x8CLUkRiUNxd"
   },
   "source": [
    "## Reference"
   ]
  },
  {
   "cell_type": "markdown",
   "metadata": {
    "colab_type": "text",
    "id": "ugC0ZiKBUMlQ"
   },
   "source": [
    "Adhikari, A., Pitman, J. (2020). Probability for Data Science. [Link](http://prob140.org/textbook/README.html) \n",
    "\n",
    "Banks, Emily et al. (2004). Influence of personal characteristics of individual women on sensitivity and specificity of mammography in the Million Women Study: cohort study. BMJ (Clinical research ed.) vol. 329,7464: 477. doi:10.1136/bmj.329.7464.477\n",
    "\n",
    "Diez, D. M., Barr, C. D., Çetinkaya-Rundel, M. (2014). Introductory Statistics with Randomization and Simulation. [Link](https://www.openintro.org/stat/textbook.php?stat_book=isrs) "
   ]
  }
 ],
 "metadata": {
  "colab": {
   "name": "1)_Foundations_of_Probability.ipynb",
   "provenance": []
  },
  "kernelspec": {
   "display_name": "Python 3",
   "language": "python",
   "name": "python3"
  },
  "language_info": {
   "codemirror_mode": {
    "name": "ipython",
    "version": 3
   },
   "file_extension": ".py",
   "mimetype": "text/x-python",
   "name": "python",
   "nbconvert_exporter": "python",
   "pygments_lexer": "ipython3",
   "version": "3.7.6"
  }
 },
 "nbformat": 4,
 "nbformat_minor": 1
}