{
 "cells": [
  {
   "cell_type": "markdown",
   "metadata": {
    "colab_type": "text",
    "id": "3xG4g-yFKnhm"
   },
   "source": [
    "# 9) Simple Regression"
   ]
  },
  {
   "cell_type": "markdown",
   "metadata": {
    "colab_type": "text",
    "id": "q-cWOMku-lx_"
   },
   "source": [
    "Vitor Kamada\n",
    "\n",
    "econometrics.methods@gmail.com\n",
    "\n",
    "Last updated 8-2-2020"
   ]
  },
  {
   "cell_type": "markdown",
   "metadata": {
    "colab_type": "text",
    "id": "JX0o6kS_g2mP"
   },
   "source": [
    "#### 9.1) What is a simple regression model?"
   ]
  },
  {
   "cell_type": "markdown",
   "metadata": {
    "colab_type": "text",
    "id": "GeM8YY8Pj7RG"
   },
   "source": [
    "Simple regression is a model that measures how an explanatory variable $X$ is associated with a response variable $Y$.\n",
    "\n",
    "$$  Y = \\beta_0 + \\beta_1X + \\epsilon$$\n",
    "\n",
    "where $\\beta_0$ is the intercept, $\\beta_1$ the slope, and $\\epsilon$ is the error term."
   ]
  },
  {
   "cell_type": "markdown",
   "metadata": {
    "colab_type": "text",
    "id": "A3-s6Zz0mKpY"
   },
   "source": [
    "#### 9.2) What is the conditional mean, $E(Y|X=x)$?"
   ]
  },
  {
   "cell_type": "markdown",
   "metadata": {
    "colab_type": "text",
    "id": "FkUMkw3LpuT7"
   },
   "source": [
    "Conditional mean is the average of one variable ($Y$) given that another variable ($X$) takes on a specific value ($x$).\n",
    "\n",
    "Let's calculate the conditional mean of the simple regression:\n",
    "\n",
    "$$  Y = \\beta_0 + \\beta_1X + \\epsilon $$\n",
    "\n",
    "Take the conditional expectation:\n",
    "\n",
    "$$ E(Y|X=x) = E[(\\beta_0 + \\beta_1X + \\epsilon)|X=x] $$ \n",
    "\n",
    "$$ = E(\\beta_0|X=x) +  E(\\beta_1X|X=x) + E(\\epsilon|X=x)  $$\n",
    "\n",
    "$$ = \\beta_0  + \\beta_1X + 0$$\n",
    "\n",
    "Therefore:\n",
    "\n",
    "$$ E(Y|X=x) = \\mu_{y|x} = \\beta_0  + \\beta_1X$$ \n",
    "\n",
    "The main assumption of simple regression is that:\n",
    "\n",
    "$$ E(\\epsilon|X=x) =0  $$\n",
    "\n",
    "The expression above holds if the error term ($\\epsilon$) is independent of the explanatory variable ($X$)."
   ]
  },
  {
   "cell_type": "markdown",
   "metadata": {
    "colab_type": "text",
    "id": "YKlcXZCqIKId"
   },
   "source": [
    "#### 9.3) What are the properties of the error term, $\\epsilon$? "
   ]
  },
  {
   "cell_type": "markdown",
   "metadata": {
    "colab_type": "text",
    "id": "ypjl5Td2IU77"
   },
   "source": [
    "The error term ($\\epsilon$) is the deviation from the conditional mean.\n",
    "\n",
    "We cannot observe the error term ($\\epsilon$), but we know that:\n",
    "\n",
    "$$ \\epsilon = Y - E(Y|X=x) $$ \n"
   ]
  },
  {
   "cell_type": "markdown",
   "metadata": {
    "colab_type": "text",
    "id": "PkET_J5rs1Cy"
   },
   "source": [
    "We assume that the errors:\n",
    "1.   are independent of one another:\n",
    "\n",
    "$$   \\epsilon_i \\perp \\epsilon_j, \\  \\forall \\ i \\ne j  $$\n",
    "\n",
    "2.   have equal variance: \n",
    "\n",
    " $$Var(\\epsilon) = \\sigma^2_\\epsilon$$\n",
    "\n",
    "Therefore, the errors follow normal distribution with mean 0 and variance $\\sigma^2_\\epsilon$:\n",
    "\n",
    "$$ \\epsilon \\sim N(0, \\sigma^2_\\epsilon) $$\n",
    "\n",
    "These assumptions are necessary for classical inference (statistical test and confidence interval).\n",
    "\n"
   ]
  },
  {
   "cell_type": "markdown",
   "metadata": {
    "colab_type": "text",
    "id": "aVp5JdjwsPgS"
   },
   "source": [
    "#### 9.4) When the simple regression can be used to establish causality?  "
   ]
  },
  {
   "cell_type": "markdown",
   "metadata": {
    "colab_type": "text",
    "id": "0D4muqIJ-24o"
   },
   "source": [
    "Simple regression can be used to establish causality, when the treatment variable ($T$) is randomized.\n",
    "\n",
    "$$ Y = \\beta_0 + \\beta_1T + \\epsilon $$\n",
    "\n",
    "Let's see if 'race' affects the probability of receive a 'call' to an interview, using experimental data from Bertrand & Mullainathan (2004). In this study, 'race' was randomized. They randomly assigned a Black sounding name (ex: Lakish or Jamal) to half of the CVs and a White sounding name (ex: Emily or Greg) to the other half.\n",
    "\n",
    "$$ call = \\beta_0 + \\beta_1race + \\epsilon $$\n",
    "\n",
    "The result from simple regression is: \n",
    "\n",
    "$$ \\widehat{call} = 0.0965-0.032\\widehat{race} $$\n",
    "\n",
    "The value of intercept is 9.6%. This is the proportion of White applicants that received a callback for interview. \n",
    "\n",
    "The coefficient of 'race' is 3.2%. The interpretation is that being a Black applicant \"causes\" to receive 3.2% less callbacks for interview.\n",
    "\n",
    "Remember that 3.2% is a big magnitude, as it represents about 50% differential. In practical terms, Black applicants has to send 15 CVs to secure one interview rather than 10 CVs for White applicants.\n",
    "\n",
    "The coefficient of the treatment variable is also statistically significant at level of significance ($\\alpha$ = 1%).\n",
    "\n",
    "The t-value of -4.115 is the ratio:\n",
    "\n",
    " $$t = \\frac{coefficient}{standard\\ error} =\\frac{-0.032}{0.008} = -4.115$$\n",
    "\n",
    " The null hypothesis is:\n",
    " \n",
    "$$H_0: \\beta=0$$\n",
    "\n",
    "The t-value of -4 means that the observed value (-3.2%) is 4 standard deviation below the mean ($\\beta=0$). The p-value or probability  of getting this value at chance is virtually 0. Therefore, we reject the null hypothesis that the magnitude of treatment is 0.\n",
    "\n",
    "We would also reject the null hypothesis based on the 95% confidence interval [-4.7% to -1.7%]. See that the $\\beta=0$ is not inside the confidence interval."
   ]
  },
  {
   "cell_type": "code",
   "execution_count": null,
   "metadata": {
    "colab": {
     "base_uri": "https://localhost:8080/",
     "height": 173
    },
    "colab_type": "code",
    "id": "0_80d2-dCRRO",
    "outputId": "c27abe3b-b199-4e24-dca7-edd69fe10ada"
   },
   "outputs": [
    {
     "name": "stderr",
     "output_type": "stream",
     "text": [
      "/usr/local/lib/python3.6/dist-packages/statsmodels/tools/_testing.py:19: FutureWarning: pandas.util.testing is deprecated. Use the functions in the public API at pandas.testing instead.\n",
      "  import pandas.util.testing as tm\n"
     ]
    },
    {
     "name": "stdout",
     "output_type": "stream",
     "text": [
      "==============================================================================\n",
      "                 coef    std err          t      P>|t|      [0.025      0.975]\n",
      "------------------------------------------------------------------------------\n",
      "Intercept      0.0965      0.006     17.532      0.000       0.086       0.107\n",
      "Treatment     -0.0320      0.008     -4.115      0.000      -0.047      -0.017\n",
      "==============================================================================\n"
     ]
    }
   ],
   "source": [
    "# Import Data from Bertrand & Mullainathan (2004)\n",
    "import pandas as pd\n",
    "path = \"https://github.com/causal-methods/Data/raw/master/\" \n",
    "df = pd.read_stata(path + \"lakisha_aer.dta\")\n",
    "\n",
    "# Create intercept\n",
    "df['Intercept'] = 1\n",
    "\n",
    "# Create treatment variable\n",
    "import numpy as np\n",
    "df['Treatment'] = np.where(df['race'] =='b', 1, 0)\n",
    "\n",
    "# Fit simple regression model\n",
    "import statsmodels.api as sm\n",
    "ols = sm.OLS(df['call'], df[['Intercept', 'Treatment']],\n",
    "                    missing='drop').fit()\n",
    "\n",
    "# Print the results                    \n",
    "print(ols.summary().tables[1])"
   ]
  },
  {
   "cell_type": "markdown",
   "metadata": {
    "colab_type": "text",
    "id": "1QtPd6_FI7jT"
   },
   "source": [
    "#### 9.5) Is it necessary to run a regression to establish causality?"
   ]
  },
  {
   "cell_type": "markdown",
   "metadata": {
    "colab_type": "text",
    "id": "xLhK3iexJ3Ja"
   },
   "source": [
    "It is not necessary to run a regression to establish causality. The same results of the regression above can be obtained by mean comparison. See the table below.\n",
    "\n",
    "Only 6.4% of Blacks received a callback; whereas 9.6% of Whites received a callback.\n",
    "\n",
    "The slope is 0.064 - 0.096 = -0.032"
   ]
  },
  {
   "cell_type": "code",
   "execution_count": null,
   "metadata": {
    "colab": {
     "base_uri": "https://localhost:8080/",
     "height": 173
    },
    "colab_type": "code",
    "id": "S7DtMzgmHMq1",
    "outputId": "e7faefa7-912d-40fc-9bf1-2c5d53ff7700"
   },
   "outputs": [
    {
     "data": {
      "text/html": [
       "<div>\n",
       "<style scoped>\n",
       "    .dataframe tbody tr th:only-of-type {\n",
       "        vertical-align: middle;\n",
       "    }\n",
       "\n",
       "    .dataframe tbody tr th {\n",
       "        vertical-align: top;\n",
       "    }\n",
       "\n",
       "    .dataframe thead tr th {\n",
       "        text-align: left;\n",
       "    }\n",
       "\n",
       "    .dataframe thead tr:last-of-type th {\n",
       "        text-align: right;\n",
       "    }\n",
       "</style>\n",
       "<table border=\"1\" class=\"dataframe\">\n",
       "  <thead>\n",
       "    <tr>\n",
       "      <th></th>\n",
       "      <th>call</th>\n",
       "    </tr>\n",
       "    <tr>\n",
       "      <th></th>\n",
       "      <th>mean</th>\n",
       "    </tr>\n",
       "    <tr>\n",
       "      <th>race</th>\n",
       "      <th></th>\n",
       "    </tr>\n",
       "  </thead>\n",
       "  <tbody>\n",
       "    <tr>\n",
       "      <th>b</th>\n",
       "      <td>0.064476</td>\n",
       "    </tr>\n",
       "    <tr>\n",
       "      <th>w</th>\n",
       "      <td>0.096509</td>\n",
       "    </tr>\n",
       "  </tbody>\n",
       "</table>\n",
       "</div>"
      ],
      "text/plain": [
       "          call\n",
       "          mean\n",
       "race          \n",
       "b     0.064476\n",
       "w     0.096509"
      ]
     },
     "execution_count": 2,
     "metadata": {
      "tags": []
     },
     "output_type": "execute_result"
    }
   ],
   "source": [
    "df.loc[:, ('call', 'race')].groupby('race').agg([np.mean])"
   ]
  },
  {
   "cell_type": "markdown",
   "metadata": {
    "colab_type": "text",
    "id": "IkNyV9lPM4Hz"
   },
   "source": [
    "The practical advantage of regression is that the computer automatically provides the standard errors, t-statistic, p-value, and 95% confidence interval.\n",
    "\n",
    "We also can get the same t-statistic and p-value from the regression. Note that pvalue=3.940802103128886e-05 is 0, as e-05 = $\\frac{1}{10^5}$"
   ]
  },
  {
   "cell_type": "code",
   "execution_count": null,
   "metadata": {
    "colab": {
     "base_uri": "https://localhost:8080/",
     "height": 34
    },
    "colab_type": "code",
    "id": "4b4E6j13M5ww",
    "outputId": "56ca7900-98b1-41f4-b3f0-b89075c30b52"
   },
   "outputs": [
    {
     "data": {
      "text/plain": [
       "Ttest_indResult(statistic=4.114705290861751, pvalue=3.940802103128886e-05)"
      ]
     },
     "execution_count": 3,
     "metadata": {
      "tags": []
     },
     "output_type": "execute_result"
    }
   ],
   "source": [
    "from scipy.stats import *\n",
    "white = df[df['race'] == 'w'] \n",
    "black = df[df['race'] == 'b'] \n",
    "TwoTail=ttest_ind(white['call'],black['call'], equal_var=True)\n",
    "TwoTail"
   ]
  },
  {
   "cell_type": "markdown",
   "metadata": {
    "colab_type": "text",
    "id": "AzMJIbKYU6Pp"
   },
   "source": [
    "#### 9.6) Is the slope $\\beta_1$ equal to the correlation between $X$ and $Y$?"
   ]
  },
  {
   "cell_type": "markdown",
   "metadata": {
    "colab_type": "text",
    "id": "ZR4pFXmrVcLi"
   },
   "source": [
    "The formula for the slope $\\beta_1$ in a simple regression is:\n",
    "\n",
    "$$ \\beta_1 = \\rho \\cdot \\frac{SD(Y)}{SD(X)}$$\n",
    "\n",
    "The slope $\\beta_1$ is equal to the correlation $\\rho$, when the standard deviation of $Y$ is equal to the standard deviation of $X$: \n",
    "\n",
    "$$SD(Y) = SD(Y)$$\n",
    "\n",
    "As $SD(X)$ and $SD(Y)$ can only be a positive number, a positive correlation ($\\rho >0$) means a positive slope; while a negative correlation ($\\rho <0$) means a negative slope.\n",
    "\n",
    "Let's reproduce the result of the regression table in 8.4:\n",
    "\n",
    "$$  \\hat{\\beta_1} = -0.058 \\cdot \\frac{0.272}{0.5}    $$\n",
    "\n",
    "$$ = -0.032$$ "
   ]
  },
  {
   "cell_type": "code",
   "execution_count": null,
   "metadata": {
    "colab": {
     "base_uri": "https://localhost:8080/",
     "height": 51
    },
    "colab_type": "code",
    "id": "Akwi41DAZXhG",
    "outputId": "0bc2dbe2-a432-4e05-cf7a-b1fbe7b1295c"
   },
   "outputs": [
    {
     "data": {
      "text/plain": [
       "array([[ 1.       , -0.0588721],\n",
       "       [-0.0588721,  1.       ]])"
      ]
     },
     "execution_count": 4,
     "metadata": {
      "tags": []
     },
     "output_type": "execute_result"
    }
   ],
   "source": [
    "correlation = np.corrcoef(df['Treatment'], df['call'])\n",
    "correlation"
   ]
  },
  {
   "cell_type": "code",
   "execution_count": null,
   "metadata": {
    "colab": {
     "base_uri": "https://localhost:8080/",
     "height": 34
    },
    "colab_type": "code",
    "id": "cR023bIFamNs",
    "outputId": "221f4220-860d-45a9-fd4e-c238d5d209bd"
   },
   "outputs": [
    {
     "data": {
      "text/plain": [
       "0.5"
      ]
     },
     "execution_count": 5,
     "metadata": {
      "tags": []
     },
     "output_type": "execute_result"
    }
   ],
   "source": [
    "sdx = np.std(df['Treatment'])\n",
    "sdx"
   ]
  },
  {
   "cell_type": "code",
   "execution_count": null,
   "metadata": {
    "colab": {
     "base_uri": "https://localhost:8080/",
     "height": 34
    },
    "colab_type": "code",
    "id": "29cKAWu5bCKr",
    "outputId": "b928a975-6630-41bd-a6d2-a60c5b2768c0"
   },
   "outputs": [
    {
     "data": {
      "text/plain": [
       "0.27205151319503784"
      ]
     },
     "execution_count": 6,
     "metadata": {
      "tags": []
     },
     "output_type": "execute_result"
    }
   ],
   "source": [
    "sdy = np.std(df['call'])\n",
    "sdy"
   ]
  },
  {
   "cell_type": "code",
   "execution_count": null,
   "metadata": {
    "colab": {
     "base_uri": "https://localhost:8080/",
     "height": 34
    },
    "colab_type": "code",
    "id": "AnouT0w2bPvy",
    "outputId": "b05483d7-c7b3-4b29-b5c9-71e96952e46f"
   },
   "outputs": [
    {
     "data": {
      "text/plain": [
       "-0.03203248755487692"
      ]
     },
     "execution_count": 7,
     "metadata": {
      "tags": []
     },
     "output_type": "execute_result"
    }
   ],
   "source": [
    "beta1 = correlation[0,1]*sdy/sdx\n",
    "beta1"
   ]
  },
  {
   "cell_type": "markdown",
   "metadata": {
    "colab_type": "text",
    "id": "GgHtXg16dBLL"
   },
   "source": [
    "#### 9.7) What is the formula for the intercept, $\\beta_0$?"
   ]
  },
  {
   "cell_type": "markdown",
   "metadata": {
    "colab_type": "text",
    "id": "J-x0sLWldLME"
   },
   "source": [
    "The formula for the intercept, $\\beta_0$ is:\n",
    "\n",
    "$$ \\beta_0 = E[Y] - \\beta_1E(X) $$\n",
    "\n",
    "For data notation:\n",
    "\n",
    "$$ \\hat\\beta_0 = \\bar{y} - \\hat\\beta_1 \\bar{x} $$ \n",
    "\n",
    "$$ =0.0804-(0.032\\cdot0.5)  $$\n",
    "\n",
    "$$ =0.0965  $$"
   ]
  },
  {
   "cell_type": "code",
   "execution_count": null,
   "metadata": {
    "colab": {
     "base_uri": "https://localhost:8080/",
     "height": 34
    },
    "colab_type": "code",
    "id": "Td0uQJg4eAh6",
    "outputId": "1c45e1a4-59ca-4663-960a-052e5371e10d"
   },
   "outputs": [
    {
     "data": {
      "text/plain": [
       "0.08049281686544418"
      ]
     },
     "execution_count": 8,
     "metadata": {
      "tags": []
     },
     "output_type": "execute_result"
    }
   ],
   "source": [
    "ymean = np.mean(df['call'])\n",
    "ymean"
   ]
  },
  {
   "cell_type": "code",
   "execution_count": null,
   "metadata": {
    "colab": {
     "base_uri": "https://localhost:8080/",
     "height": 34
    },
    "colab_type": "code",
    "id": "x3pZvJdVeNJ6",
    "outputId": "dd17e3f8-05e4-4c35-c35b-b801360692c5"
   },
   "outputs": [
    {
     "data": {
      "text/plain": [
       "0.5"
      ]
     },
     "execution_count": 9,
     "metadata": {
      "tags": []
     },
     "output_type": "execute_result"
    }
   ],
   "source": [
    "xmean = np.mean(df['Treatment'])\n",
    "xmean"
   ]
  },
  {
   "cell_type": "code",
   "execution_count": null,
   "metadata": {
    "colab": {
     "base_uri": "https://localhost:8080/",
     "height": 34
    },
    "colab_type": "code",
    "id": "w_iNylk1eN7i",
    "outputId": "af7b89fe-469e-4388-c540-5779d79cebb9"
   },
   "outputs": [
    {
     "data": {
      "text/plain": [
       "0.09650906064288264"
      ]
     },
     "execution_count": 10,
     "metadata": {
      "tags": []
     },
     "output_type": "execute_result"
    }
   ],
   "source": [
    "beta0 = ymean - (beta1*xmean)\n",
    "beta0"
   ]
  },
  {
   "cell_type": "markdown",
   "metadata": {
    "colab_type": "text",
    "id": "8jGN6a1HfMIG"
   },
   "source": [
    "#### 9.8) What is the R-squared, $R^2$ in a simple regression?"
   ]
  },
  {
   "cell_type": "markdown",
   "metadata": {
    "colab_type": "text",
    "id": "cE-QmPFygNgb"
   },
   "source": [
    " R-squared is the square of the correlation between $X$ and $Y$. It measures the percentage of \"explained\" variation in $Y$ by using $X$.\n",
    "\n",
    " Let's calculate the $R^2$ for the regression in 8.4:\n",
    "\n",
    " $$ R^2 = \\rho^2_{XY}$$\n",
    "\n",
    "$$ =-0.058^2 $$\n",
    "\n",
    " $$ = 0.0034$$\n",
    "\n",
    " The explanatory variable 'race' explains 0.34% of the variation in the response variable 'call'."
   ]
  },
  {
   "cell_type": "code",
   "execution_count": null,
   "metadata": {
    "colab": {
     "base_uri": "https://localhost:8080/",
     "height": 34
    },
    "colab_type": "code",
    "id": "UXK44FxIhPty",
    "outputId": "a041b8af-f872-4748-df6f-3e399b81b401"
   },
   "outputs": [
    {
     "data": {
      "text/plain": [
       "0.003465924109706403"
      ]
     },
     "execution_count": 11,
     "metadata": {
      "tags": []
     },
     "output_type": "execute_result"
    }
   ],
   "source": [
    "r2 = correlation[0,1]*correlation[0,1]\n",
    "r2 "
   ]
  },
  {
   "cell_type": "code",
   "execution_count": null,
   "metadata": {
    "colab": {
     "base_uri": "https://localhost:8080/",
     "height": 34
    },
    "colab_type": "code",
    "id": "gLm-1KeFg-9s",
    "outputId": "fb42cb1c-269e-4fff-9de9-92fa7cf8ff97"
   },
   "outputs": [
    {
     "data": {
      "text/plain": [
       "0.0034659599042828892"
      ]
     },
     "execution_count": 12,
     "metadata": {
      "tags": []
     },
     "output_type": "execute_result"
    }
   ],
   "source": [
    "ols.rsquared"
   ]
  },
  {
   "cell_type": "markdown",
   "metadata": {
    "colab_type": "text",
    "id": "GPI7JXV2j6DD"
   },
   "source": [
    "#### 9.9) Should I care about $R^2$ to establish causality?"
   ]
  },
  {
   "cell_type": "markdown",
   "metadata": {
    "colab_type": "text",
    "id": "K544U63wkLXE"
   },
   "source": [
    "$R^2$ is irrelevant to establish causality. The previous example shows that 'race' and 'call' were pretty much uncorrelated ($r = -0.058$) and $R^2$ was below 1%. However, 'race' was randomized, and the coefficient of the 'race' was statistically significant. Therefore, we can rigorously claim that being Black causes a lower callback for interview. In other words, racial discrimination is real. \n",
    "\n",
    "Note that $R^2$ only captures linear association, that is, how the data points are closer to the line. When both explanatory and response variable only vary from 0 to 1, the data points don't fit well to the line."
   ]
  },
  {
   "cell_type": "markdown",
   "metadata": {
    "colab_type": "text",
    "id": "QKZQTL-kzGQm"
   },
   "source": [
    "## Exercises"
   ]
  },
  {
   "cell_type": "markdown",
   "metadata": {
    "colab_type": "text",
    "id": "ftq9gtKNEGUD"
   },
   "source": [
    "1| Explain what is the difference between correlation and causation in the context of simple regression?"
   ]
  },
  {
   "cell_type": "markdown",
   "metadata": {
    "colab_type": "text",
    "id": "B-qppCf8_VQE"
   },
   "source": [
    "2| Bertrand & Mullainathan (2004) randomized another variable 'h'. The variable 'h': 1 = higher quality curriculum vitae; 0 = lower quality curriculum vitae. What is the proportion of callback for an interview broken by quality of curriculum vitae? "
   ]
  },
  {
   "cell_type": "markdown",
   "metadata": {
    "colab_type": "text",
    "id": "y1RjS-2D_WFQ"
   },
   "source": [
    "3| Run a simple regression with response variable 'call' and explanatory variable 'h'. "
   ]
  },
  {
   "cell_type": "markdown",
   "metadata": {
    "colab_type": "text",
    "id": "5d_4OTwGCMjs"
   },
   "source": [
    "a) Interpret the intercept and slope. "
   ]
  },
  {
   "cell_type": "markdown",
   "metadata": {
    "colab_type": "text",
    "id": "9K9qP_23Cv1L"
   },
   "source": [
    "b) What is the p-value of the variable 'h'?"
   ]
  },
  {
   "cell_type": "markdown",
   "metadata": {
    "colab_type": "text",
    "id": "tEj8q6GRCOUr"
   },
   "source": [
    "c) Is the quality curriculum vitae statistically significant at $\\alpha = 5\\%$? and  $\\alpha = 10\\%$?"
   ]
  },
  {
   "cell_type": "markdown",
   "metadata": {
    "colab_type": "text",
    "id": "_aixf0saC4CA"
   },
   "source": [
    "d) What is the range of the 95% confidence interval of the intercept?"
   ]
  },
  {
   "cell_type": "markdown",
   "metadata": {
    "colab_type": "text",
    "id": "lhLS5NAPDIbp"
   },
   "source": [
    "e) Is the intercept statistically significant? Adopt a level of significance $\\alpha$ and justify."
   ]
  },
  {
   "cell_type": "markdown",
   "metadata": {
    "colab_type": "text",
    "id": "gBMi7I_MDciZ"
   },
   "source": [
    "f) Calculate the $R^2$. Interpret the obtained value."
   ]
  },
  {
   "cell_type": "markdown",
   "metadata": {
    "colab_type": "text",
    "id": "rKezT7tf_Axw"
   },
   "source": [
    "## Reference"
   ]
  },
  {
   "cell_type": "markdown",
   "metadata": {
    "colab_type": "text",
    "id": "yDxmE23m_Cdi"
   },
   "source": [
    "Adhikari, A., DeNero, J. (2020). Computational and Inferential Thinking: The Foundations of Data Science. [Link](https://www.inferentialthinking.com/chapters/intro.html) \n",
    "\n",
    "Bertrand, Marianne, and Sendhil Mullainathan. (2004). Are Emily and Greg More Employable Than Lakisha and Jamal? A Field Experiment on Labor Market Discrimination. American Economic Review, 94 (4): 991-1013.\n",
    "\n",
    "Diez, D. M., Barr, C. D., Çetinkaya-Rundel, M. (2014). Introductory Statistics with Randomization and Simulation. [Link](https://www.openintro.org/stat/textbook.php?stat_book=isrs) \n",
    "\n",
    "Lau, S., Gonzalez, J., Nolan, D. (2020). Principles and Techniques of Data Science.  [Link](https://www.textbook.ds100.org/intro)"
   ]
  }
 ],
 "metadata": {
  "colab": {
   "name": "9)_Simple_Regression.ipynb",
   "provenance": []
  },
  "kernelspec": {
   "display_name": "Python 3",
   "language": "python",
   "name": "python3"
  },
  "language_info": {
   "codemirror_mode": {
    "name": "ipython",
    "version": 3
   },
   "file_extension": ".py",
   "mimetype": "text/x-python",
   "name": "python",
   "nbconvert_exporter": "python",
   "pygments_lexer": "ipython3",
   "version": "3.7.6"
  }
 },
 "nbformat": 4,
 "nbformat_minor": 1
}