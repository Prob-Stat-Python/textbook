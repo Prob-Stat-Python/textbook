{
 "cells": [
  {
   "cell_type": "markdown",
   "metadata": {
    "colab_type": "text",
    "id": "3xG4g-yFKnhm"
   },
   "source": [
    "# 7) Statistical Tests"
   ]
  },
  {
   "cell_type": "markdown",
   "metadata": {
    "colab_type": "text",
    "id": "q-cWOMku-lx_"
   },
   "source": [
    "Vitor Kamada\n",
    "\n",
    "econometrics.methods@gmail.com\n",
    "\n",
    "Last updated 7-22-2020"
   ]
  },
  {
   "cell_type": "markdown",
   "metadata": {
    "colab_type": "text",
    "id": "JX0o6kS_g2mP"
   },
   "source": [
    "#### 7.1) What is the difference between null hypothesis ($H_0$) and  alternative hypothesis ($H_a$)?"
   ]
  },
  {
   "cell_type": "markdown",
   "metadata": {
    "colab_type": "text",
    "id": "FkUMkw3LpuT7"
   },
   "source": [
    "A statistical hypothesis is a claim about a parameter of a population. \n",
    "Null hypothesis ($H_0$) is the hypothesis that sets out the status quo or default course of action; whereas, alternative hypothesis ($H_a$) challenges the assertion of the null hypothesis.\n",
    "\n",
    "Based on historical data, let's claim that when students send several curriculum vitae (CVs), they receive a callback for interview of 7%:\n",
    "\n",
    "$$ H_0:p\\le 0.07$$\n",
    "\n",
    "$$vs$$\n",
    "\n",
    "$$ H_a:p> 0.07 $$"
   ]
  },
  {
   "cell_type": "markdown",
   "metadata": {
    "colab_type": "text",
    "id": "aVp5JdjwsPgS"
   },
   "source": [
    "#### 7.2) What is difference between one-sided hypotheses and two-sided hypotheses?"
   ]
  },
  {
   "cell_type": "markdown",
   "metadata": {
    "colab_type": "text",
    "id": "DMEdj3S1q7GV"
   },
   "source": [
    "In a one-sided hypotheses, the null hypothesis permit any value of a parameter larger (or smaller) than a specified value: \n",
    "\n",
    "$$ H_0:p\\le 0.07$$\n",
    "\n",
    "$$vs$$\n",
    "\n",
    "$$ H_a:p> 0.07 $$\n",
    "\n",
    "In a two-sided hypotheses, the null hypothesis states a specific value for the population parameter:\n",
    "\n",
    "$$ H_0:p= 0.07$$\n",
    "\n",
    "$$vs$$\n",
    "\n",
    "$$ H_a:p\\neq 0.07 $$\n"
   ]
  },
  {
   "cell_type": "markdown",
   "metadata": {
    "colab_type": "text",
    "id": "8HZI3rTb6IgF"
   },
   "source": [
    "#### 7.3) What is Type I and II Errors?"
   ]
  },
  {
   "cell_type": "markdown",
   "metadata": {
    "colab_type": "text",
    "id": "Rs3Nhj4DEBvr"
   },
   "source": [
    "Type 1 error ($\\alpha$) is to reject the $H_0$, when the $H_0$ is true. \n",
    "\n",
    "Type 2 error ($\\beta$) is to retain (fail to reject) the $H_0$, when the $H_a$ is true.\n",
    "\n",
    "The right decision is to retain the $H_0$, when the $H_0$ is true, and to reject the $H_0$, when the $H_a$ is true. "
   ]
  },
  {
   "cell_type": "markdown",
   "metadata": {
    "colab_type": "text",
    "id": "Fcqkoi_56yMu"
   },
   "source": [
    "> .               |Retain $H_0$   |Reject $H_0$\n",
    ">---              |---            |---\n",
    ">$H_0$ $is$ $true$|OK             |$\\alpha$ = Type 1 Error \n",
    ">$H_a$ $is$ $true$| $\\beta$ =Type 2 Error    |OK\n",
    "\n"
   ]
  },
  {
   "cell_type": "markdown",
   "metadata": {
    "colab_type": "text",
    "id": "0iaeO9mbAsUr"
   },
   "source": [
    "#### 7.4) When a jury convicts an innocent defendant, what type of error the jury commits? "
   ]
  },
  {
   "cell_type": "markdown",
   "metadata": {
    "colab_type": "text",
    "id": "g3ePffxzI-yg"
   },
   "source": [
    "In the modern legal system, one is considered innocent until proven guilty. The jury commits Type I error, when they send an innocent to the prison, that is, reject the $H_0$, when the $H_0$ is true. \n"
   ]
  },
  {
   "cell_type": "markdown",
   "metadata": {
    "colab_type": "text",
    "id": "xYoHbi9ELZq6"
   },
   "source": [
    "#### 7.5) Could we design a legal system that never convicts an innocent defendant?"
   ]
  },
  {
   "cell_type": "markdown",
   "metadata": {
    "colab_type": "text",
    "id": "qmviHvuXLwL5"
   },
   "source": [
    "Yes. If we always retain the $H_0$. What is the problem of this approach? Type 2 error is maximized, that is, criminals never go to the prison. There is a trade-off between Type 1 and Type 2 error. It is not possible to minimize both in the same time."
   ]
  },
  {
   "cell_type": "markdown",
   "metadata": {
    "colab_type": "text",
    "id": "6_nxLJRg16Sl"
   },
   "source": [
    "#### 7.6) What is test statistic?"
   ]
  },
  {
   "cell_type": "markdown",
   "metadata": {
    "colab_type": "text",
    "id": "AZ2L39nR2GfJ"
   },
   "source": [
    "Test statistic is the sample statistic that estimates the population parameter stipulated by the null hypothesis.\n",
    "\n",
    "For example, $\\hat{p}$, the proportion of callback for interview in a sample is a test statistic.\n"
   ]
  },
  {
   "cell_type": "markdown",
   "metadata": {
    "colab_type": "text",
    "id": "PtcHHQ4T4RPZ"
   },
   "source": [
    "#### 7.7) What is the level of significance ($\\alpha$) of a hypothesis test?"
   ]
  },
  {
   "cell_type": "markdown",
   "metadata": {
    "colab_type": "text",
    "id": "UKlAabpH4xnY"
   },
   "source": [
    "Level of significance ($\\alpha$) is the probability of Type 1 error. It is the threshold for rejecting the $H_0$. "
   ]
  },
  {
   "cell_type": "markdown",
   "metadata": {
    "colab_type": "text",
    "id": "uhqe9xtH6dki"
   },
   "source": [
    "#### 7.8) What is p-value?"
   ]
  },
  {
   "cell_type": "markdown",
   "metadata": {
    "colab_type": "text",
    "id": "NFBco--y6ore"
   },
   "source": [
    "Smallest $\\alpha$ level at which $H_0$ can be rejected."
   ]
  },
  {
   "cell_type": "markdown",
   "metadata": {
    "colab_type": "text",
    "id": "_Wqicrbo6zM5"
   },
   "source": [
    "#### 7.9) What means \"statistically significant\"?"
   ]
  },
  {
   "cell_type": "markdown",
   "metadata": {
    "colab_type": "text",
    "id": "N1kuzOw97A8v"
   },
   "source": [
    "A result is statistically significant if the test rejects $H_0$ at the chosen level of significance ($\\alpha$)."
   ]
  },
  {
   "cell_type": "markdown",
   "metadata": {
    "colab_type": "text",
    "id": "dbZAuv_r9D51"
   },
   "source": [
    "#### 7.10) What is z-statistic and z-test?"
   ]
  },
  {
   "cell_type": "markdown",
   "metadata": {
    "colab_type": "text",
    "id": "hO3Ym2Rv9NAQ"
   },
   "source": [
    "z-statistic is the number of standard errors that separate the test statistic from the region specified by $H_0$:\n",
    "\n",
    "$$z=\\frac{deviation\\ of\\ test\\ statistic\\ from\\ H_0}{standard\\ error\\ of\\ test\\ statistic} $$\n",
    "\n",
    "$$= \\frac{\\hat{p}-p_0}{\\sqrt{\\frac{p_0(1-p_0)}{n}}}$$\n",
    "\n",
    "z-test is the test of $H_0$ based on number of standard errors separating $H_0$ from the test statistic."
   ]
  },
  {
   "cell_type": "markdown",
   "metadata": {
    "colab_type": "text",
    "id": "pYSw5uHBBndy"
   },
   "source": [
    "#### 7.11) A student sent 50 curriculum vitae (CVs) and received 7 callbacks for interview. Test the null hypothesis $H_0: p \\le 0.07$ in which $p$ represents the probability of callback. Adopt a  level of significance ($\\alpha =5\\%$)."
   ]
  },
  {
   "cell_type": "markdown",
   "metadata": {
    "colab_type": "text",
    "id": "wsBtVtQwKEJv"
   },
   "source": [
    "Given $\\alpha =5\\%$, we must get 'z' that makes $P(Z>z)=0.05$ true."
   ]
  },
  {
   "cell_type": "code",
   "execution_count": 1,
   "metadata": {
    "colab": {
     "base_uri": "https://localhost:8080/",
     "height": 34
    },
    "colab_type": "code",
    "id": "YlGViZ1bKEZe",
    "outputId": "c2a3221d-d43f-4ef7-ff4e-dcdda2624107"
   },
   "outputs": [
    {
     "data": {
      "text/plain": [
       "1.6448536269514722"
      ]
     },
     "execution_count": 1,
     "metadata": {},
     "output_type": "execute_result"
    }
   ],
   "source": [
    "from scipy import stats\n",
    "stats.norm.ppf(0.95)"
   ]
  },
  {
   "cell_type": "markdown",
   "metadata": {
    "colab_type": "text",
    "id": "fMWDQdknLH2Q"
   },
   "source": [
    "Let's visualize $P(Z>1.64)=0.05$ in the chart below.\n",
    "\n",
    "The yellow area is exactly 5%. It represents the critical region, where we reject the $H_0$."
   ]
  },
  {
   "cell_type": "code",
   "execution_count": 2,
   "metadata": {
    "colab": {
     "base_uri": "https://localhost:8080/",
     "height": 390
    },
    "colab_type": "code",
    "id": "uRuao9xdLSLl",
    "outputId": "c300f2ba-a610-40a0-e81f-6dd35d552e3f"
   },
   "outputs": [
    {
     "name": "stderr",
     "output_type": "stream",
     "text": [
      "C:\\Users\\acer\\anaconda3\\envs\\book\\lib\\site-packages\\datascience\\tables.py:17: MatplotlibDeprecationWarning: The 'warn' parameter of use() is deprecated since Matplotlib 3.1 and will be removed in 3.3.  If any parameter follows 'warn', they should be pass as keyword, not positionally.\n",
      "  matplotlib.use('agg', warn=False)\n",
      "C:\\Users\\acer\\anaconda3\\envs\\book\\lib\\site-packages\\datascience\\util.py:10: MatplotlibDeprecationWarning: The 'warn' parameter of use() is deprecated since Matplotlib 3.1 and will be removed in 3.3.  If any parameter follows 'warn', they should be pass as keyword, not positionally.\n",
      "  matplotlib.use('agg', warn=False)\n"
     ]
    },
    {
     "data": {
      "image/png": "[encoded data removed]",
      "text/plain": [
       "<Figure size 432x288 with 1 Axes>"
      ]
     },
     "metadata": {
      "filenames": {
       "image/png": "C:\\Users\\acer\\Desktop\\Prob\\_build\\jupyter_execute\\7)_Statistical_Tests_27_1.png"
      },
      "needs_background": "light"
     },
     "output_type": "display_data"
    }
   ],
   "source": [
    "from datascience import plot_normal_cdf\n",
    "import matplotlib.pyplot as plots\n",
    "%matplotlib inline\n",
    "plot_normal_cdf(lbound=1.64)"
   ]
  },
  {
   "cell_type": "markdown",
   "metadata": {
    "colab_type": "text",
    "id": "AY6YrYZpD32h"
   },
   "source": [
    "The observed statistic is: $\\hat{p}=\\frac{7}{50}=0.14$\n",
    "\n",
    "z-test:\n",
    "\n",
    "$$ z  = \\frac{\\hat{p}-p_0}{\\sqrt{\\frac{p_0(1-p_0)}{n}}}$$\n",
    "\n",
    "$$  = \\frac{0.14-0.07}{\\sqrt{\\frac{0.07(1-0.07)}{50}}}$$\n",
    "\n",
    "$$  = \\frac{0.07}{0.036}$$\n",
    "\n",
    "$$  = 1.939$$\n",
    "\n",
    "The threshold is 1.64. Therefore, 1.939 is clear inside the critical region, where the $H_0$ is rejected. "
   ]
  },
  {
   "cell_type": "code",
   "execution_count": 3,
   "metadata": {
    "colab": {
     "base_uri": "https://localhost:8080/",
     "height": 34
    },
    "colab_type": "code",
    "id": "DMmst7RSFZ4B",
    "outputId": "753a184d-df9a-4534-d89a-e05c247e2497"
   },
   "outputs": [
    {
     "data": {
      "text/plain": [
       "0.03608323710533744"
      ]
     },
     "execution_count": 3,
     "metadata": {},
     "output_type": "execute_result"
    }
   ],
   "source": [
    "se = ((0.07)*(1-0.07)/50)**(1/2)\n",
    "se"
   ]
  },
  {
   "cell_type": "code",
   "execution_count": 4,
   "metadata": {
    "colab": {
     "base_uri": "https://localhost:8080/",
     "height": 34
    },
    "colab_type": "code",
    "id": "O-DZhZeCF3_N",
    "outputId": "0b878cf8-f9c2-4201-8007-b851f95e9616"
   },
   "outputs": [
    {
     "data": {
      "text/plain": [
       "1.9399589841579263"
      ]
     },
     "execution_count": 4,
     "metadata": {},
     "output_type": "execute_result"
    }
   ],
   "source": [
    "(0.14-0.07)/se"
   ]
  },
  {
   "cell_type": "markdown",
   "metadata": {
    "colab_type": "text",
    "id": "lQI_9DlWM122"
   },
   "source": [
    "Let's calculate and visualize the p-value: $P(Z>1.939)$"
   ]
  },
  {
   "cell_type": "code",
   "execution_count": 5,
   "metadata": {
    "colab": {
     "base_uri": "https://localhost:8080/",
     "height": 34
    },
    "colab_type": "code",
    "id": "fpKFaQ4MOeEJ",
    "outputId": "aaf3c7a3-26e2-40b2-b1cd-e0dfc53b2435"
   },
   "outputs": [
    {
     "data": {
      "text/plain": [
       "0.026250669079613265"
      ]
     },
     "execution_count": 5,
     "metadata": {},
     "output_type": "execute_result"
    }
   ],
   "source": [
    "1 - stats.norm.cdf(1.939)"
   ]
  },
  {
   "cell_type": "code",
   "execution_count": 6,
   "metadata": {
    "colab": {
     "base_uri": "https://localhost:8080/",
     "height": 298
    },
    "colab_type": "code",
    "id": "UseRzxs_Os63",
    "outputId": "7035a165-09ef-42e0-d816-1ee9c0015bf6"
   },
   "outputs": [
    {
     "data": {
      "image/png": "[encoded data removed]",
      "text/plain": [
       "<Figure size 432x288 with 1 Axes>"
      ]
     },
     "metadata": {
      "filenames": {
       "image/png": "C:\\Users\\acer\\Desktop\\Prob\\_build\\jupyter_execute\\7)_Statistical_Tests_33_0.png"
      },
      "needs_background": "light"
     },
     "output_type": "display_data"
    }
   ],
   "source": [
    "plot_normal_cdf(lbound=1.939)"
   ]
  },
  {
   "cell_type": "markdown",
   "metadata": {
    "colab_type": "text",
    "id": "DF49j9P0I-Y3"
   },
   "source": [
    "The p-value is 2.62%. "
   ]
  },
  {
   "cell_type": "markdown",
   "metadata": {
    "colab_type": "text",
    "id": "PTDLZ7FSE4Im"
   },
   "source": [
    "#### 7.12) What is the t-statistic and t-test for the mean ($\\mu$)?"
   ]
  },
  {
   "cell_type": "markdown",
   "metadata": {
    "colab_type": "text",
    "id": "kqlSZVKX15Y_"
   },
   "source": [
    "The t-statistic is the number of estimated standard errors from $\\bar{x}$ to $\\mu_0$.\n",
    " \n",
    "The t-test uses a t-statistic as the test statistic:\n",
    "\n",
    "$$ t=  \\frac{Deviation\\ of\\ sample\\ statistic\\ from\\ H_0}{Estimated\\ standard\\ error\\ of\\ sample\\ statistic}  $$\n",
    "\n",
    "$$ = \\frac{\\bar{x}-\\mu_0}{\\frac{s}{\\sqrt{n}}} $$"
   ]
  },
  {
   "cell_type": "markdown",
   "metadata": {
    "colab_type": "text",
    "id": "Zi2TVEo1bXDs"
   },
   "source": [
    "#### 7.13) In a sample of 36 job applicants, the average years of experience is 1 with standard deviation $s = 3$. Test the null hypothesis $H_0: \\mu \\ge 2$. Adopt a  level of significance ($\\alpha =5\\%$)"
   ]
  },
  {
   "cell_type": "markdown",
   "metadata": {
    "colab_type": "text",
    "id": "bxsyi8SYgXc3"
   },
   "source": [
    "  Given $\\alpha =5\\%$, we must get 't' that makes $P(T<t_{n-1})=0.05$ true."
   ]
  },
  {
   "cell_type": "code",
   "execution_count": 7,
   "metadata": {
    "colab": {
     "base_uri": "https://localhost:8080/",
     "height": 34
    },
    "colab_type": "code",
    "id": "h0T0dlZugjRf",
    "outputId": "973a18e9-1399-4218-ec23-8de89c44118b"
   },
   "outputs": [
    {
     "data": {
      "text/plain": [
       "-1.6895724539637715"
      ]
     },
     "execution_count": 7,
     "metadata": {},
     "output_type": "execute_result"
    }
   ],
   "source": [
    "stats.t.ppf(0.05,35)"
   ]
  },
  {
   "cell_type": "markdown",
   "metadata": {
    "colab_type": "text",
    "id": "2tI_5FE0jpuP"
   },
   "source": [
    "Let's visualize $P(T<t_{n-1})=0.05$ in the chart below.\n",
    "\n",
    "The area on the left of the  red dashed vertical line is exactly 5%. It represents the critical region, where we reject the $H_0$."
   ]
  },
  {
   "cell_type": "code",
   "execution_count": 8,
   "metadata": {
    "colab": {
     "base_uri": "https://localhost:8080/",
     "height": 308
    },
    "colab_type": "code",
    "id": "mY9e3mdHhR_1",
    "outputId": "9bce964a-7f32-4230-8505-9bb25a09acd0"
   },
   "outputs": [
    {
     "data": {
      "text/plain": [
       "Text(-2.2, -0.1, 't=-1.689')"
      ]
     },
     "execution_count": 8,
     "metadata": {},
     "output_type": "execute_result"
    },
    {
     "data": {
      "image/png": "[encoded data removed]",
      "text/plain": [
       "<Figure size 432x288 with 1 Axes>"
      ]
     },
     "metadata": {
      "filenames": {
       "image/png": "C:\\Users\\acer\\Desktop\\Prob\\_build\\jupyter_execute\\7)_Statistical_Tests_41_1.png"
      },
      "needs_background": "light"
     },
     "output_type": "display_data"
    }
   ],
   "source": [
    "import numpy as np\n",
    "import matplotlib.pyplot as plt\n",
    "%matplotlib inline\n",
    "\n",
    "x = np.linspace(-4, 4, 100)\n",
    "plt.plot(x, stats.t(35).pdf(x))\n",
    "plt.vlines(-1.689, 0, 0.1, colors='red', linestyles='dashed')\n",
    "plt.text(-2.2, -0.1,'t=-1.689', fontsize=13)"
   ]
  },
  {
   "cell_type": "markdown",
   "metadata": {
    "colab_type": "text",
    "id": "Wga0HDEsbZIX"
   },
   "source": [
    "$$ t= \\frac{\\bar{x}-\\mu_0}{\\frac{s}{\\sqrt{n}}} $$\n",
    "\n",
    "$$ = \\frac{1-2}{\\frac{3}{\\sqrt{36}}} $$\n",
    "\n",
    "$$ = \\frac{-1}{\\frac{1}{2}} $$\n",
    "\n",
    "$$ = -2 $$\n",
    "\n",
    "The threshold is -1.689. Therefore, we reject the  $H_0$, as -2 is inside the critical region.\n",
    "\n",
    "The p-value, $P(T<-2) = 2.66\\%$. "
   ]
  },
  {
   "cell_type": "code",
   "execution_count": 9,
   "metadata": {
    "colab": {
     "base_uri": "https://localhost:8080/",
     "height": 34
    },
    "colab_type": "code",
    "id": "dHzN4thGe3lY",
    "outputId": "8cd896e6-7c78-4a45-cd8a-c05988a41f79"
   },
   "outputs": [
    {
     "data": {
      "text/plain": [
       "0.026653825931598388"
      ]
     },
     "execution_count": 9,
     "metadata": {},
     "output_type": "execute_result"
    }
   ],
   "source": [
    "stats.t.cdf(-2, 35)"
   ]
  },
  {
   "cell_type": "markdown",
   "metadata": {
    "colab_type": "text",
    "id": "QKZQTL-kzGQm"
   },
   "source": [
    "## Exercises"
   ]
  },
  {
   "cell_type": "markdown",
   "metadata": {
    "colab_type": "text",
    "id": "TKFcx63yDwiT"
   },
   "source": [
    "1| Given the set of hypotheses\n",
    "and z-test statistic. Find the p-value and determine if the $H_0$ would be rejected at $\\alpha = 0.05$?"
   ]
  },
  {
   "cell_type": "markdown",
   "metadata": {
    "colab_type": "text",
    "id": "wVyzfqLqD61P"
   },
   "source": [
    "a) $H_0:p < p_0$ vs $H_a: p>p_0$\n",
    "\n",
    " $z=2$"
   ]
  },
  {
   "cell_type": "markdown",
   "metadata": {
    "colab_type": "text",
    "id": "JcDCPPZ_FU1P"
   },
   "source": [
    "b) $H_a: p<p_0$\n",
    "\n",
    " $z=-2$"
   ]
  },
  {
   "cell_type": "markdown",
   "metadata": {
    "colab_type": "text",
    "id": "afYJMIOc-PDL"
   },
   "source": [
    "2| Given the set of hypotheses\n",
    "and t-test statistic. Find the p-value and determine if the $H_0$ would be rejected at $\\alpha = 0.05$?"
   ]
  },
  {
   "cell_type": "markdown",
   "metadata": {
    "colab_type": "text",
    "id": "gdZoJx9j_1GI"
   },
   "source": [
    "a) $H_a: \\mu>\\mu_0$,  $n=11$,  $t=1.91$."
   ]
  },
  {
   "cell_type": "markdown",
   "metadata": {
    "colab_type": "text",
    "id": "KQBNYmoq_1Vi"
   },
   "source": [
    "b) $H_a: \\mu<\\mu_0$,  $n=17$,  $t=-3.45$."
   ]
  },
  {
   "cell_type": "markdown",
   "metadata": {
    "colab_type": "text",
    "id": "3Nu9Bz8XFo5B"
   },
   "source": [
    "3| A biotech is testing a new drug. If the drug lowers the blood pressure of a patient by more than 12 mm, it is deemed effective. State the natural hypotheses to test in a clinical study of this new drug? Justify."
   ]
  },
  {
   "cell_type": "markdown",
   "metadata": {
    "colab_type": "text",
    "id": "_NnbqjGxIWZJ"
   },
   "source": [
    "4| Pfizer tests millions of compounds, before occasionally produce breakthroughs that can lead to multibillion dollar blockbuster drugs like Lipitor and Viagra. Should the managers of the Pfizer be more worried about Type 1 or Type 2 errors?"
   ]
  },
  {
   "cell_type": "markdown",
   "metadata": {
    "colab_type": "text",
    "id": "wa_dmTcRdwSI"
   },
   "source": [
    "## Reference"
   ]
  },
  {
   "cell_type": "markdown",
   "metadata": {
    "colab_type": "text",
    "id": "TLJfMp4XdwVg"
   },
   "source": [
    "Adhikari, A., DeNero, J. (2020). Computational and Inferential Thinking: The Foundations of Data Science. [Link](https://www.inferentialthinking.com/chapters/intro.html) \n",
    "\n",
    "Diez, D. M., Barr, C. D., Çetinkaya-Rundel, M. (2014). Introductory Statistics with Randomization and Simulation. [Link](https://www.openintro.org/stat/textbook.php?stat_book=isrs) \n",
    "\n",
    "Lau, S., Gonzalez, J., Nolan, D. (2020). Principles and Techniques of Data Science.  [Link](https://www.textbook.ds100.org/intro) "
   ]
  }
 ],
 "metadata": {
  "colab": {
   "name": "7)_Statistical_Tests.ipynb",
   "provenance": []
  },
  "kernelspec": {
   "display_name": "Python 3",
   "language": "python",
   "name": "python3"
  },
  "language_info": {
   "codemirror_mode": {
    "name": "ipython",
    "version": 3
   },
   "file_extension": ".py",
   "mimetype": "text/x-python",
   "name": "python",
   "nbconvert_exporter": "python",
   "pygments_lexer": "ipython3",
   "version": "3.7.6"
  }
 },
 "nbformat": 4,
 "nbformat_minor": 1
}