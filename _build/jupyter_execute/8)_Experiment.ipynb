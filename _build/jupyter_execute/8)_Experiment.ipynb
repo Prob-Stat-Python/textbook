{
 "cells": [
  {
   "cell_type": "markdown",
   "metadata": {
    "colab_type": "text",
    "id": "3xG4g-yFKnhm"
   },
   "source": [
    "# 8) Experiment "
   ]
  },
  {
   "cell_type": "markdown",
   "metadata": {
    "colab_type": "text",
    "id": "q-cWOMku-lx_"
   },
   "source": [
    "Vitor Kamada\n",
    "\n",
    "econometrics.methods@gmail.com\n",
    "\n",
    "Last updated 8-2-2020"
   ]
  },
  {
   "cell_type": "markdown",
   "metadata": {
    "colab_type": "text",
    "id": "JX0o6kS_g2mP"
   },
   "source": [
    "#### 8.1) What is an experiment?"
   ]
  },
  {
   "cell_type": "markdown",
   "metadata": {
    "colab_type": "text",
    "id": "FkUMkw3LpuT7"
   },
   "source": [
    "Experiment is a method that uses randomization to produce data that reveal causation. \n",
    "\n",
    "A typical experiment consists in:\n",
    "1.   Selecting a random sample from a population\n",
    "2.   Assigning subjects at random to treatments\n",
    "3.   Comparing the responses of subjects among the treatments\n",
    "\n",
    "The treatment is the variable manipulated by the experimenter, in order to see its effect on subjects. \n",
    "\n",
    "In observational studies, the treatment variable is not randomized. Without randomization, it is not possible to know if observed difference in the response is due to the treatment or to confounding factors. \n",
    "\n",
    "An observational study cannot answer if a drug cure or not a disease. The treatment group might be composed by younger, sport enthusiasts, healthy patients; whereas the control group by old, lazy, and unhealthy patients. There is no way to separate the effects of the drug from the effects of age, practicing physical exercise, and initial health status.\n",
    "\n",
    "However, when the treatment variable is randomized, control group and treatment group are on average like to each other. Therefore, automatically all confounding factors are eliminated.\n"
   ]
  },
  {
   "cell_type": "markdown",
   "metadata": {
    "colab_type": "text",
    "id": "YKlcXZCqIKId"
   },
   "source": [
    "#### 8.2) What is average causal effect? "
   ]
  },
  {
   "cell_type": "markdown",
   "metadata": {
    "colab_type": "text",
    "id": "ypjl5Td2IU77"
   },
   "source": [
    "As far as the treatment variable is randomized, the average causal effect is the difference in group means between the treatment ($T=1$) and control group ($T=0$). Let's assume that $Y$ is the outcome variable. \n",
    "\n",
    "$$ E[Y|T=1]-E[Y|T=0] $$\n",
    "\n",
    "$$ \\frac{1}{n} \\sum_{i=1}^{n}[y_{t=1,i}-y_{t=0,i}] $$\n",
    "\n",
    "$$ \\frac{1}{n} \\sum_{i=1}^{n}y_{t=1,i} - \\frac{1}{n} \\sum_{i=1}^{n}y_{t=0,i} $$\n",
    "\n",
    "\n",
    "$$ \\bar{y}_{t} - \\bar{y}_{c} $$\n",
    "\n",
    "where $c$ is the control group, that is, when $T=0$."
   ]
  },
  {
   "cell_type": "markdown",
   "metadata": {
    "colab_type": "text",
    "id": "aVp5JdjwsPgS"
   },
   "source": [
    "#### 8.3) Why is easy to establish the causal effect of a drug, but hard to establish if racial discrimination is real?"
   ]
  },
  {
   "cell_type": "markdown",
   "metadata": {
    "colab_type": "text",
    "id": "KoFGGInh6Qa8"
   },
   "source": [
    "A drug can be assigned at random to subjects, but in practical terms, a skin color not, because it is a property of the subjects. The drug question represents the typical research question in Hard Science; while the racial discrimination is the typical question of Human Science. \n",
    "\n",
    "When we see lower wages among Blacks, it is hard to distinguish if this is an effect of racial discrimination, or lower level of education, networking, etc.\n",
    "\n",
    "However, Bertrand & Mullainathan (2004) have a clever idea of manipulating race on curriculum vitae (CVs). They randomly assigned a Black sounding name (ex: Lakish or Jamal) to half of the CVs and a White sounding name (ex: Emily or Greg) to the other half. They sent the CVs for real jobs in Chicago and Boston. The result was that only 6.4% of Blacks received a callback for interview; whereas 9.6% of Whites received a callback."
   ]
  },
  {
   "cell_type": "markdown",
   "metadata": {
    "colab_type": "text",
    "id": "2_c6VkqnCoY6"
   },
   "source": [
    "Let's open the dataset from Bertrand & Mullainathan (2004)."
   ]
  },
  {
   "cell_type": "code",
   "execution_count": 1,
   "metadata": {
    "colab": {
     "base_uri": "https://localhost:8080/",
     "height": 439
    },
    "colab_type": "code",
    "execution": {
     "iopub.execute_input": "2020-08-03T23:15:24.656730Z",
     "iopub.status.busy": "2020-08-03T23:15:24.653737Z",
     "iopub.status.idle": "2020-08-03T23:15:26.642899Z",
     "shell.execute_reply": "2020-08-03T23:15:26.641901Z"
    },
    "id": "0_80d2-dCRRO",
    "outputId": "53013f5f-1ea2-4df8-d9b0-af1d3bcf0499"
   },
   "outputs": [
    {
     "data": {
      "text/html": [
       "<div>\n",
       "<style scoped>\n",
       "    .dataframe tbody tr th:only-of-type {\n",
       "        vertical-align: middle;\n",
       "    }\n",
       "\n",
       "    .dataframe tbody tr th {\n",
       "        vertical-align: top;\n",
       "    }\n",
       "\n",
       "    .dataframe thead th {\n",
       "        text-align: right;\n",
       "    }\n",
       "</style>\n",
       "<table border=\"1\" class=\"dataframe\">\n",
       "  <thead>\n",
       "    <tr style=\"text-align: right;\">\n",
       "      <th></th>\n",
       "      <th>id</th>\n",
       "      <th>ad</th>\n",
       "      <th>education</th>\n",
       "      <th>ofjobs</th>\n",
       "      <th>yearsexp</th>\n",
       "      <th>honors</th>\n",
       "      <th>volunteer</th>\n",
       "      <th>military</th>\n",
       "      <th>empholes</th>\n",
       "      <th>occupspecific</th>\n",
       "      <th>...</th>\n",
       "      <th>compreq</th>\n",
       "      <th>orgreq</th>\n",
       "      <th>manuf</th>\n",
       "      <th>transcom</th>\n",
       "      <th>bankreal</th>\n",
       "      <th>trade</th>\n",
       "      <th>busservice</th>\n",
       "      <th>othservice</th>\n",
       "      <th>missind</th>\n",
       "      <th>ownership</th>\n",
       "    </tr>\n",
       "  </thead>\n",
       "  <tbody>\n",
       "    <tr>\n",
       "      <th>0</th>\n",
       "      <td>b</td>\n",
       "      <td>1</td>\n",
       "      <td>4</td>\n",
       "      <td>2</td>\n",
       "      <td>6</td>\n",
       "      <td>0</td>\n",
       "      <td>0</td>\n",
       "      <td>0</td>\n",
       "      <td>1</td>\n",
       "      <td>17</td>\n",
       "      <td>...</td>\n",
       "      <td>1.0</td>\n",
       "      <td>0.0</td>\n",
       "      <td>1.0</td>\n",
       "      <td>0.0</td>\n",
       "      <td>0.0</td>\n",
       "      <td>0.0</td>\n",
       "      <td>0.0</td>\n",
       "      <td>0.0</td>\n",
       "      <td>0.0</td>\n",
       "      <td></td>\n",
       "    </tr>\n",
       "    <tr>\n",
       "      <th>1</th>\n",
       "      <td>b</td>\n",
       "      <td>1</td>\n",
       "      <td>3</td>\n",
       "      <td>3</td>\n",
       "      <td>6</td>\n",
       "      <td>0</td>\n",
       "      <td>1</td>\n",
       "      <td>1</td>\n",
       "      <td>0</td>\n",
       "      <td>316</td>\n",
       "      <td>...</td>\n",
       "      <td>1.0</td>\n",
       "      <td>0.0</td>\n",
       "      <td>1.0</td>\n",
       "      <td>0.0</td>\n",
       "      <td>0.0</td>\n",
       "      <td>0.0</td>\n",
       "      <td>0.0</td>\n",
       "      <td>0.0</td>\n",
       "      <td>0.0</td>\n",
       "      <td></td>\n",
       "    </tr>\n",
       "    <tr>\n",
       "      <th>2</th>\n",
       "      <td>b</td>\n",
       "      <td>1</td>\n",
       "      <td>4</td>\n",
       "      <td>1</td>\n",
       "      <td>6</td>\n",
       "      <td>0</td>\n",
       "      <td>0</td>\n",
       "      <td>0</td>\n",
       "      <td>0</td>\n",
       "      <td>19</td>\n",
       "      <td>...</td>\n",
       "      <td>1.0</td>\n",
       "      <td>0.0</td>\n",
       "      <td>1.0</td>\n",
       "      <td>0.0</td>\n",
       "      <td>0.0</td>\n",
       "      <td>0.0</td>\n",
       "      <td>0.0</td>\n",
       "      <td>0.0</td>\n",
       "      <td>0.0</td>\n",
       "      <td></td>\n",
       "    </tr>\n",
       "    <tr>\n",
       "      <th>3</th>\n",
       "      <td>b</td>\n",
       "      <td>1</td>\n",
       "      <td>3</td>\n",
       "      <td>4</td>\n",
       "      <td>6</td>\n",
       "      <td>0</td>\n",
       "      <td>1</td>\n",
       "      <td>0</td>\n",
       "      <td>1</td>\n",
       "      <td>313</td>\n",
       "      <td>...</td>\n",
       "      <td>1.0</td>\n",
       "      <td>0.0</td>\n",
       "      <td>1.0</td>\n",
       "      <td>0.0</td>\n",
       "      <td>0.0</td>\n",
       "      <td>0.0</td>\n",
       "      <td>0.0</td>\n",
       "      <td>0.0</td>\n",
       "      <td>0.0</td>\n",
       "      <td></td>\n",
       "    </tr>\n",
       "    <tr>\n",
       "      <th>4</th>\n",
       "      <td>b</td>\n",
       "      <td>1</td>\n",
       "      <td>3</td>\n",
       "      <td>3</td>\n",
       "      <td>22</td>\n",
       "      <td>0</td>\n",
       "      <td>0</td>\n",
       "      <td>0</td>\n",
       "      <td>0</td>\n",
       "      <td>313</td>\n",
       "      <td>...</td>\n",
       "      <td>1.0</td>\n",
       "      <td>1.0</td>\n",
       "      <td>0.0</td>\n",
       "      <td>0.0</td>\n",
       "      <td>0.0</td>\n",
       "      <td>0.0</td>\n",
       "      <td>0.0</td>\n",
       "      <td>1.0</td>\n",
       "      <td>0.0</td>\n",
       "      <td>Nonprofit</td>\n",
       "    </tr>\n",
       "    <tr>\n",
       "      <th>...</th>\n",
       "      <td>...</td>\n",
       "      <td>...</td>\n",
       "      <td>...</td>\n",
       "      <td>...</td>\n",
       "      <td>...</td>\n",
       "      <td>...</td>\n",
       "      <td>...</td>\n",
       "      <td>...</td>\n",
       "      <td>...</td>\n",
       "      <td>...</td>\n",
       "      <td>...</td>\n",
       "      <td>...</td>\n",
       "      <td>...</td>\n",
       "      <td>...</td>\n",
       "      <td>...</td>\n",
       "      <td>...</td>\n",
       "      <td>...</td>\n",
       "      <td>...</td>\n",
       "      <td>...</td>\n",
       "      <td>...</td>\n",
       "      <td>...</td>\n",
       "    </tr>\n",
       "    <tr>\n",
       "      <th>4865</th>\n",
       "      <td>b</td>\n",
       "      <td>99</td>\n",
       "      <td>3</td>\n",
       "      <td>2</td>\n",
       "      <td>1</td>\n",
       "      <td>0</td>\n",
       "      <td>0</td>\n",
       "      <td>0</td>\n",
       "      <td>1</td>\n",
       "      <td>313</td>\n",
       "      <td>...</td>\n",
       "      <td>1.0</td>\n",
       "      <td>0.0</td>\n",
       "      <td>0.0</td>\n",
       "      <td>0.0</td>\n",
       "      <td>1.0</td>\n",
       "      <td>0.0</td>\n",
       "      <td>0.0</td>\n",
       "      <td>0.0</td>\n",
       "      <td>0.0</td>\n",
       "      <td>Private</td>\n",
       "    </tr>\n",
       "    <tr>\n",
       "      <th>4866</th>\n",
       "      <td>a</td>\n",
       "      <td>99b</td>\n",
       "      <td>4</td>\n",
       "      <td>4</td>\n",
       "      <td>6</td>\n",
       "      <td>0</td>\n",
       "      <td>0</td>\n",
       "      <td>0</td>\n",
       "      <td>0</td>\n",
       "      <td>285</td>\n",
       "      <td>...</td>\n",
       "      <td>0.0</td>\n",
       "      <td>0.0</td>\n",
       "      <td>0.0</td>\n",
       "      <td>0.0</td>\n",
       "      <td>0.0</td>\n",
       "      <td>0.0</td>\n",
       "      <td>0.0</td>\n",
       "      <td>0.0</td>\n",
       "      <td>1.0</td>\n",
       "      <td></td>\n",
       "    </tr>\n",
       "    <tr>\n",
       "      <th>4867</th>\n",
       "      <td>a</td>\n",
       "      <td>99b</td>\n",
       "      <td>4</td>\n",
       "      <td>6</td>\n",
       "      <td>8</td>\n",
       "      <td>0</td>\n",
       "      <td>1</td>\n",
       "      <td>0</td>\n",
       "      <td>0</td>\n",
       "      <td>21</td>\n",
       "      <td>...</td>\n",
       "      <td>0.0</td>\n",
       "      <td>0.0</td>\n",
       "      <td>0.0</td>\n",
       "      <td>0.0</td>\n",
       "      <td>0.0</td>\n",
       "      <td>0.0</td>\n",
       "      <td>0.0</td>\n",
       "      <td>0.0</td>\n",
       "      <td>1.0</td>\n",
       "      <td></td>\n",
       "    </tr>\n",
       "    <tr>\n",
       "      <th>4868</th>\n",
       "      <td>a</td>\n",
       "      <td>99b</td>\n",
       "      <td>4</td>\n",
       "      <td>4</td>\n",
       "      <td>2</td>\n",
       "      <td>0</td>\n",
       "      <td>1</td>\n",
       "      <td>1</td>\n",
       "      <td>0</td>\n",
       "      <td>267</td>\n",
       "      <td>...</td>\n",
       "      <td>0.0</td>\n",
       "      <td>0.0</td>\n",
       "      <td>0.0</td>\n",
       "      <td>0.0</td>\n",
       "      <td>0.0</td>\n",
       "      <td>0.0</td>\n",
       "      <td>0.0</td>\n",
       "      <td>0.0</td>\n",
       "      <td>1.0</td>\n",
       "      <td></td>\n",
       "    </tr>\n",
       "    <tr>\n",
       "      <th>4869</th>\n",
       "      <td>a</td>\n",
       "      <td>99b</td>\n",
       "      <td>4</td>\n",
       "      <td>3</td>\n",
       "      <td>7</td>\n",
       "      <td>0</td>\n",
       "      <td>0</td>\n",
       "      <td>0</td>\n",
       "      <td>1</td>\n",
       "      <td>274</td>\n",
       "      <td>...</td>\n",
       "      <td>0.0</td>\n",
       "      <td>0.0</td>\n",
       "      <td>0.0</td>\n",
       "      <td>0.0</td>\n",
       "      <td>0.0</td>\n",
       "      <td>0.0</td>\n",
       "      <td>0.0</td>\n",
       "      <td>0.0</td>\n",
       "      <td>1.0</td>\n",
       "      <td></td>\n",
       "    </tr>\n",
       "  </tbody>\n",
       "</table>\n",
       "<p>4870 rows × 65 columns</p>\n",
       "</div>"
      ],
      "text/plain": [
       "     id   ad  education  ofjobs  yearsexp  honors  volunteer  military  \\\n",
       "0     b    1          4       2         6       0          0         0   \n",
       "1     b    1          3       3         6       0          1         1   \n",
       "2     b    1          4       1         6       0          0         0   \n",
       "3     b    1          3       4         6       0          1         0   \n",
       "4     b    1          3       3        22       0          0         0   \n",
       "...  ..  ...        ...     ...       ...     ...        ...       ...   \n",
       "4865  b   99          3       2         1       0          0         0   \n",
       "4866  a  99b          4       4         6       0          0         0   \n",
       "4867  a  99b          4       6         8       0          1         0   \n",
       "4868  a  99b          4       4         2       0          1         1   \n",
       "4869  a  99b          4       3         7       0          0         0   \n",
       "\n",
       "      empholes  occupspecific  ...  compreq  orgreq  manuf  transcom  \\\n",
       "0            1             17  ...      1.0     0.0    1.0       0.0   \n",
       "1            0            316  ...      1.0     0.0    1.0       0.0   \n",
       "2            0             19  ...      1.0     0.0    1.0       0.0   \n",
       "3            1            313  ...      1.0     0.0    1.0       0.0   \n",
       "4            0            313  ...      1.0     1.0    0.0       0.0   \n",
       "...        ...            ...  ...      ...     ...    ...       ...   \n",
       "4865         1            313  ...      1.0     0.0    0.0       0.0   \n",
       "4866         0            285  ...      0.0     0.0    0.0       0.0   \n",
       "4867         0             21  ...      0.0     0.0    0.0       0.0   \n",
       "4868         0            267  ...      0.0     0.0    0.0       0.0   \n",
       "4869         1            274  ...      0.0     0.0    0.0       0.0   \n",
       "\n",
       "      bankreal trade busservice othservice  missind  ownership  \n",
       "0          0.0   0.0        0.0        0.0      0.0             \n",
       "1          0.0   0.0        0.0        0.0      0.0             \n",
       "2          0.0   0.0        0.0        0.0      0.0             \n",
       "3          0.0   0.0        0.0        0.0      0.0             \n",
       "4          0.0   0.0        0.0        1.0      0.0  Nonprofit  \n",
       "...        ...   ...        ...        ...      ...        ...  \n",
       "4865       1.0   0.0        0.0        0.0      0.0    Private  \n",
       "4866       0.0   0.0        0.0        0.0      1.0             \n",
       "4867       0.0   0.0        0.0        0.0      1.0             \n",
       "4868       0.0   0.0        0.0        0.0      1.0             \n",
       "4869       0.0   0.0        0.0        0.0      1.0             \n",
       "\n",
       "[4870 rows x 65 columns]"
      ]
     },
     "execution_count": 1,
     "metadata": {},
     "output_type": "execute_result"
    }
   ],
   "source": [
    "import pandas as pd\n",
    "path = \"https://github.com/causal-methods/Data/raw/master/\" \n",
    "df = pd.read_stata(path + \"lakisha_aer.dta\")\n",
    "df"
   ]
  },
  {
   "cell_type": "markdown",
   "metadata": {
    "colab_type": "text",
    "id": "jgLvzLaPC5Vx"
   },
   "source": [
    "Let's restrict the analysis to the variables 'call' and 'race'. \n",
    "\n",
    "call: 1 = applicant was called back to interview; and 0 otherwise.\n",
    "\n",
    "race: w = White, and b = Black."
   ]
  },
  {
   "cell_type": "code",
   "execution_count": 2,
   "metadata": {
    "colab": {
     "base_uri": "https://localhost:8080/",
     "height": 173
    },
    "colab_type": "code",
    "execution": {
     "iopub.execute_input": "2020-08-03T23:15:26.648883Z",
     "iopub.status.busy": "2020-08-03T23:15:26.647886Z",
     "iopub.status.idle": "2020-08-03T23:15:26.661849Z",
     "shell.execute_reply": "2020-08-03T23:15:26.660851Z"
    },
    "id": "uN2vK_uECYUh",
    "outputId": "8bade914-9421-48c1-c921-c2212962c31c"
   },
   "outputs": [
    {
     "data": {
      "text/html": [
       "<div>\n",
       "<style scoped>\n",
       "    .dataframe tbody tr th:only-of-type {\n",
       "        vertical-align: middle;\n",
       "    }\n",
       "\n",
       "    .dataframe tbody tr th {\n",
       "        vertical-align: top;\n",
       "    }\n",
       "\n",
       "    .dataframe thead tr th {\n",
       "        text-align: left;\n",
       "    }\n",
       "\n",
       "    .dataframe thead tr:last-of-type th {\n",
       "        text-align: right;\n",
       "    }\n",
       "</style>\n",
       "<table border=\"1\" class=\"dataframe\">\n",
       "  <thead>\n",
       "    <tr>\n",
       "      <th></th>\n",
       "      <th colspan=\"2\" halign=\"left\">call</th>\n",
       "    </tr>\n",
       "    <tr>\n",
       "      <th></th>\n",
       "      <th>size</th>\n",
       "      <th>mean</th>\n",
       "    </tr>\n",
       "    <tr>\n",
       "      <th>race</th>\n",
       "      <th></th>\n",
       "      <th></th>\n",
       "    </tr>\n",
       "  </thead>\n",
       "  <tbody>\n",
       "    <tr>\n",
       "      <th>b</th>\n",
       "      <td>2435.0</td>\n",
       "      <td>0.064476</td>\n",
       "    </tr>\n",
       "    <tr>\n",
       "      <th>w</th>\n",
       "      <td>2435.0</td>\n",
       "      <td>0.096509</td>\n",
       "    </tr>\n",
       "  </tbody>\n",
       "</table>\n",
       "</div>"
      ],
      "text/plain": [
       "        call          \n",
       "        size      mean\n",
       "race                  \n",
       "b     2435.0  0.064476\n",
       "w     2435.0  0.096509"
      ]
     },
     "execution_count": 2,
     "metadata": {},
     "output_type": "execute_result"
    }
   ],
   "source": [
    "import numpy as np\n",
    "callback = df.loc[:, ('call', 'race')]\n",
    "callback.groupby('race').agg([np.size, np.mean])"
   ]
  },
  {
   "cell_type": "markdown",
   "metadata": {
    "colab_type": "text",
    "id": "1QtPd6_FI7jT"
   },
   "source": [
    "#### 8.4) How to check the integrity of an experimental study?"
   ]
  },
  {
   "cell_type": "markdown",
   "metadata": {
    "colab_type": "text",
    "id": "xLhK3iexJ3Ja"
   },
   "source": [
    "Based on theory, we know that the randomization of the treatment variable will produce a control group like the treatment group. \n",
    "\n",
    "Let's check the proportion of Blacks and Whites with college degree in the dataset from Bertrand & Mullainathan (2004)\n",
    "\n",
    "Originally, college graduate was coded as 4 in the variable 'education'. 3 = some college. 2 = high school graduate. 1 = some high school. 0 not reported.\n",
    "\n",
    "Let's create the variable 'college' = 1, if a person completes a college degree; and 0 otherwise."
   ]
  },
  {
   "cell_type": "code",
   "execution_count": 3,
   "metadata": {
    "colab": {},
    "colab_type": "code",
    "execution": {
     "iopub.execute_input": "2020-08-03T23:15:26.666835Z",
     "iopub.status.busy": "2020-08-03T23:15:26.665838Z",
     "iopub.status.idle": "2020-08-03T23:15:26.669827Z",
     "shell.execute_reply": "2020-08-03T23:15:26.668830Z"
    },
    "id": "VajPmfHZKsVT"
   },
   "outputs": [],
   "source": [
    "df['college'] = np.where(df['education'] == 4, 1, 0)"
   ]
  },
  {
   "cell_type": "markdown",
   "metadata": {
    "colab_type": "text",
    "id": "8R9QkySOK2zM"
   },
   "source": [
    "We can see that 72.2% of Black Applicants have a college degree. The proportion of Whites with college degree is very similar 71.6%. "
   ]
  },
  {
   "cell_type": "code",
   "execution_count": 4,
   "metadata": {
    "colab": {
     "base_uri": "https://localhost:8080/",
     "height": 173
    },
    "colab_type": "code",
    "execution": {
     "iopub.execute_input": "2020-08-03T23:15:26.683790Z",
     "iopub.status.busy": "2020-08-03T23:15:26.675811Z",
     "iopub.status.idle": "2020-08-03T23:15:26.688777Z",
     "shell.execute_reply": "2020-08-03T23:15:26.687779Z"
    },
    "id": "nJctK-33K3nB",
    "outputId": "e5248c3c-59d8-45f0-f045-5f2083671d53"
   },
   "outputs": [
    {
     "data": {
      "text/html": [
       "<div>\n",
       "<style scoped>\n",
       "    .dataframe tbody tr th:only-of-type {\n",
       "        vertical-align: middle;\n",
       "    }\n",
       "\n",
       "    .dataframe tbody tr th {\n",
       "        vertical-align: top;\n",
       "    }\n",
       "\n",
       "    .dataframe thead tr th {\n",
       "        text-align: left;\n",
       "    }\n",
       "\n",
       "    .dataframe thead tr:last-of-type th {\n",
       "        text-align: right;\n",
       "    }\n",
       "</style>\n",
       "<table border=\"1\" class=\"dataframe\">\n",
       "  <thead>\n",
       "    <tr>\n",
       "      <th></th>\n",
       "      <th colspan=\"2\" halign=\"left\">college</th>\n",
       "    </tr>\n",
       "    <tr>\n",
       "      <th></th>\n",
       "      <th>size</th>\n",
       "      <th>mean</th>\n",
       "    </tr>\n",
       "    <tr>\n",
       "      <th>race</th>\n",
       "      <th></th>\n",
       "      <th></th>\n",
       "    </tr>\n",
       "  </thead>\n",
       "  <tbody>\n",
       "    <tr>\n",
       "      <th>b</th>\n",
       "      <td>2435</td>\n",
       "      <td>0.722793</td>\n",
       "    </tr>\n",
       "    <tr>\n",
       "      <th>w</th>\n",
       "      <td>2435</td>\n",
       "      <td>0.716222</td>\n",
       "    </tr>\n",
       "  </tbody>\n",
       "</table>\n",
       "</div>"
      ],
      "text/plain": [
       "     college          \n",
       "        size      mean\n",
       "race                  \n",
       "b       2435  0.722793\n",
       "w       2435  0.716222"
      ]
     },
     "execution_count": 4,
     "metadata": {},
     "output_type": "execute_result"
    }
   ],
   "source": [
    "college = df.loc[:, ('college', 'race')]\n",
    "college.groupby('race').agg([np.size, np.mean])"
   ]
  },
  {
   "cell_type": "markdown",
   "metadata": {
    "colab_type": "text",
    "id": "dLzt7LPlKspb"
   },
   "source": [
    "Let's check this statement for other factors in the CVs. The names of the variables are self-explanatory, and more information can be obtained reading the paper from Bertrand & Mullainathan (2004)."
   ]
  },
  {
   "cell_type": "code",
   "execution_count": 5,
   "metadata": {
    "colab": {
     "base_uri": "https://localhost:8080/",
     "height": 204
    },
    "colab_type": "code",
    "execution": {
     "iopub.execute_input": "2020-08-03T23:15:26.699747Z",
     "iopub.status.busy": "2020-08-03T23:15:26.698750Z",
     "iopub.status.idle": "2020-08-03T23:15:26.703736Z",
     "shell.execute_reply": "2020-08-03T23:15:26.702739Z"
    },
    "id": "ez1Xu4U5Lbz8",
    "outputId": "ca8aaaab-dccc-4ab0-a4d6-116fe7b44479"
   },
   "outputs": [
    {
     "data": {
      "text/html": [
       "<div>\n",
       "<style scoped>\n",
       "    .dataframe tbody tr th:only-of-type {\n",
       "        vertical-align: middle;\n",
       "    }\n",
       "\n",
       "    .dataframe tbody tr th {\n",
       "        vertical-align: top;\n",
       "    }\n",
       "\n",
       "    .dataframe thead th {\n",
       "        text-align: right;\n",
       "    }\n",
       "</style>\n",
       "<table border=\"1\" class=\"dataframe\">\n",
       "  <thead>\n",
       "    <tr style=\"text-align: right;\">\n",
       "      <th></th>\n",
       "      <th>college</th>\n",
       "      <th>yearsexp</th>\n",
       "      <th>volunteer</th>\n",
       "      <th>military</th>\n",
       "      <th>email</th>\n",
       "      <th>workinschool</th>\n",
       "      <th>honors</th>\n",
       "      <th>computerskills</th>\n",
       "      <th>specialskills</th>\n",
       "    </tr>\n",
       "  </thead>\n",
       "  <tbody>\n",
       "    <tr>\n",
       "      <th>0</th>\n",
       "      <td>1</td>\n",
       "      <td>6</td>\n",
       "      <td>0</td>\n",
       "      <td>0</td>\n",
       "      <td>0</td>\n",
       "      <td>0</td>\n",
       "      <td>0</td>\n",
       "      <td>1</td>\n",
       "      <td>0</td>\n",
       "    </tr>\n",
       "    <tr>\n",
       "      <th>1</th>\n",
       "      <td>0</td>\n",
       "      <td>6</td>\n",
       "      <td>1</td>\n",
       "      <td>1</td>\n",
       "      <td>1</td>\n",
       "      <td>1</td>\n",
       "      <td>0</td>\n",
       "      <td>1</td>\n",
       "      <td>0</td>\n",
       "    </tr>\n",
       "    <tr>\n",
       "      <th>2</th>\n",
       "      <td>1</td>\n",
       "      <td>6</td>\n",
       "      <td>0</td>\n",
       "      <td>0</td>\n",
       "      <td>0</td>\n",
       "      <td>1</td>\n",
       "      <td>0</td>\n",
       "      <td>1</td>\n",
       "      <td>0</td>\n",
       "    </tr>\n",
       "    <tr>\n",
       "      <th>3</th>\n",
       "      <td>0</td>\n",
       "      <td>6</td>\n",
       "      <td>1</td>\n",
       "      <td>0</td>\n",
       "      <td>1</td>\n",
       "      <td>0</td>\n",
       "      <td>0</td>\n",
       "      <td>1</td>\n",
       "      <td>1</td>\n",
       "    </tr>\n",
       "    <tr>\n",
       "      <th>4</th>\n",
       "      <td>0</td>\n",
       "      <td>22</td>\n",
       "      <td>0</td>\n",
       "      <td>0</td>\n",
       "      <td>1</td>\n",
       "      <td>1</td>\n",
       "      <td>0</td>\n",
       "      <td>1</td>\n",
       "      <td>0</td>\n",
       "    </tr>\n",
       "  </tbody>\n",
       "</table>\n",
       "</div>"
      ],
      "text/plain": [
       "   college  yearsexp  volunteer  military  email  workinschool  honors  \\\n",
       "0        1         6          0         0      0             0       0   \n",
       "1        0         6          1         1      1             1       0   \n",
       "2        1         6          0         0      0             1       0   \n",
       "3        0         6          1         0      1             0       0   \n",
       "4        0        22          0         0      1             1       0   \n",
       "\n",
       "   computerskills  specialskills  \n",
       "0               1              0  \n",
       "1               1              0  \n",
       "2               1              0  \n",
       "3               1              1  \n",
       "4               1              0  "
      ]
     },
     "execution_count": 5,
     "metadata": {},
     "output_type": "execute_result"
    }
   ],
   "source": [
    "resume = ['college', 'yearsexp', 'volunteer', 'military',\n",
    "          'email', 'workinschool', 'honors',\n",
    "          'computerskills', 'specialskills']\n",
    "both = df.loc[:, resume]\n",
    "both.head()"
   ]
  },
  {
   "cell_type": "markdown",
   "metadata": {
    "colab_type": "text",
    "id": "OtrZ7oBqLwQS"
   },
   "source": [
    "Let's use a different code to calculate the mean of the variables for the whole sample (both Whites and Blacks) and broken samples between Blacks and Whites.\n",
    "\n",
    "See that the average years of experience (yearsexp) is 7.84 for the whole sample, 7.82 for Blacks, and 7.85 for Whites.\n",
    "\n",
    "If you check all variables the mean values for Blacks are very closer to the mean values for Whites. This is the consequence of randomization.\n",
    "\n",
    "We also calculate the standard deviation (std), a measure of variation around the mean. Note that the standard deviation is pretty much the same between the whole sample and split samples. Like the mean, you don't suppose to see much difference among standard deviations in the case of experimental data.\n",
    "\n",
    "The standard deviation of the variable years of experience is 5 years. We can state roughly the most part of observations (about 68%) is between 1 std below the mean and 1 std above the mean, that is, between [2.84, 12.84]."
   ]
  },
  {
   "cell_type": "code",
   "execution_count": 6,
   "metadata": {
    "colab": {
     "base_uri": "https://localhost:8080/",
     "height": 328
    },
    "colab_type": "code",
    "execution": {
     "iopub.execute_input": "2020-08-03T23:15:26.710718Z",
     "iopub.status.busy": "2020-08-03T23:15:26.710718Z",
     "iopub.status.idle": "2020-08-03T23:15:26.725678Z",
     "shell.execute_reply": "2020-08-03T23:15:26.725678Z"
    },
    "id": "BcEDBt-dL0aE",
    "outputId": "a24af2f3-6675-4c14-cbc8-6f105b285d0e"
   },
   "outputs": [
    {
     "data": {
      "text/html": [
       "<div>\n",
       "<style scoped>\n",
       "    .dataframe tbody tr th:only-of-type {\n",
       "        vertical-align: middle;\n",
       "    }\n",
       "\n",
       "    .dataframe tbody tr th {\n",
       "        vertical-align: top;\n",
       "    }\n",
       "\n",
       "    .dataframe thead th {\n",
       "        text-align: right;\n",
       "    }\n",
       "</style>\n",
       "<table border=\"1\" class=\"dataframe\">\n",
       "  <thead>\n",
       "    <tr style=\"text-align: right;\">\n",
       "      <th></th>\n",
       "      <th>mean_both</th>\n",
       "      <th>std_both</th>\n",
       "      <th>mean_black</th>\n",
       "      <th>std_black</th>\n",
       "      <th>mean_white</th>\n",
       "      <th>std_white</th>\n",
       "    </tr>\n",
       "  </thead>\n",
       "  <tbody>\n",
       "    <tr>\n",
       "      <th>college</th>\n",
       "      <td>0.719507</td>\n",
       "      <td>0.449286</td>\n",
       "      <td>0.722793</td>\n",
       "      <td>0.447712</td>\n",
       "      <td>0.716222</td>\n",
       "      <td>0.450923</td>\n",
       "    </tr>\n",
       "    <tr>\n",
       "      <th>yearsexp</th>\n",
       "      <td>7.842916</td>\n",
       "      <td>5.044612</td>\n",
       "      <td>7.829569</td>\n",
       "      <td>5.010764</td>\n",
       "      <td>7.856263</td>\n",
       "      <td>5.079228</td>\n",
       "    </tr>\n",
       "    <tr>\n",
       "      <th>volunteer</th>\n",
       "      <td>0.411499</td>\n",
       "      <td>0.492156</td>\n",
       "      <td>0.414374</td>\n",
       "      <td>0.492715</td>\n",
       "      <td>0.408624</td>\n",
       "      <td>0.491681</td>\n",
       "    </tr>\n",
       "    <tr>\n",
       "      <th>military</th>\n",
       "      <td>0.097125</td>\n",
       "      <td>0.296159</td>\n",
       "      <td>0.101848</td>\n",
       "      <td>0.302511</td>\n",
       "      <td>0.092402</td>\n",
       "      <td>0.289653</td>\n",
       "    </tr>\n",
       "    <tr>\n",
       "      <th>email</th>\n",
       "      <td>0.479261</td>\n",
       "      <td>0.499621</td>\n",
       "      <td>0.479671</td>\n",
       "      <td>0.499689</td>\n",
       "      <td>0.478850</td>\n",
       "      <td>0.499655</td>\n",
       "    </tr>\n",
       "    <tr>\n",
       "      <th>workinschool</th>\n",
       "      <td>0.559548</td>\n",
       "      <td>0.496492</td>\n",
       "      <td>0.560986</td>\n",
       "      <td>0.496369</td>\n",
       "      <td>0.558111</td>\n",
       "      <td>0.496714</td>\n",
       "    </tr>\n",
       "    <tr>\n",
       "      <th>honors</th>\n",
       "      <td>0.052772</td>\n",
       "      <td>0.223601</td>\n",
       "      <td>0.051335</td>\n",
       "      <td>0.220725</td>\n",
       "      <td>0.054209</td>\n",
       "      <td>0.226477</td>\n",
       "    </tr>\n",
       "    <tr>\n",
       "      <th>computerskills</th>\n",
       "      <td>0.820534</td>\n",
       "      <td>0.383782</td>\n",
       "      <td>0.832444</td>\n",
       "      <td>0.373549</td>\n",
       "      <td>0.808624</td>\n",
       "      <td>0.393465</td>\n",
       "    </tr>\n",
       "    <tr>\n",
       "      <th>specialskills</th>\n",
       "      <td>0.328747</td>\n",
       "      <td>0.469806</td>\n",
       "      <td>0.327310</td>\n",
       "      <td>0.469328</td>\n",
       "      <td>0.330185</td>\n",
       "      <td>0.470376</td>\n",
       "    </tr>\n",
       "  </tbody>\n",
       "</table>\n",
       "</div>"
      ],
      "text/plain": [
       "                mean_both  std_both  mean_black  std_black  mean_white  \\\n",
       "college          0.719507  0.449286    0.722793   0.447712    0.716222   \n",
       "yearsexp         7.842916  5.044612    7.829569   5.010764    7.856263   \n",
       "volunteer        0.411499  0.492156    0.414374   0.492715    0.408624   \n",
       "military         0.097125  0.296159    0.101848   0.302511    0.092402   \n",
       "email            0.479261  0.499621    0.479671   0.499689    0.478850   \n",
       "workinschool     0.559548  0.496492    0.560986   0.496369    0.558111   \n",
       "honors           0.052772  0.223601    0.051335   0.220725    0.054209   \n",
       "computerskills   0.820534  0.383782    0.832444   0.373549    0.808624   \n",
       "specialskills    0.328747  0.469806    0.327310   0.469328    0.330185   \n",
       "\n",
       "                std_white  \n",
       "college          0.450923  \n",
       "yearsexp         5.079228  \n",
       "volunteer        0.491681  \n",
       "military         0.289653  \n",
       "email            0.499655  \n",
       "workinschool     0.496714  \n",
       "honors           0.226477  \n",
       "computerskills   0.393465  \n",
       "specialskills    0.470376  "
      ]
     },
     "execution_count": 6,
     "metadata": {},
     "output_type": "execute_result"
    }
   ],
   "source": [
    "black = both[df['race']=='b']\n",
    "white = both[df['race']=='w']\n",
    "summary = {'mean_both': both.mean(),   'std_both': both.std(),\n",
    "           'mean_black': black.mean(), 'std_black': black.std(),\n",
    "           'mean_white': white.mean(), 'std_white': white.std()}\n",
    "pd.DataFrame(summary)"
   ]
  },
  {
   "cell_type": "markdown",
   "metadata": {
    "colab_type": "text",
    "id": "RdbErg0QS5s0"
   },
   "source": [
    "#### 8.5) Test if Whites and Blacks have the same average years of experience.  "
   ]
  },
  {
   "cell_type": "markdown",
   "metadata": {
    "colab_type": "text",
    "id": "YH_HB5oB-Gft"
   },
   "source": [
    "The average years of experience for Whites is\n",
    " 7.82, while for Blacks is 7.85. We can see that they are pretty much the same, but let's be formal and carry out a statistical test:\n",
    "\n",
    " $$  H_0: \\mu_w= \\mu_b $$ vs $$ H_a:\\mu_w \\ne \\mu_b $$\n",
    "\n",
    " $$  t =  \\frac{\\bar{x}_w - \\bar{x}_b}{s_p \\sqrt{\\frac{1}{n_w} + \\frac{1}{n_b} }}   $$\n",
    "\n",
    " where the pool standard deviation ($s_p$) is:\n",
    "\n",
    " $$ \\sqrt{\\frac{ \\sum_{i=1}^{n_w}(x_{wi} - \\bar{x} _w)^2  +  \\sum_{i=1}^{n_b}(x_{bi} - \\bar{x} _b)^2 }{n_w + n_b -2}}  $$\n",
    "\n",
    "The t-statistic is 0.18 and respective p-value is 0.85. Therefore, we cannot reject the $H_0$.  "
   ]
  },
  {
   "cell_type": "code",
   "execution_count": 7,
   "metadata": {
    "colab": {
     "base_uri": "https://localhost:8080/",
     "height": 34
    },
    "colab_type": "code",
    "execution": {
     "iopub.execute_input": "2020-08-03T23:15:26.730665Z",
     "iopub.status.busy": "2020-08-03T23:15:26.729667Z",
     "iopub.status.idle": "2020-08-03T23:15:27.128600Z",
     "shell.execute_reply": "2020-08-03T23:15:27.129598Z"
    },
    "id": "KHmje_k0S59T",
    "outputId": "58f522cc-64b4-49f0-c46e-60715f1505e0"
   },
   "outputs": [
    {
     "data": {
      "text/plain": [
       "Ttest_indResult(statistic=0.18461970685747395, pvalue=0.8535350182481283)"
      ]
     },
     "execution_count": 7,
     "metadata": {},
     "output_type": "execute_result"
    }
   ],
   "source": [
    "from scipy.stats import *\n",
    "white = df[df['race'] == 'w'] \n",
    "black = df[df['race'] == 'b'] \n",
    "TwoTail=ttest_ind(white['yearsexp'],black['yearsexp'], equal_var=True)\n",
    "TwoTail"
   ]
  },
  {
   "cell_type": "markdown",
   "metadata": {
    "colab_type": "text",
    "id": "tup_JV8QL_ho"
   },
   "source": [
    "#### 8.6) Why the randomization of the treatment variable makes control group and treatment group similar?"
   ]
  },
  {
   "cell_type": "markdown",
   "metadata": {
    "colab_type": "text",
    "id": "cdXDxKELMTkd"
   },
   "source": [
    "The answer is the Law of Large Numbers (LLN). \n",
    "\n",
    "A sample average can be brought as close as the\n",
    "average in the population from which it is drawn\n",
    "simply by enlarging the sample.\n",
    "\n",
    "If the samples are large enough, those in randomly\n",
    "assigned treatment and control samples will be\n",
    "similar, because both groups come from the same\n",
    "population."
   ]
  },
  {
   "cell_type": "markdown",
   "metadata": {
    "colab_type": "text",
    "id": "LYFvXGxcP_6H"
   },
   "source": [
    "#### 8.7) When the difference in group means is biased and not capture the average causal effect?"
   ]
  },
  {
   "cell_type": "markdown",
   "metadata": {
    "colab_type": "text",
    "id": "J6rLZpt9YgQf"
   },
   "source": [
    "Unless the treatment variable (T) is randomized, the difference in group means will be upward or downward biased."
   ]
  },
  {
   "cell_type": "markdown",
   "metadata": {
    "colab_type": "text",
    "id": "9J33YBB7QCUd"
   },
   "source": [
    "Let's assume that for a person $i$ the treatment outcome ($Y_{ti}$) is equal to the control outcome ($Y_{ci}$) plus the causal effect ($\\alpha$). \n",
    "\n",
    "$$ Y_{ti} = Y_{ci} + \\kappa $$ \n",
    "\n",
    "Then, the difference in group means is:\n",
    "\n",
    "$$ E[Y_{ti}|T=1] - E[Y_{ci}|T=0] $$ \n",
    "\n",
    "$$ \\alpha + E[Y_{ci}|T=1] - E[Y_{ci}|T=0] $$ \n",
    "\n",
    "Therefore: \n",
    "\n",
    "$$Difference\\ in\\ group\\ means = Average \\ causal \\ effect + Bias$$ \n",
    "\n",
    "If the treatment variable ($T$) is randomized, the outcome variable ($Y$) will be independent of the treatment ($T$).\n",
    "\n",
    "$$ Y \\perp T$$\n",
    "\n",
    "Consequently, the bias term vanishes:\n",
    "\n",
    "$$ E[Y_{ci}|T=1] - E[Y_{ci}|T=0] $$\n",
    "\n",
    "$$ = E[Y_{ci}] - E[Y_{ci}] $$\n",
    "\n",
    "$$ = 0 $$\n"
   ]
  },
  {
   "cell_type": "markdown",
   "metadata": {
    "colab_type": "text",
    "id": "qbGxuJQjRykU"
   },
   "source": [
    "#### 8.8) Does association imply causation?"
   ]
  },
  {
   "cell_type": "markdown",
   "metadata": {
    "colab_type": "text",
    "id": "ahAZTpi3R-BI"
   },
   "source": [
    "No. Causation can only be\n",
    "inferred from a randomized experiment. Consumption of ice cream is positive correlated with skin cancer, but consumption of ice cream is not a major factor to cause skin cancer. It looks that sun light increases both the consumption of ice cream and the incidence of skin cancer."
   ]
  },
  {
   "cell_type": "markdown",
   "metadata": {
    "colab_type": "text",
    "id": "QKZQTL-kzGQm"
   },
   "source": [
    "## Exercises"
   ]
  },
  {
   "cell_type": "markdown",
   "metadata": {
    "colab_type": "text",
    "id": "pyT-WYPlOcrp"
   },
   "source": [
    "1| In the literature of racial discrimination, there are more than 1000 observational studies for each experimental study. Suppose you read 100 observational studies that indicate that racial discrimination is real. Suppose that you also read 1 experimental study that claims no evidence of racial discrimination. Are you more inclined to accept the result of 100 observational studies or the result of the experimental study? Justify your answer."
   ]
  },
  {
   "cell_type": "markdown",
   "metadata": {
    "colab_type": "text",
    "id": "UAdslIkhOepj"
   },
   "source": [
    "2| Interpret the 4 values of the contingency table below. Specifically, state the meaning and compare the values. Argue if there is or not a stronger evidence of racial discrimination.\n",
    "\n",
    "'race': w = White, and b = Black.\n",
    "\n",
    "'h': 1 = higher quality curriculum vitae; 0 = lower quality curriculum vitae. This variable was randomized as well."
   ]
  },
  {
   "cell_type": "code",
   "execution_count": 8,
   "metadata": {
    "colab": {
     "base_uri": "https://localhost:8080/",
     "height": 142
    },
    "colab_type": "code",
    "execution": {
     "iopub.execute_input": "2020-08-03T23:15:27.135582Z",
     "iopub.status.busy": "2020-08-03T23:15:27.134584Z",
     "iopub.status.idle": "2020-08-03T23:15:27.149544Z",
     "shell.execute_reply": "2020-08-03T23:15:27.150542Z"
    },
    "id": "Dvn5fyq9OfxZ",
    "outputId": "b0d95526-6702-4884-e7b7-585aec29a15c"
   },
   "outputs": [
    {
     "data": {
      "text/html": [
       "<div>\n",
       "<style scoped>\n",
       "    .dataframe tbody tr th:only-of-type {\n",
       "        vertical-align: middle;\n",
       "    }\n",
       "\n",
       "    .dataframe tbody tr th {\n",
       "        vertical-align: top;\n",
       "    }\n",
       "\n",
       "    .dataframe thead th {\n",
       "        text-align: right;\n",
       "    }\n",
       "</style>\n",
       "<table border=\"1\" class=\"dataframe\">\n",
       "  <thead>\n",
       "    <tr style=\"text-align: right;\">\n",
       "      <th>h</th>\n",
       "      <th>0.0</th>\n",
       "      <th>1.0</th>\n",
       "    </tr>\n",
       "    <tr>\n",
       "      <th>race</th>\n",
       "      <th></th>\n",
       "      <th></th>\n",
       "    </tr>\n",
       "  </thead>\n",
       "  <tbody>\n",
       "    <tr>\n",
       "      <th>b</th>\n",
       "      <td>0.061881</td>\n",
       "      <td>0.067048</td>\n",
       "    </tr>\n",
       "    <tr>\n",
       "      <th>w</th>\n",
       "      <td>0.084983</td>\n",
       "      <td>0.107931</td>\n",
       "    </tr>\n",
       "  </tbody>\n",
       "</table>\n",
       "</div>"
      ],
      "text/plain": [
       "h          0.0       1.0\n",
       "race                    \n",
       "b     0.061881  0.067048\n",
       "w     0.084983  0.107931"
      ]
     },
     "execution_count": 8,
     "metadata": {},
     "output_type": "execute_result"
    }
   ],
   "source": [
    "contingency_table = pd.crosstab(df['race'], df['h'], \n",
    "                                values=df['call'], aggfunc='mean')\n",
    "contingency_table"
   ]
  },
  {
   "cell_type": "markdown",
   "metadata": {
    "colab_type": "text",
    "id": "m-6Qy03-N5Gz"
   },
   "source": [
    "3| A student is worried about the time she spends in traffic getting to the university. She times the drive for a couple of weeks and finds that it averages 30 minutes."
   ]
  },
  {
   "cell_type": "markdown",
   "metadata": {
    "colab_type": "text",
    "id": "KlooTBwwOZg_"
   },
   "source": [
    "a) The next day, she tries public transit and it takes 35 minutes. The next day, she's back on the roads, convinced that driving is quicker. Does her decision make sense?"
   ]
  },
  {
   "cell_type": "markdown",
   "metadata": {
    "colab_type": "text",
    "id": "DaChBG6QOifW"
   },
   "source": [
    "b) If the student decides to do more testing, how should she decide on the mode of transportation? Should she, for example, drive for a week and then take public transit for a week? What advice would you offer?"
   ]
  },
  {
   "cell_type": "markdown",
   "metadata": {
    "colab_type": "text",
    "id": "rKezT7tf_Axw"
   },
   "source": [
    "## Reference"
   ]
  },
  {
   "cell_type": "markdown",
   "metadata": {
    "colab_type": "text",
    "id": "yDxmE23m_Cdi"
   },
   "source": [
    "Adhikari, A., DeNero, J. (2020). Computational and Inferential Thinking: The Foundations of Data Science. [Link](https://www.inferentialthinking.com/chapters/intro.html) \n",
    "\n",
    "Bertrand, Marianne, and Sendhil Mullainathan. (2004). Are Emily and Greg More Employable Than Lakisha and Jamal? A Field Experiment on Labor Market Discrimination. American Economic Review, 94 (4): 991-1013.\n",
    "\n",
    "Diez, D. M., Barr, C. D., Çetinkaya-Rundel, M. (2014). Introductory Statistics with Randomization and Simulation. [Link](https://www.openintro.org/stat/textbook.php?stat_book=isrs) \n",
    "\n",
    "Lau, S., Gonzalez, J., Nolan, D. (2020). Principles and Techniques of Data Science.  [Link](https://www.textbook.ds100.org/intro)\n",
    "\n"
   ]
  }
 ],
 "metadata": {
  "colab": {
   "name": "8)_Experiment.ipynb",
   "provenance": []
  },
  "kernelspec": {
   "display_name": "Python 3",
   "language": "python",
   "name": "python3"
  },
  "language_info": {
   "codemirror_mode": {
    "name": "ipython",
    "version": 3
   },
   "file_extension": ".py",
   "mimetype": "text/x-python",
   "name": "python",
   "nbconvert_exporter": "python",
   "pygments_lexer": "ipython3",
   "version": "3.7.6"
  }
 },
 "nbformat": 4,
 "nbformat_minor": 1
}