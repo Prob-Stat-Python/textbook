{
 "cells": [
  {
   "cell_type": "markdown",
   "metadata": {
    "colab_type": "text",
    "id": "3xG4g-yFKnhm"
   },
   "source": [
    "# 6) Confidence Intervals"
   ]
  },
  {
   "cell_type": "markdown",
   "metadata": {
    "colab_type": "text",
    "id": "q-cWOMku-lx_"
   },
   "source": [
    "Vitor Kamada\n",
    "\n",
    "econometrics.methods@gmail.com\n",
    "\n",
    "Last updated 7-21-2020"
   ]
  },
  {
   "cell_type": "markdown",
   "metadata": {
    "colab_type": "text",
    "id": "JX0o6kS_g2mP"
   },
   "source": [
    "#### 6.1) What is the confidence interval?"
   ]
  },
  {
   "cell_type": "markdown",
   "metadata": {
    "colab_type": "text",
    "id": "2-Ufv3wYnbHe"
   },
   "source": [
    " Confidence interval is a range of values for a parameter of the sampled population. \n",
    "\n",
    " Narrow confidence interval suggests precise estimate. Wide confidence interval suggests that little is known about the population."
   ]
  },
  {
   "cell_type": "markdown",
   "metadata": {
    "colab_type": "text",
    "id": "aVp5JdjwsPgS"
   },
   "source": [
    "#### 6.2) What is the z-interval for proportion ($p$)?"
   ]
  },
  {
   "cell_type": "markdown",
   "metadata": {
    "colab_type": "text",
    "id": "ELXKzKxB4RRs"
   },
   "source": [
    "A confidence interval that assumes a normal model for the sampling distribution.\n",
    "\n",
    "Confidence interval for proportion ($p$) is:\n",
    "\n",
    "$$ \\hat{p}\\pm z_{\\frac{\\alpha}{2}} \\cdot se(\\hat{p}) $$\n",
    "\n",
    "$$ \\hat{p}\\pm z_{\\frac{\\alpha}{2}}\\sqrt{\\frac{\\hat{p}(1-\\hat{p})}{n}} $$\n",
    "\n",
    "where $P(Z>z_{\\alpha})=\\alpha$ for $Z\\sim N(0,1)$. For a 95% confidence interval, the level of significance ($\\alpha$) is 5%, then $z_{2.5\\%} = 1.96$."
   ]
  },
  {
   "cell_type": "markdown",
   "metadata": {
    "colab_type": "text",
    "id": "8HZI3rTb6IgF"
   },
   "source": [
    "#### 6.3) Microsoft believes that 75% of Windows users are super satisfied with the operational system. If that's the case, what range holds 95% of all sample proportions if $n=225$?"
   ]
  },
  {
   "cell_type": "markdown",
   "metadata": {
    "colab_type": "text",
    "id": "Fcqkoi_56yMu"
   },
   "source": [
    "$$ \\hat{p}\\pm z_{\\frac{\\alpha}{2}}\\sqrt{\\frac{\\hat{p}(1-\\hat{p})}{n}} $$\n",
    "\n",
    "$$ 0.75\\pm 1.96\\sqrt{\\frac{0.75(1-{0.75})}{225}} $$\n",
    "\n",
    "$$ 0.693 \\leq p \\leq  0.807 $$"
   ]
  },
  {
   "cell_type": "markdown",
   "metadata": {
    "colab_type": "text",
    "id": "0iaeO9mbAsUr"
   },
   "source": [
    "#### 6.4) What is Student's t-distribution?"
   ]
  },
  {
   "cell_type": "markdown",
   "metadata": {
    "colab_type": "text",
    "id": "RdolBjuqA5rB"
   },
   "source": [
    "Student's t-distribution is a model for the sampling distribution that compensates for substituting the standard deviation of the sample ($s$) for the standard deviation of the population ($\\sigma$) in the standard error.\n",
    "\n",
    "Student's t-distribution is the exact sampling distribution of the random variable:\n",
    "\n",
    "$$T_{n-1} = \\frac{\\bar{X}-\\mu}{\\frac{S}{\\sqrt{n}}}$$\n",
    "\n",
    "where $(n-1)$ is the degrees of freedom (df). As $n \\rightarrow \\infty$, t-distribution converge to normal distribution. \n",
    "\n",
    "See in the chart that t-distribution with degrees of freedom ($df=5$) has thick tails that accommodates more numbers of outliers than the normal distribution. Note that t-distribution with degrees of freedom ($df=30$) is indistinguishable from normal distribution.\n"
   ]
  },
  {
   "cell_type": "code",
   "execution_count": 1,
   "metadata": {
    "colab": {
     "base_uri": "https://localhost:8080/",
     "height": 265
    },
    "colab_type": "code",
    "id": "jxjNwaAOFmB6",
    "outputId": "ed6f92e4-3cee-465f-d33b-7cdf80c0c483",
    "scrolled": true
   },
   "outputs": [
    {
     "data": {
      "image/png": "[encoded data removed]",
      "text/plain": [
       "<Figure size 432x288 with 1 Axes>"
      ]
     },
     "metadata": {
      "needs_background": "light"
     },
     "output_type": "display_data"
    }
   ],
   "source": [
    "import numpy as np\n",
    "from scipy.stats import t, norm\n",
    "import matplotlib.pyplot as plt\n",
    "%matplotlib inline\n",
    "\n",
    "x = np.linspace(-4, 4, 100)\n",
    "\n",
    "t_dist5 = plt.plot(x, t(5).pdf(x), 'b', label='t, df=5')\n",
    "t_dist30 = plt.plot(x, t(30).pdf(x), 'g--', label='t, df=30')\n",
    "\n",
    "normal_dist = plt.plot(x, norm.pdf(x), 'r--',label='Normal')\n",
    "\n",
    "plt.legend()\n",
    "plt.show()"
   ]
  },
  {
   "cell_type": "markdown",
   "metadata": {
    "colab_type": "text",
    "id": "PTDLZ7FSE4Im"
   },
   "source": [
    "#### 6.5) What is the t-interval for the mean ($\\mu$)?"
   ]
  },
  {
   "cell_type": "markdown",
   "metadata": {
    "colab_type": "text",
    "id": "0cRVsDVxFK7I"
   },
   "source": [
    "The $100(1-\\alpha)\\%$ confidence t-interval for $\\mu$ is:\n",
    "\n",
    "$$ \\bar{x}\\ \\pm t_{\\frac{\\alpha}{2},n-1}\\frac{s}{\\sqrt{n}}$$\n",
    "\n",
    "where $P(T_{n-1} > t_{\\frac{\\alpha}{2},n-1}) = \\frac{\\alpha}{2}$ for $T_{n-1}$ distributed as a student's t-random variable with degrees of freedom ($df = n-1$)."
   ]
  },
  {
   "cell_type": "markdown",
   "metadata": {
    "colab_type": "text",
    "id": "1g2nbXIjrapw"
   },
   "source": [
    "#### 6.6) A manager claims that the clients have on average $6,200 in the bank. How reasonable is the claim?"
   ]
  },
  {
   "cell_type": "markdown",
   "metadata": {
    "colab_type": "text",
    "id": "UJGQi461uPXp"
   },
   "source": [
    "A random sample of 49 clients shows the average $\\bar{x}=4,200$ with standard deviation ($s = 3,500$).\n"
   ]
  },
  {
   "cell_type": "markdown",
   "metadata": {
    "colab_type": "text",
    "id": "lCQlCii-y9Uv"
   },
   "source": [
    "We can use the code below to get:\n",
    "\n",
    "$$t_{\\frac{\\alpha}{2},n-1} =\n",
    " t_{2.5\\%,48} =-2.01 $$"
   ]
  },
  {
   "cell_type": "code",
   "execution_count": 2,
   "metadata": {
    "colab": {
     "base_uri": "https://localhost:8080/",
     "height": 34
    },
    "colab_type": "code",
    "id": "-1xZUMSky-eV",
    "outputId": "1ccbad19-6b42-46e5-a8c0-eb64c414485b"
   },
   "outputs": [
    {
     "data": {
      "text/plain": [
       "-2.010634754696446"
      ]
     },
     "execution_count": 2,
     "metadata": {},
     "output_type": "execute_result"
    }
   ],
   "source": [
    "t.ppf(0.025,48)"
   ]
  },
  {
   "cell_type": "markdown",
   "metadata": {
    "colab_type": "text",
    "id": "sYD785msy2Z5"
   },
   "source": [
    "The 95% confidence interval for $\\mu$ is:\n",
    "\n",
    "$$ \\bar{x}\\ \\pm t_{\\frac{\\alpha}{2},n-1}\\frac{s}{\\sqrt{n}}$$\n",
    "\n",
    "$$ 4,200 \\pm 2.01 \\frac{3,500}{\\sqrt{49}} $$\n",
    "\n",
    "$$ \\$3,195 \\leq \\mu \\leq \\$5,205 $$ \n",
    "\n",
    "The manager' claim is not compatible with the data. The average $6,200 is far above the confidence interval."
   ]
  },
  {
   "cell_type": "markdown",
   "metadata": {
    "colab_type": "text",
    "id": "Ycst7991279_"
   },
   "source": [
    "#### 6.7) What is the margin of error?"
   ]
  },
  {
   "cell_type": "markdown",
   "metadata": {
    "colab_type": "text",
    "id": "XBpAyHWiWL_S"
   },
   "source": [
    "Margin of error (ME) of 95% confidence interval for $\\mu$:\n",
    "\n",
    "$$ ME = t_{2.5\\%,n-1}\\frac{s}{\\sqrt{n}}$$ \n",
    "\n",
    "Margin of error (ME) of 95% confidence interval for $p$:\n",
    "\n",
    "$$ ME = z_{2.5\\%}\\frac{\\sqrt{\\hat{p}(1-\\hat{p})}}{\\sqrt{n}}$$ \n",
    "\n",
    "It is very common to round and replace the $t_{2.5\\%,n-1}$ and $z_{2.5\\%}$ by 2. \n"
   ]
  },
  {
   "cell_type": "markdown",
   "metadata": {
    "colab_type": "text",
    "id": "vI3oBWFdZ9Yr"
   },
   "source": [
    "#### 6.8) Justify the numbers below:\n",
    "![alt text](https://github.com/causal-methods/Data/raw/master/figures/MarginError.PNG)"
   ]
  },
  {
   "cell_type": "markdown",
   "metadata": {
    "colab_type": "text",
    "id": "V6qwF3VYbeYn"
   },
   "source": [
    "$$ ME = z_{2.5\\%}\\frac{\\sqrt{\\hat{p}(1-\\hat{p})}}{\\sqrt{n}}$$ \n",
    "\n",
    "Replace $z_{2.5\\%}$ by 2. The variance, $\\hat{p}(1-\\hat{p})$, is maximum, when $\\hat{p} = \\frac{1}{2}$\n",
    "\n",
    "$$ ME = 2\\frac{\\sqrt{\\frac{1}{2}(1-\\frac\n",
    "{1}{2})}}{\\sqrt{n}}$$ \n",
    "\n",
    "$$ ME = 2\\frac{\\sqrt{\\frac{1}{2}(1-\\frac\n",
    "{1}{2})}}{\\sqrt{n}}$$ \n",
    "\n",
    "$$ ME = 2\\frac{(\\frac\n",
    "{1}{2})}{\\sqrt{n}}$$ \n",
    "\n",
    "$$ ME = \\frac{1}{\\sqrt{n}}$$\n",
    "\n",
    "Let's test $n=400$:\n",
    "\n",
    "$$ ME = \\frac{1}{\\sqrt{400}} $$\n",
    "\n",
    "$$= \\frac{1}{20} $$\n",
    "\n",
    "$$= 0.05 $$\n",
    "\n",
    "$$=5\\% $$"
   ]
  },
  {
   "cell_type": "markdown",
   "metadata": {
    "colab_type": "text",
    "id": "QKZQTL-kzGQm"
   },
   "source": [
    "## Exercises"
   ]
  },
  {
   "cell_type": "markdown",
   "metadata": {
    "colab_type": "text",
    "id": "-DDO3Llj9Of_"
   },
   "source": [
    "1| Find the 95% z-interval for the parameter $p$, given $\\hat{p}=0.5$, $n=36$."
   ]
  },
  {
   "cell_type": "markdown",
   "metadata": {
    "colab_type": "text",
    "id": "yFdvzI_R5FOO"
   },
   "source": [
    "2| A school claims that the students have on average a score of 690 in SAT Math Test. How reasonable is the claim? A random sample of 36 students from this school has average $\\bar{x}= 650$, with standard deviation ($s=100$)."
   ]
  },
  {
   "cell_type": "markdown",
   "metadata": {
    "colab_type": "text",
    "id": "c64xBRe8BIzI"
   },
   "source": [
    "3| Do you agree with the statement: \"All other things the same, a 90% confidence interval is narrow than a 95% confidence interval.\" Justify."
   ]
  },
  {
   "cell_type": "markdown",
   "metadata": {
    "colab_type": "text",
    "id": "rkXN3LWHBsWb"
   },
   "source": [
    "4| What is the probability that $\\bar{X}>\\mu?$"
   ]
  },
  {
   "cell_type": "markdown",
   "metadata": {
    "colab_type": "text",
    "id": "VeUepJ_hCSK_"
   },
   "source": [
    "5|  What is the coverage of the confidence interval $[\\hat{p}$ to $1]$?"
   ]
  },
  {
   "cell_type": "markdown",
   "metadata": {
    "colab_type": "text",
    "id": "VAQy_n-9emul"
   },
   "source": [
    "6| Fox News interviewed 500 voters and claimed that the margin of error is less than 3% to predict the outcome of the election. Do you agree? Justify."
   ]
  },
  {
   "cell_type": "markdown",
   "metadata": {
    "colab_type": "text",
    "id": "bkzu36vAdZMx"
   },
   "source": [
    "## Reference"
   ]
  },
  {
   "cell_type": "markdown",
   "metadata": {
    "colab_type": "text",
    "id": "09okYjjcdZS2"
   },
   "source": [
    "Adhikari, A., DeNero, J. (2020). Computational and Inferential Thinking: The Foundations of Data Science. [Link](https://www.inferentialthinking.com/chapters/intro.html) \n",
    "\n",
    "Adhikari, A., Pitman, J. (2020). Probability for Data Science. [Link](http://prob140.org/textbook/README.html) \n",
    "\n",
    "Diez, D. M., Barr, C. D., Çetinkaya-Rundel, M. (2014). Introductory Statistics with Randomization and Simulation. [Link](https://www.openintro.org/stat/textbook.php?stat_book=isrs) \n",
    "\n",
    "Lau, S., Gonzalez, J., Nolan, D. (2020). Principles and Techniques of Data Science.  [Link](https://www.textbook.ds100.org/intro) "
   ]
  }
 ],
 "metadata": {
  "colab": {
   "name": "6)_Confidence_Intervals.ipynb",
   "provenance": []
  },
  "kernelspec": {
   "display_name": "Python 3",
   "language": "python",
   "name": "python3"
  },
  "language_info": {
   "codemirror_mode": {
    "name": "ipython",
    "version": 3
   },
   "file_extension": ".py",
   "mimetype": "text/x-python",
   "name": "python",
   "nbconvert_exporter": "python",
   "pygments_lexer": "ipython3",
   "version": "3.7.6"
  }
 },
 "nbformat": 4,
 "nbformat_minor": 1
}
