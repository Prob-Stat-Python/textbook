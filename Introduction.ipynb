{
  "nbformat": 4,
  "nbformat_minor": 0,
  "metadata": {
    "colab": {
      "name": "Introduction.ipynb",
      "provenance": []
    },
    "kernelspec": {
      "display_name": "Python 3",
      "language": "python",
      "name": "python3"
    },
    "language_info": {
      "codemirror_mode": {
        "name": "ipython",
        "version": 3
      },
      "file_extension": ".py",
      "mimetype": "text/x-python",
      "name": "python",
      "nbconvert_exporter": "python",
      "pygments_lexer": "ipython3",
      "version": "3.7.6"
    }
  },
  "cells": [
    {
      "cell_type": "markdown",
      "metadata": {
        "colab_type": "text",
        "id": "3xG4g-yFKnhm"
      },
      "source": [
        "# Probability and Statistics with Python"
      ]
    },
    {
      "cell_type": "markdown",
      "metadata": {
        "colab_type": "text",
        "id": "q-cWOMku-lx_"
      },
      "source": [
        "By [Vitor Kamada](https://www.linkedin.com/in/vitor-kamada-1b73a078)\n",
        "\n",
        "E-mail: econometrics.methods@gmail.com\n",
        "\n",
        "Last updated 9-15-2020"
      ]
    },
    {
      "cell_type": "markdown",
      "metadata": {
        "id": "OkYGjUS9KWb3",
        "colab_type": "text"
      },
      "source": [
        "This [book](https://prob-stat-python.github.io/textbook) covers the main concepts of Probability and Statistics necessary to understand advanced methods in Econometrics, Data Science and Machine Learning. It was designed to provide the foundations for my other book: [Causal Inference with Python](https://causal-methods.github.io/Book\n",
        ")."
      ]
    },
    {
      "cell_type": "markdown",
      "metadata": {
        "colab_type": "text",
        "id": "lWweIrNZh54a"
      },
      "source": [
        "**Videos for this book:**\n",
        "\n",
        "Tutorials on [**Probability and \n",
        "Statistics**](https://www.youtube.com/watch?v=HsoUlVK9-Qc&list=PLjGOAHAfqvl3HDF-VhkocmabyXGaYG0Vc).\n",
        "\n",
        "Learn to code with [**Python**](https://www.youtube.com/watch?v=gOetkGQCLYI&list=PLjGOAHAfqvl1dH3pWtUPbI8ldtYCHpLIV)."
      ]
    },
    {
      "cell_type": "markdown",
      "metadata": {
        "colab_type": "text",
        "id": "39HT2e-4oD8B"
      },
      "source": [
        "**Material for Econometrics courses**\n",
        "\n",
        "Syllabi, Slides/Notes, Python and R code  from my Bachelor, Master, and PhD courses in Econometrics can be found in my [Github](https://github.com/VitorKamada).\n"
      ]
    }
  ]
}